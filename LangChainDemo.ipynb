{
  "nbformat": 4,
  "nbformat_minor": 0,
  "metadata": {
    "colab": {
      "provenance": [],
      "gpuType": "V28",
      "authorship_tag": "ABX9TyMIEx7913avk3kU6LHrs91S",
      "include_colab_link": true
    },
    "kernelspec": {
      "name": "python3",
      "display_name": "Python 3"
    },
    "language_info": {
      "name": "python"
    },
    "accelerator": "TPU"
  },
  "cells": [
    {
      "cell_type": "markdown",
      "metadata": {
        "id": "view-in-github",
        "colab_type": "text"
      },
      "source": [
        "<a href=\"https://colab.research.google.com/github/TheVhd/rags/blob/main/LangChainDemo.ipynb\" target=\"_parent\"><img src=\"https://colab.research.google.com/assets/colab-badge.svg\" alt=\"Open In Colab\"/></a>"
      ]
    },
    {
      "cell_type": "code",
      "source": [
        "pip install jq"
      ],
      "metadata": {
        "id": "aITa9x8WP5dp"
      },
      "execution_count": null,
      "outputs": []
    },
    {
      "cell_type": "code",
      "source": [
        "! pip install langchain_community tiktoken langchain-openai langchainhub chromadb langchain"
      ],
      "metadata": {
        "id": "6QOG1LHdP5an"
      },
      "execution_count": null,
      "outputs": []
    },
    {
      "cell_type": "code",
      "source": [
        "pip install pypdf"
      ],
      "metadata": {
        "colab": {
          "base_uri": "https://localhost:8080/"
        },
        "id": "ORY7JFzayrRb",
        "outputId": "16061c75-6098-42eb-c006-ab846f26d954"
      },
      "execution_count": null,
      "outputs": [
        {
          "output_type": "stream",
          "name": "stdout",
          "text": [
            "Collecting pypdf\n",
            "  Downloading pypdf-4.2.0-py3-none-any.whl (290 kB)\n",
            "\u001b[2K     \u001b[90m━━━━━━━━━━━━━━━━━━━━━━━━━━━━━━━━━━━━━━━━\u001b[0m \u001b[32m290.4/290.4 kB\u001b[0m \u001b[31m2.3 MB/s\u001b[0m eta \u001b[36m0:00:00\u001b[0m\n",
            "\u001b[?25hRequirement already satisfied: typing_extensions>=4.0 in /usr/local/lib/python3.10/dist-packages (from pypdf) (4.11.0)\n",
            "Installing collected packages: pypdf\n",
            "Successfully installed pypdf-4.2.0\n"
          ]
        }
      ]
    },
    {
      "cell_type": "code",
      "source": [
        "from langchain_community.document_loaders import PyPDFLoader\n",
        "\n",
        "loader = PyPDFLoader(\"/content/HighSchool_bio.pdf\")\n",
        "pages = loader.load_and_split()"
      ],
      "metadata": {
        "id": "BxppjkccysT2"
      },
      "execution_count": null,
      "outputs": []
    },
    {
      "cell_type": "code",
      "source": [
        "pages[15]"
      ],
      "metadata": {
        "colab": {
          "base_uri": "https://localhost:8080/"
        },
        "id": "vDZJ0PGLyvVN",
        "outputId": "e40e8bda-0021-4ede-a584-9710d2eb20b2"
      },
      "execution_count": null,
      "outputs": [
        {
          "output_type": "execute_result",
          "data": {
            "text/plain": [
              "Document(page_content='Glycolysis means ‘splitting of sugar’. It takes place in all organisms, in the cytoplasm of the\\ncell. It is the first stage of respiration—both aerobic and anaerobic. After glycolysis, its product\\n(pyruvate) gets converted into different compou nds depending on whether further reactions take\\nplace in the presence or absence of oxygen.\\nGlycolysis is the last energy-producing stage in case oxygen is absent or in low supply, and in\\ncells that lack mitochondria. After glycolysis, further anaerobic reactions produce differentproducts like lactic acid orethanol (ethyl alcohol) in different situations. This step completes the\\nanaerobic \\nrespiration of glucose. Anaerobic r espiration resulting in the formation of these\\nproducts is also called fermentation. Examples of lactic acid fermentation and alcohol\\nfermenta\\ntion are given below.\\nIn a low supply of oxygen, yeast converts pyruvate to ethanol and carbon dioxide. Certain\\nbacteria (which lack mitochondria) convert pyruvate to lactic acid. When our muscles areoverworked, blood is unable to supply oxygen fast enough for producing energy through aerobicmeans. In this low-oxygen condition pyruvate gets converted to lactic acid. Accumulation ofexcess lactic acid in the muscles causes pain.\\nIn aerobic respiration, a different path is follo wed after glycolysis. In the presence of oxygen,\\nin cells that have mitochondria, pyruvate is oxidized further in a number of steps to producemore energy, carbon dioxide and water.\\nAerobic Respiration\\nThe complete oxidation of food yielding carbon dioxide, water and energy in the presence of\\noxygen is called aerobic respiration.\\nAerobic respiration takes place inside the mitochondria. After glycolysis, pyruvate enters\\nthe\\nmitochondria and is oxidized in a series of reactions. The products of these reactions\\ninclude ATP, carbon dioxide and water. The number of molecules of ATP formed in aerobic\\nrespiration is 38. Hence the energy made available is much greater than in the case ofanaerobic respiration.\\nInside the mitochondria, when an inorganic phosphate group ( PO\\n43/c45,represented here as Pi)\\ngets attached to a compound called ADP (adenosine diphosphate), a molecule of ATP (adenosine\\ntriphosphate) is formed.\\nADP P ATPi/c43/c190 /c174\\nThe bond holding the last (terminal) phosphate group is easily broken when ATP reacts with\\nwater. In the process, energy is produced. This energy is used to drive cellular processes that are\\nendothermic (i.e., processes that absorb energy). Processes like protein synthesis, contraction ofmuscles, etc., get energy from\\nATP.12 Foundation Science: Biology for Class 10Foundation Sci Bio Class 10 12\\nFig. 2.1 Different ways in which glucose gets oxidized', metadata={'source': '/content/HighSchool_bio.pdf', 'page': 14})"
            ]
          },
          "metadata": {},
          "execution_count": 15
        }
      ]
    },
    {
      "cell_type": "markdown",
      "source": [
        "## Environment settings"
      ],
      "metadata": {
        "id": "KfvVnZxmN8D2"
      }
    },
    {
      "cell_type": "code",
      "source": [
        "from google.colab import userdata\n",
        "openai_api_key = userdata.get('OPENAI_API_KEY')"
      ],
      "metadata": {
        "id": "MJDXhqcePzdL"
      },
      "execution_count": null,
      "outputs": []
    },
    {
      "cell_type": "code",
      "source": [
        "from google.colab import userdata\n",
        "langsmith_api_key = userdata.get('langsmith')"
      ],
      "metadata": {
        "id": "QSRL-f85PRlU"
      },
      "execution_count": null,
      "outputs": []
    },
    {
      "cell_type": "code",
      "source": [],
      "metadata": {
        "id": "SDM0MQqYPxM4"
      },
      "execution_count": null,
      "outputs": []
    },
    {
      "cell_type": "code",
      "source": [
        "import os\n",
        "os.environ['LANGCHAIN_TRACING_V2'] = 'true'\n",
        "os.environ['LANGCHAIN_ENDPOINT'] = 'https://api.smith.langchain.com'\n",
        "os.environ['LANGCHAIN_API_KEY'] = langsmith_api_key"
      ],
      "metadata": {
        "id": "4IvzzEOBORXK"
      },
      "execution_count": null,
      "outputs": []
    },
    {
      "cell_type": "code",
      "source": [
        "# Split\n",
        "from langchain.text_splitter import RecursiveCharacterTextSplitter\n",
        "text_splitter = RecursiveCharacterTextSplitter.from_tiktoken_encoder(\n",
        "    chunk_size=300,\n",
        "    chunk_overlap=50)\n",
        "\n",
        "# Make splits\n",
        "splits = text_splitter.split_documents(pages)\n",
        "\n",
        "# Index\n",
        "from langchain_openai import OpenAIEmbeddings\n",
        "from langchain_community.vectorstores import Chroma\n",
        "vectorstore = Chroma.from_documents(documents=splits,\n",
        "                                    embedding=OpenAIEmbeddings(api_key = openai_api_key))\n",
        "\n",
        "retriever = vectorstore.as_retriever()"
      ],
      "metadata": {
        "id": "5mXui1NiORP5"
      },
      "execution_count": null,
      "outputs": []
    },
    {
      "cell_type": "code",
      "source": [
        "from langchain.prompts import ChatPromptTemplate\n",
        "\n",
        "# Multi Query: Different Perspectives\n",
        "template = \"\"\"You are an AI language model assistant. Your task is to generate five\n",
        "different versions of the given user question to retrieve relevant documents from a vector\n",
        "database. By generating multiple perspectives on the user question, your goal is to help\n",
        "the user overcome some of the limitations of the distance-based similarity search.\n",
        "Provide these alternative questions separated by newlines. Original question: {question}\"\"\"\n",
        "prompt_perspectives = ChatPromptTemplate.from_template(template)\n",
        "\n",
        "from langchain_core.output_parsers import StrOutputParser\n",
        "from langchain_openai import ChatOpenAI\n",
        "\n",
        "generate_queries = (\n",
        "    prompt_perspectives\n",
        "    | ChatOpenAI(api_key = openai_api_key, temperature=0)\n",
        "    | StrOutputParser()\n",
        "    | (lambda x: x.split(\"\\n\"))\n",
        ")"
      ],
      "metadata": {
        "id": "VK9YRsEDOQZ5"
      },
      "execution_count": null,
      "outputs": []
    },
    {
      "cell_type": "code",
      "source": [
        "from langchain.load import dumps, loads\n",
        "\n",
        "def get_unique_union(documents: list[list]):\n",
        "    \"\"\" Unique union of retrieved docs \"\"\"\n",
        "    # Flatten list of lists, and convert each Document to string\n",
        "    flattened_docs = [dumps(doc) for sublist in documents for doc in sublist]\n",
        "    # Get unique documents\n",
        "    unique_docs = list(set(flattened_docs))\n",
        "    # Return\n",
        "    return [loads(doc) for doc in unique_docs]\n",
        "\n",
        "# Retrieve\n",
        "question = \"What is Glycolysis?\"\n",
        "retrieval_chain = generate_queries | retriever.map() | get_unique_union\n",
        "docs = retrieval_chain.invoke({\"question\":question})\n",
        "len(docs)"
      ],
      "metadata": {
        "colab": {
          "base_uri": "https://localhost:8080/"
        },
        "id": "hU4932K5Pe32",
        "outputId": "14c4342c-d855-45d5-c51a-499885d1a17e"
      },
      "execution_count": null,
      "outputs": [
        {
          "output_type": "stream",
          "name": "stderr",
          "text": [
            "/usr/local/lib/python3.10/dist-packages/langchain_core/_api/beta_decorator.py:87: LangChainBetaWarning: The function `loads` is in beta. It is actively being worked on, so the API may change.\n",
            "  warn_beta(\n"
          ]
        },
        {
          "output_type": "execute_result",
          "data": {
            "text/plain": [
              "11"
            ]
          },
          "metadata": {},
          "execution_count": 24
        }
      ]
    },
    {
      "cell_type": "code",
      "source": [
        "from operator import itemgetter\n",
        "from langchain_openai import ChatOpenAI\n",
        "from langchain_core.runnables import RunnablePassthrough\n",
        "\n",
        "# RAG\n",
        "template = \"\"\"Answer the following question based on this context:\n",
        "\n",
        "{context}\n",
        "\n",
        "Question: {question}\n",
        "\"\"\"\n",
        "\n",
        "prompt = ChatPromptTemplate.from_template(template)\n",
        "\n",
        "llm = ChatOpenAI(api_key = openai_api_key, temperature=0)\n",
        "\n",
        "final_rag_chain = (\n",
        "    {\"context\": retrieval_chain,\n",
        "     \"question\": itemgetter(\"question\")}\n",
        "    | prompt\n",
        "    | llm\n",
        "    | StrOutputParser()\n",
        ")\n",
        "\n",
        "final_rag_chain.invoke({\"question\":question})"
      ],
      "metadata": {
        "colab": {
          "base_uri": "https://localhost:8080/",
          "height": 70
        },
        "id": "uNLcpq3mPe1J",
        "outputId": "acbb4f8a-e6be-4702-8f30-4ee0f6e129ea"
      },
      "execution_count": null,
      "outputs": [
        {
          "output_type": "execute_result",
          "data": {
            "text/plain": [
              "'Glycolysis is the process of splitting sugar and it takes place in all organisms, in the cytoplasm of the cell. It is the first stage of respiration, both aerobic and anaerobic. After glycolysis, its product (pyruvate) gets converted into different compounds depending on whether further reactions take place in the presence or absence of oxygen.'"
            ],
            "application/vnd.google.colaboratory.intrinsic+json": {
              "type": "string"
            }
          },
          "metadata": {},
          "execution_count": 26
        }
      ]
    },
    {
      "cell_type": "markdown",
      "source": [
        "## RAG-Fusion"
      ],
      "metadata": {
        "id": "_djGBJXPRMva"
      }
    },
    {
      "cell_type": "markdown",
      "source": [
        "![image.png](data:image/png;base64,iVBORw0KGgoAAAANSUhEUgAABnMAAAHdCAYAAADGl4yPAAAAAXNSR0IArs4c6QAAAARnQU1BAACxjwv8YQUAAAAJcEhZcwAADsMAAA7DAcdvqGQAAP+lSURBVHhe7J0H3NXj+8dvW0tbu1TSpBBKKjsrIZkZmREJFRElM9lkFgqh+El2CCmrtFRoqLQ3lYb1/z/vq3M/vp3OfHrGOef5vF+v7/Oc+T3fcc/rc13XvdP/ZeGEEEIIIYQQQgghhBBCCCFESrJz6L8QQgghhBBCCCGEEEIIIYRIQSTmCCGEEEIIIYQQQgghhBBCpDASc4QQQgghhBBCCCGEEEIIIVIYiTlCCCGEEEIIIYQQQgghhBApjMQcIYQQQgghhBBCCCGEEEKIFEZijhBCCCGEEEIIIYQQQgghRAojMUcIIYQQQgghhBBCCCGEECKFkZgjhBBCCCGEEEIIIYQQQgiRwkjMEUIIIYQQQgghhBBCCCGESGEk5gghhBBCCCGEEEIIIYQQQqQwEnOEEEIIIYQQQgghhBBCCCFSGIk5QgghhBBCCCGEEEIIIYQQKYzEHCGEEEIIIYQQQgghhBBCiBRGYo4QQgghhBBCCCGEEEIIIUQKIzFHCCGEEEIIIYQQQgghhBAihZGYI4QQQgghhBBCCCGEEEIIkcJIzBFCCCGEEEIIIYQQQgghhEhhJOYIIYQQQgghhBBCCCGEEEKkMBJzhBBCCCGEEEIIIYQQQgghUhiJOUIIIYQQQgghhBBCCCGEECmMxBwhhBBCCCGEEEIIIYQQQogUZqf/yyL0WAghhBBCCCFEijFp0iRXpEgRV7x4cVesWDHbdt99d7fTTjuFPpE7MDX866+/bPvzzz+3+R98/e+//3b//vtv6FvJU6tWLVe+fPnQMyGEEEIIIUQiSMwRQgghhBBJkxtDyNw2RAuRiTRu3NhNmzYt9CxzeOutt9ypp57qdt5ZySKEEEIIIYRIBIk5QgghhBCFGLzr8bIP977nNTYer1271q1evTp7W7Vqlfvtt9/cH3/8YdvGjRuzH4dvULlyZVenTh1Xu3Ztt8suu9hrUL16ddeqVStXpUoVe4644zcMvMHHfG+33Xazbdddd5UBWBQKZs6caYLH3LlzXcmSJa1O/vPPP9nbjkTH5IRgHfV1M/y5fy34P8imTZuszXjkkUfcVVddZRFGQgghhBBCiPhIzBFCCCGEKCRs3rzZRBjEmd9//93EFp4vX77cLV26NHtbtmyZW7Nmjb23fv16MxrnFaSNqlmzphl9EWkw7O6xxx723288L126tNt7771dxYoVLT3TXnvt5YoWLWrpptiH33gt3HgsRLry888/u5NPPtnEnC5dulgdoO6yUT+p00Fhx//3jxMhXHgJfxx87uto+IbISj0NbnvuuWf2f74P69atc8OHD3djxoyRmCOEEEIIIUSSSMwRQgghhMhAGOJh7F24cKFbtGiRiTT8X7BggW28vmLFChNrEvXuxyCLcZa1O4IbAgr/EVZ47EUWvO8nTJhgBmnEFwy+W7ZssSggtpyKRBwHwk3ZsmVduXLlzMBdoUKFbLFnv/32s61atWp2vEKkK3PmzHEnnnii/b/11lvdXXfdFXpnK9TdYDRd+ON4Uz0v0hD5Fr4h3IQ/9qJMTpkyZYq7+uqr3ddffy0xRwghhBBCiCSRmCOEEEIIkSEgzMyePdu2n376ybbFixebkEP0zYYNG6IadzHUEv1SpkwZE0n8xnOEkxIlSmSLNXjasyHgBB97Ucf/J53S999/77755htXo0YNe82nc+M/x1eqVCmLtEHYIVIIz33Og8gD/vvn/CdiiKiiWCAY8VukdKtXr56ld2vYsKGJO6R7EyKdmDdvnmvTpo3VaUSQgQMHht5JT7777jt3+eWX2xpAEnOEEEIIIYRIDok5QgghhBBpDmvYfPLJJ+6dd95x06dPtxRpiB5+zZogCDKkNWOrVauWCR+VKlUyQSUo1AQ3n0aJLVnPfIaaiDrshwiAIEQOsW9+l895kSfaRqTPypUr3S+//GIbhm7/mIifcNg3IhSilE/TRpRD+/bt7bEQqc6vv/7qjjvuODdr1ix33nnnuVdeeSX0Tnoybtw416lTJ4s0kpgjhBBCCCFEckjMEUIIIYRIUxA4hgwZ4gYPHmxRLog3pFfyIJ6QdqxFixbumGOOcY0bN7bUYxhPSZvkBRqfQikdCKaVCm5E/yBokb7pxx9/tGsTDtcD4ejoo492/fv3t8gdIVIZIuuou6QqPOmkk9x7770Xeic9+fzzz92FF15oaR4l5gghhBBCCJEcEnOEEEIIIdIQBAyMoq+99po994uTEwFz+OGHm2DRqlUrd+CBBxYqYynp2lgTaNSoUe7ll192M2fONGEnfH2eM8880z3++OMmdgmRChDBhthBWUWUZVu9erXr16+fW7JkiaUO7Nmz5zbvswWf8zjRNbBiQQRecM0cNp7714LvRfqcf9ykSRNLb+gj+j799FPXsWNHS5koMUcIIYQQQojkkJgjhBBCCJFmYPRlMfSHH37YDKakEUO4QaAgCqdKlSo7vFB5JsA6O2PHjjVhh6gdUrSxbpAHI/kZZ5zhypUr5ypUqBB6VYj8hxSCiB6sFZVpkPqRdatg9OjR7txzz7VUkBJzhBBCCCGESA6JOUIIIYQQacakSZPckUceacIE3vp33HGHravBujciMiy8/u6777oPP/zQUlYh9ADXjCgm1iNp1KiRrSMkRH4zYcIEK4ebN292devWtUg7hFpEWaJtfOQdwgeP2fx7PtVgeHSO34LPIz2O9j6/748j+Dj8f7TXiL5BtHnxxRfdRRddZOf5wQcfuLPPPtutX79eYo4QQgghhBBJIjFHCCGEECLNGD9+vC3kzxo5/EekEPHZsmWLmzFjhq0xxELywSiIYsWKuZtvvtn17t079IoQ+QdrPSHIAhFjTZs2NfEGcQSBBnGE9a2KFCmSncYMMQcRh3LtN1IKekEnKO7E+u+34Ots/E60zR+Pf8x/nvvHy5cvd0888YSbOHGie/rpp92VV15p50ZbRQQhxyoxRwghhBBCiOSQmCOEEEIIkWa89dZb7oILLrDUTPXr1zdjacuWLUPviliwBsmTTz7pHnvsMbdq1arQq1u55pprbB0dIfKbcePGuRNOOMExNSN94hVXXBF6Jz1BcO7atatFEXI+3bp1s9dHjhzp2rdvb5E/EnOEEEIIIYRIjp1D/4UQQgghRJowdOhQWzcHw+/s2bNdnz59LH0Y4o6IzJQpUyxSgAiBgQMHurVr17rSpUu74sWLhz4hRMFBRIyHqJh0x0f3AKnjPLRZCDlCCCGEEEKI5JGYI4QQQgiRZhQtWtRSLAFplljkn0gdvN/xhFfgtXMrV650o0aNct27d3cHHHCAa926tevRo4dFBpACqlWrVu6rr75yBx98cOgbQhQcmSbm+HV3ICjmCCGEEEIIIXKO0qwJIYQQQqQhZcuWtcXFwyFl0emnn27iTosWLbLXuPDrWWQKDGExgPvF31k/iNROCFtffvml+/HHH239kCBcg8qVK7uOHTu6Ll26uEqVKrljjz3Wffrpp/a+0qyJ/ALBZu7cuVZOYfLkye6+++6zx9TdU045xR4H4Tt+bRwEkuB/NupBbuIF42jw/p577ulKlCjh9tprL1eyZElb96dUqVJuzJgxlmZt5syZrmfPnq5///72HVJEnnHGGfZYadaEEEIIIYRIDok5QgghhBBpSFDMwXjKtnTpUjPqAsJNjRo1XL169VyDBg1ckyZNXK1atczoSmoxFvzn/x577BHXaFtQMEz1Buvw7ffff3c///yzLbDONm3atIgRDQhZZcqUcRUrVrToHNbr8CIXSMwR+Q3l+ttvvzXRddmyZaFXMwPaHCLeZsyYYWLOTz/9ZP8fffRRe19ijhBCCCGEEDlHYo4QQgghRBoSFHMQKTp16uS++eYb8/RftGiRW7hw4XaRKYg31atXN4PrPvvsYxsiB571pG4rUqSIbXjb+8c+ogfxg/9+4/nOOyeXsZe0SxyTj6bxj4Ovse7P+vXr3bp160ywIV3aihUrbCM9mn+8evXqbOEqCMIUQlWVKlXs3GrWrOmOOOII17x5cxO1wjnppJPcBx98YI8l5oj8gIiywYMHu86dO1s9JqKFOsBGmfaPUzHdGnUeAZg2Ivz/1KlTrc69/vrrtqYXIs6sWbPc5Zdf7p599ln7vsQcIYQQQgghco7EHCGEEEKINCQo5rRp08Y988wzFoGCiEP6JqJW5s+f7xYsWOB+/fVX+49AEj70Q6xBzGHzETvBDUMtwk2kje/G+o84QxSNj67hf/jmDdh+Q8j57bff3Nq1a03MSdSgjTBVt25dV6dOHbfffvvZf4QrNs4rGgg4AwcOzH4sMUfkNUExB5Hx4osvtsg6H3VGykDqAHUBUYTX+B/+2D/3a9PsCNRZBF026n34Y/+fzyHy8jj4n8i4m2++2dolhBvaDcQc2iLSxg0dOtR+R2KOEEIIIYQQOUdijhBCCCFEGhJJzCHixsMQD4MwESx+I6UTUTtsS5YssagXv2FATnZYSBQMnvrBiB2/8TpCDIKOX9tmRyMNEIhY84aoG79VrVrV/rP+DVuFChUs0iHR1HH9+vVzffr0sccSc0R+EBRzWrVqZWXugAMOCL27NYKN+oLQmcj/3JjOUWcRVRBh2Hgc6Xm0aDwE0Wuvvdbq3gMPPGD1EDFn3rx57swzz3QjRoywz0nMEUIIIYQQIudIzBFCCCGESEOIOCEKByKJOZHAiEz0C978/PcGYTaiAFhzB8GH/6QyQwwiOiZ8IxVabkQDhIOhuFy5ctnCDMKNf8y5VatWzaIAMC779E7+cU7X/ZGYI/KboJjTsmVLK3ONGzcOvZueeDGHKLjevXtblBxiDlGBp5xyinvnnXfscyNHjjQxhymoxBwhhBBCCCGSQ2KOEEIIIUQagoH0vffes8eJijnxYFgYvvnX/X82xB9EHSKDghup0RB6EGWCKdf8Fp6KzT8mVRNrbRBhgziDMBNty20k5oj8BjFn0KBBJmSwnhNlrkmTJqF30xMv5iCsUo+aNWvmrrvuOosCPOaYY9wnn3xin3v33Xddhw4dTFCWmCOEEEIIIURyJLdqrRBCCCGESAnyQthgnz5tWlBw8SmWfBTMXnvtZVEyRBMcddRRrn379rbIec+ePV3fvn3d7bff7nr16uV69OjhunXr5rp06eKuuOIKd8kll9j6Geeee66lXmrXrp07+eSTbR/169e3/fIb/JYXenzKtrw4XyEKCta7AS+UZgoIVaRtJHLPp1X05wrUaeq4EEIIIYQQInkk5gghhBBCpDk+XZoQIvVBwCEyxT/OJEEHMYf1uWiTfCpGf66ASIsgLIQQQgghhEgeiTlCCCGEEGkOKc9WrVoVeiaESHWCkTmZJOZwLhs2bLA2yUfmkHrRQ2SOxBwhhBBCCCFyhsQcIYQQQog0B294POGFEKkPgkemplmDLVu22Bpa0SJzlGZNCCGEEEKInCExRwghhBBCCCHyiXAxJ9MEHVI+rl+/PlvMCV8zR5E5QgghhBBC5AyJOUIIIYQQQgiRjxC9kqmQXo3Uaj7NWriYo8gcIYQQQgghcobEHCGEEEKINGT//fcPPRJCpBNE4vjUY5kYmUPaRwQcpVkTQgghhBAid5GYI4QQQgiRhpQsWTL0SAiRbvjInEwRc4LngJgTjMwh7Zp/X5E5QgghhBBC5ByJOUIIIYQQQgiRTyBsZJqYE0wb59Os+cgc8MLOTjvt5HbeWVNQIYQQQgghcoJG0kIIIYQQQgiRjwTFnEwgKOaER+YArwkhhBBCCCF2DIk5QgghhBBCZMHaHsH1PYTICzIxModUah5EnOCaOSAxRwghhBBCiB1HYo4QQgghhBBZ/Pbbb7YJkddkspiDcIOYEzyvYJSOEEIIIYQQImdIzBFCCCGEECILDM6KIBD5gRc/MkHIgfA0a8HnIDFHCCGEEEKIHUdijhBCCCFEGlK6dOnQIyFEOoGA40XDTIzMQbgJF3MkkgohhBBCCLHjSMwRQgghhEhDGjRoEHrkLKXRhg0bQs+EEKnOX3/9Zf8zMTKHtXLCI3EiReYgAGXK+QshhBBCCJEfSMwRQgghhEhzfv/9d7dmzZrQMyFEquPFjUyJzPHiVDQiiTkIQBJzhBBCCCGESByJOUIIIYQQQgiRTyBgZFqatV122SX0KDKR0qxt3rxZYo4QQgghhBBJIDFHCCGEEEIIIfKRTFtDZvfddw89ioyPzNlpp51sA0XmCCGEEEIIkRwSc4QQQgghhBAiH/HiBuvLZIKgsdtuu4UeRcaLVzvvvLPbdddd7bEic4QQQgghhEgOiTlCCCGEEEIIkY8EI3MyQdBINDIHMcenZJOYI4QQQgghRHJIzBFCCCGESEO8d7sQIr1AwCiINXP4HSKBEFb4/b/++mu7jdf5TLLEi8wJijm+7frzzz8l5gghhBBCCJEEO2UNoDWCFkIIIYRIM/744w9XvHhxe1yhQgX3wAMPuI4dO9pzkTj9+vVzffr0scenn366e+yxx1zVqlXtuRB5wfr1612NGjXc2rVrXb169dwzzzzjWrVqFXo3MnPnznXLli0LPUseBJpNmzZZNAz//eNghBAULVrUlS5d2pUrV85VqVLF1apVK/RObPr27Wt1iallmTJlbJszZ07oXecmTZrkDjzwQLdgwQLXo0cPN2LECHfeeee5p59+2pUoUSL0KSGEEEIIIUQsJOYIIYQQQqQpfiHx/BZzGD5u2rzZbdy4yZ4X2XNPV7Rokezjicfff/9jhmz2gZGZ72LQ3XOPPRLeR24hMSfvwYDPYvcVK1Z0e+21V+jVwgtiTuXKld2GDRtc3bp1Tcxp3bp16N3tWbVqlTv77LPdmDFjQq/kPaRCoz688MIL2aJxLO655x7Xu3fvqGLOhAkTXNOmTd3ChQvdTTfd5F599VXXoUMHN2jQIJUJIYQQQgghEkRp1oQQQgghREKQKmnO3F/c8Dfeci8MecUNemGobUNfedX9+NOs0KfiM3/Br27Qiy+5Zwe/aNug54e6F4cOc99O+N79+edfoU/lD0WKFAk9EnnBvHnzTDAjcuPRRx9148ePdxs3bgy9W3jxaccQP+L51pH+LL8FRo5vxowZFhGUCME1cxBkSacWJJhmza+ZEx4VJIQQQgghhIiNInOEEEIIIdKU/IzM+TdryDh58lT30rDX3a8LF24juuyxxx7umquucEe1PiL0Smymz/jR3XJ7v23W5uBcKlbY27U96QR3atuTQq/mPaNGjXLt2rWzx4rMyX2GDRvmevXqZY8pJ9WrV3eHHXaYO/nkk12zZs22M/oXBtatW2dpzBBp6tSp45599ll35JFHht6NzOLFi93IkSPdihUrTBiJtSGShL+WLNTH/fff33Xu3NmVLVs29Gp0qDfdunUzYWrvvfd25cuXNzHIM27cONeiRQu3dOlSKw9Dhgxxbdu2dS+99JIrWbJk6FNCCCGEEEKIWEjMEUIIIYRIU/JTzNm4aZPrcXNvt+DXRaFX/oPoln59bnH16+4XeiU2a9audRdfdnXEhdaLFy/mHhlwr6tYsULolbzliy++yDakS8zJfdasWeNuvvlm9+mnn2ZHYhDFQRoujPukD0PcKUwg5pQqVcqEj3333dfEnKOOOir0bnT+/PNP2/ien8L5x7Fe868nA20L9TrR9WwGDhzorr32Wvst0umxTZkyJfSuc2PHjnUtW7Y0MeqWW25xgwcPdieeeKKlW5OYI4QQQgghRGIozZoQQgghhIjLdxMmbSPklCpZ0p3Tob3re/stFpWzT/XqoXfiU6Z0aXfvXX3cMwMfcTf1uN7V2bd26B3nNmz4w733wejQs/yFdV0wlovcA9HmiSeesAiME044wQQCrjGL+f/vf/9zF110kbv++uvd5MmTQ9/IfIiU8QJLMmILIhjr1yCwsM4MG0IIwlDprDrl16ohkobIH6JjiJJB7E1243uJCjnhkEYtmHYNfAQW/3fddVd7jLiXE6FJCCGEEEKIworEHCGEEIUKjGikttlRAxLfZz9//PGHjL+iwKE8RopyyU0o70GIoClRorgrWmRPV7RokaTTZe25556WdqtY1neLFSu6zffDfyu/yGlKKhEbjPfFihUzkQGxgftO5IdvR4lUWblypfvtt9+yI09EZuGjCIPoPgshhBBCCJEcEnOEEEJkPBi5MRR+99137oMPPnBvvPGG++yzz9wvv/ySIyEGAxR5/0eMGOEGDBjgxowZYx79QhQU69evd2vXrg09yxvmzV8QeuRc0SJF3AXnne3atT3JNahX1x1y8IFujz229cSPR+2a+7hyZcu4g5o0dqe1PdntXb586J2s31rw32/lJ1xD0oKJ3AWhrnHjxq5v377uySefdJ06dXINGza0yA+iMz755BN3ww032Pbaa6+5H374wdrsTDX2B/udTDzHSJE5PhoniCJzhBBCCCGESA6JOUIIITIaDEUswty/f393+eWXuy5dutj6DRgTydvP4tzz589PyqBEeqCHH37Y9evXz73wwgsmDG3evDn0rhD5B+tSwKZNm9yGDRvscV6xfPmK0CPnKleuZGmccosKFUgFtXfomXMrV64KPRKZBAb+Jk2auB49erj77rvPde3a1TVr1syidRAkWVfnjjvucN27d3f333+/LfiPsEPkTiYRjDyj78k0QQMxZ7fddgs92wqvhVNQEXhCCCGEEEKkKxJzhBBCZDRE0Nx5550WRUMKnyBff/21iTwYDXmciGEJ0ebxxx+3tR4woAtRkNSqVSv0KO/5+5+ti9cD654kG4kTi9133802T16njBMFC1Ea+++/v7viiitMFL/ppptcmzZtbI0X0tz9/PPPbvjw4RbJ06dPH/fAAw+4UaNGuXnz5mVEGrxMF3OIxAoXcxSZI4QQQgghxI4jMUcIIURGM3jwYPftt9+Gnm3Pxo0b3ejRo81oSPo1nkcDo9MzzzxjQg5GKCEKE7sE1rRBbPm/f3PPCPtv1r7YPJHW1xCZSd26dV379u3dbbfdZsL6ZZdd5urXr29lAAH++++/d6+++qq75557XLdu3ewzY8eOtfXK0pVMj0hJNDJH/agQQgghhBDJITFHCCFExrJq1Sr3yiuvhJ79h19824NhbdasWWYsfOihh6Kuo0MKoOeee04ROaJQEqwz//7zr/v3/3IvesbEocD+JOYULjD8V6tWzR155JHu+uuvd0OGDLFonGOOOcaiwGiTibKcMmWKe/HFF03UOe+887KFnXRLwxYUcyjrmVbeicwJj8SJFJmjqBwhhBBCCCGSQ2KOEEKIjGT16tXuxhtv3EZ4qVq1qnv22Wfdjz/+aEbBp59+2tWoUcMMaRiVMAgi1rAOTriRadGiRZaujXUdMhHON5EtUSJ9N9qWKJG+G2lLlEjfjbQlQ6Tvh2/JEmkffstPthFz/i+3I3P+tc2zUyAKSBQeEAGKFSvmKlSo4M4880xrj9966y1b76xKlSpWBkl1SftOGz5w4EB3wQUXuBNOOMH17NnTffDBB9bmbxUH87d+JENOxRzOizRzkTZfhxLZwr/L8dD/LV++3NaQo4+cNGmSGz9+vD1O9lommmYt0mtCCCGEEEKI6OyUNThP3ZmOEEIIkSQYpVgwG+EFYx+GK8+BBx5oi2s3btw49Ipzixcvdvfee6/7+OOPzUjoIT3bsccea48xDt511122hkOkqJ1zzjnH3XLLLa5kyZKhV9KHLVu2mNHuk08+2cbAGA7GxkqVKtk12XfffUOvRmb27Nnuo48+citW/LdgfiRYDP2www5zrVq1smipaHCMEydOtMioWGl5SONTp04dd/TRR7uKFSuGXo3MmjVr3FdffWX7jgUGSdalYb+xjhGDKOc9c+bMuIbPvfbayx100EGubNmyoVcis2HDBlsjhKixaNx66622vghQRnmeF/z119+u5y23udlzfrHndfer4666/JKsspA7a/YsWrzEPTPoBTd5yjR7XqTInu75Zwe6EsWL2/O85IsvvrCIEOC+sCbW4Ycfbs+jQVvx+++/b1MefWqpoGGex5SbPffc0wzcsSBtWLzyCBjAixYtGtcQTttHGYqXyorjIvqF+hhPVGCfiRyjN+bHO2eg3UnkGIm0/PLLL92HH35oAgPXi7Y5/LvUq2bNmlnbQptPW4BAxDVLVDTJayZMmOAOPfRQe1y7dm1zMqDdigXX6dRTT7W0oNwrNq6xfxx8LbwcAveOchu+cT9jtf0HH3yw1YnmzZuHXokMwtq1115r7V+jRo1se+2110LvOvfLL7+4mjVr2n3s3bu3pSxt0aKFe+edd1zp0qVDnxJCCCGEEELEQmKOEEKIjAGD1DfffOP69+9vgo4HQyCe3qeddprr1KmTPQ6CwXzAgAEm6Hix5oADDrBUP2XKlLH3ScGGIREwFq5cuTLbqJnOYs60adMsrdGcOXNCr0SH68i53n333TGNtBjqXn/99ajp6oI0bNjQrm2TJk1Cr2wPa2ZwjAsWLAi9Eh2M0iyqfsMNN4ReiQy/SbqmRAzTGCURBzH0R4PILSIEMFjGA6N/x44dTXiJJRCRIhCBJtY6TsuWLcu+zrkt5jBE3Jx1fVavXuOm/TDDPfnMoNA7zh16yMHu8ksucpUqbluXcsrv69a75wa/6L74crz9LoboU04+wR3duqXbe+/yrnixYhHX3MgNgmIOgiWpuyjnscQS1nBhQX4iRDzFixe3tiX4PR5Tftq2bZt1HnuHXt0exMXnn38+oTJOm8T+ECpiXZPJkye7kSNH2r5jgdDEMZ500kmufPnyoVe3B9HkvffecwsXLgy9Eh3qIcfHfhEYokHbiqi6du3a0CuR4RhZW4c6yDWdOnWqmz59urXzc+fONYGALbw+c61oY2jP999/f9sH4mxBwzkjZADiOGLOUUcdZc+jQZ9z3HHHmZCVSNuaW3AfEXP88UYjKObgMME1f/nll7PF7V9//dVS6QXFnNatW1vklcScvId+hPrGOIUxDHVUCCGEEEKkHxJzhBBCZARERuDtjJBDpImnVKlSZiTD6/mII44w4144dIV8t1+/fmYg5Dle3Biczj//fBOJEBT8fvH0fuKJJ8yICOks5pBSB3FmxowZ2Ua3aGD8Ofvss92ll14a09CNURojXry1hRCEMBSy/kWsaB+OjWPEEBUOhmq8ywEBAGN8586d3UUXXWSvRePJJ5+048RAGgvOEw//Xr16mTE4GhgqMWRiZI53HfGaP/fccy0tVIkSJUKvbg/GzocffjjmdcxLMWf5ipVu3Piv3eSp09z0GT9mR0CUyirnZ3U43Z1w3DExDfXJQNTAZ1986V55dYRbuWqVXUOEimpVq7j9GzV0xx97lKu5T43Qp3OXoJjD+dx+++0mHtIGRANhGLEkERAQiP4jwiEapLO68MIL40aoeEg71rVrV4vyigZpJt94443Qs9jQdtGmESUXDVJw+WiSRDj55JPtWsaKkrvtttvc0KFDQ89iQ3Tcgw8+uE1kJXWfNoy2mAg12nGEkmicccYZVqcKmmCZ47wQc/zzWHz77beWSi6WwBsJ6hMb9Sx8o++M9DobbSpRapRNxMpYBMUc2nWEN1KWsh9YsmSJtc9BMYdIzxEjRlg/LfKO3377zSKLiYKqXLmyCbfHH3+8BB0hhBBCiDREYo4QQoiMgHRpPXr0MKOoB8MsadVYRDs8GiccBJthw4aZoQ8vcYQGRKCnnnpqu+gJjFEYtxAZIJ3FHAx5eHqTEi3ekADv+P322y+m9z5wfRLxHucaY+glzVAsUQBve0Q20lqFHyOveW98DI/lypUz0SXe/UYEwRiPkSsWCAqkBmKfnH80MMITFUaETrzriJhDtED9+vVDr0SGCAiMt+EpkEgvRUQIv0n0GOndILfFnClTf3DPDHrRLcw6J0DYanxAI3fE4c3cIQcf5EqVyt3yvnHjJjdpylT3xdhxbuKkKdnnTaq1Lp0vc0e0iJ3mKacEDesYOll4/6yzzooZ9YJYOWbMGLsPsRbfx1jasmVLay9Y8yUaCCW0X4lEvZAy7OKLL7bonFiRXRwj0V1e7AyydOnSbJGQukf5pq2MJVhynoi5pBKMB3WFa4hQGyud4COPPGLCaqIRckRNUXciQVtGhGG7du2iCqC01Qj+BQ1pLYmyAdpUhI1ExJwdgXYpXKyJ9xptKoJzIkb/oJiDcIkIzppHvh5TxolOC4o5rHVElJvEnLwFEYdr7vs76jnRqfznHgshhBBCiPRBYo4QQoiMYNCgQeb9HvRsv+mmm9xll12WcPQAhlTSsHnjOEY2vNXxrA+C8NGhQwfzCAeiLBBzYnnJC5FbUMYx0GNsRQDAqx9yW8xh/RrEnEWLF9vzrWJZWXdQk8buzDPa5VqKNc+Klavc8DfeskiglVmPOT/ITzGHaILHHnssbkopxAKEHO5DLNESAQwxgzRSsVITAinWEOrigRiICBorqgvWr19vok2kaB8iOxA/gOPi+KpWrRpTsATWb4qXEg0QwojC4DhjiWIY9mlH/bHEArF8n332iXiM3IfvvvvOvf/++xbpETxnBC/OjfVmEJgQ7AoaomuIjgD6F59yLJ0JijmHHHKIRcIGhTrqC5GxQTEHQfKll15KS0eIdCI8So92iUhkxjGJjo+EEEIIIURqIDFHCCFE2oMhEGMsqa48pEcjjVUyHr8Yj7t06WILbPMYQyRpgkgXFISoDl7DKAV4yXfv3j2ucVWI3IYyznpPkNtizh+ssTB/gZs0eap79/0PLXIGMASeespJ7ryz28c1/icKdfilV15zo979wP3pI3JKFHcntTne1uch3VrRonmTEigo5pBGDDGHqAKR+hAtNHbsWIs8mDhxokUeeCGHCCZEOQzWpGZDMMit8rqjjB492rVp08Ye16tXz4SNWCnu0oGgmNOsWTOLbCXyykdJcW+4B0Exh7R3pGKTI0TewvVGNAtCulTWlouXPk8IIYQQQqQWsV0EhRBCiDSAlF5BIQcDHmtKxBJyEGswKuFl7o1/eKiTdsR7kmNgjrQ2Ad/dsGFD6NnWlELxvO6FSDeKFS3qGjWo7y48/xw38NEHs8s49WXevPlu5ar/Fv/fUdZk1cOFi5dkCzn81m29eroLzj/b1d1v3zwTckR6QZtMJBTr4yBinn766dkCPO05QgIpwVjTiDWxEAxYG4S0i6ki5EAwGoKIt0xLdUUfyn0IRmUhAocT6TWR+0Ra64pIwHipUIUQQgghROohy5MQQoi0h7VKPCxajoGPdDzRwOD30UcfmeiDNzQexV6cCa7dgMGN9EPhIOYE16HASKi88yKTKV+urGvYoF7o2daonc2btl+LJads3rzFNg+p1RrU3za9oSicIOAQ1TF37lxLFYV4Q2QkKTBZIwfBgIiPGjVquIsuusjWCXr00UctOiRVRfZMT22FSIOYE7z+kYQbUgaq78x7DjjggNCj/1iyZMl267EJIYQQQojUR2KOEEKItIdF5z14YLPFMhDhjcoi5wgypOl5/fXXzbOb6B5S9QTT9ERatDzcAKLIHFEYIFLHY9EEO+eeEZb97Ryos3vuGX1hf5H5ILivXLnSTZ8+3drmBx980F199dWWLooUZbTBCPesa3biiSdauqinn37a0gyy+H6qg4jhoe9IVNDAkYBo0lSPqPCROcF+MRil45GYkz9Uq1bN7keQxYsXS8wRQgghhEhDZHkSQgiR9mDg8iDQBKNrIsFnWIzZg1GDvP2sOTJ16lQzJGJ4qlWrlqtevXroU//h1wDwsMC2DFIi06FeeJIxQCeC7S9g+A3+Vl7z+++/hx6JggQRnWiB8ePH2/oe9957r4k3t9xyixs6dKj76aefTMSgTT7uuONsfZa+ffvaQu6sW9agQYO0SdsVFHOS4Y477rDr4c/bb/Rd999/v0UkIWqRYm7YsGHu7bffdh9//LGtC5WT7fvvv8+RcMR9QGzzAg71O5qYI/Ierj2Ra0Fo99asWRN6JoQQQggh0oWdsibL+TdbFkIIIfKAwYMHm0ELEFZYFP7CCy+MmsoGMad58+YxDRlE5WBMbNeuXeiV/5g0aZKlcvPceeed7pxzzsn41Dki9aCss3YIYNAlMiGv6HvXfW7i95PtccMG9V3nyzu5mvtsayDMKcuWLXdPD3ohe/+kdXvhuSftcV7z0EMPuRtvvNEes7bEY4895g477DB7LvKehQsXuhkzZpiQPnPmTBN0li5d6tavXx/6hLMF8hs1auSaNm3qDjnkEDNMV65cOW3FAM6zYcOG9pjzQoAh7WcsSDUXKe0nIKxyLdgQUvhPf0TUKH1iTq9TmTJlrG874YQTLLojGGkTDulKEdiYWp500knu/PPPd926dbMIK4SdP/74wz7H2kaIdKxnRLQVIhT9rchbLrvsMhP2ghDxduaZZ4aeCSGEEEKIdECROUIIIdIeUu14iMrxKdOigXELz+5Y4P191FFHhZ5tS3C9HMDrVZE5ItPJy8gconKChuL89DXy62WJ/IPUmP/73//cTTfd5C655BLXp08fi44kGmTWrFnZQs6BBx7orrrqKhPYEC07d+7sWrZsaWJOugo5EBT+qUeJ1CUEj/fee8+VLVs29Mp/UF+IoEEwIeICwQRR7JdffnE//vijmzZtWo62L7/80t122212b4LiWiyox4hIiEq+TkcTa7iH6jvzh0gpY2fPnh16JIQQQggh0gWJOUIIIdIe1khgAWwPqWGIqsGQFQmMR0Qw1KxZM/TK9mBgxBs8EuFiTixvZSEyhd0DxnMEkE2btq0HOwJG6A0hz33YZdftUzLlB4jBqb4eSTqC2ICAM3z4cNelSxfXvn1716tXLzdixAgTb5YtW5advrJ+/fr2GcQeUoWxHk7r1q1d1apVTRTIBON/uJiTCAgfRMjQr7FuTrSNiFOEHK4rfSECGSLQO++8YxvXlIiM7t27u44dO7pjjz3WHXHEEdlbs2bN3L777mv93z///GNpTHmcaAo7+kMicfjv+0aeR0LRrPkHawmGIzFHCCGEECL9kPVJCCFE2oOh6Morr8w2imF8+uSTTyyyhhRKeCaTombdunX2nzVyMGhh+IoEBsPTTjst9Gx7wtfkwcgl72JREARTM82bN8+tWLEi9Cz3qRrw7F6ydKlbvnx5rkTQsI/Fi5e6ZUuXhV5xrka1aqFH+QsRDXl5DQsjpFEj7SXtcY8ePdy7775r4g2Lr9N2IhR4AQdxZ+TIkZY+EJGeth2Df6YJ5sGoIvqORPsPrgPXq1SpUlE3UrFVqlTJ1alTxx100EGuVatWlvbslFNOse3cc881gYxIJ9YmIvUWETh++/rrr83IT4QPdZM6wecTTYXGuRCZw7H6dXKC36V/RiQCRebkH0TmhAtykQQeIYQQQgiR2kjMEUIIkRGcfPLJZrwKhwWheY/toosucqeeeqp5ed93330m7EQCA1S09yBczFGaNVEYqFOndnY537LlTzfuq2/c95OmuJ9+nm1beL2IBQbdmT/9nPW9WW7ylGnuq2++c2t/+z30rnP169UNPRLpDsL62LFjTbxBnGGtm3r16rk2bdq4rl272noxb7zxhgk4rIeDEJDp5CTNWrqAiFOkSBHrF70IFxRzaCd8akOJOfkH6QmJvPJCIun64qWbFUIIIYQQqYfEHCGEEBkBXqcsYo6g472BPXgBk+Jn0qRJbsGCBWZUDIIxKej5TQQPizNHS7e0evXq0KOtKDJHFAb2b1jf1dpnn9Az5775bqK785773a2393O397vbLfh1Ueid+Pz++zp386193S239XP9svbx5fivsqN89i5fzh3ZuqU9FukP694QlYN4QwTlHXfc4Z566ilbB+eaa66x6LLixYuHPl04CIoYmdZ30JeGR+YE06zR//qUesEIJZG3ENFF9Ns555zjTj/9dIuSI6WeEEIIIYRILyTmCCGEyAgwChFxc/vtt1uKNAwX8cCIhvhz6aWXuvPOO8+VL18+9I4zT/H3338/Ox1MENJLBQkXj4TIRPCuP/+8s1ztWv+tNfXPv/+6LX/+mVVP/nXLlm1bL2KxJJRS7c+//nJ///23PQZSuZ13TgdXvtz2i7yL9KRJkybunnvucXfddZfr1q2bO/74412tWrUKvSHfnz/9UCYJOpyLT43nnSToI1kD6dVXX3Vvv/22W7p0qb0eFLVE3oLTyaGHHmpjpPvvv9/S7UVby0gIIYQQQqQuEnOEEEJkDKR2IY0I6Xruvvtu8z5FrPEpbfAWJoKnadOm9t5NN93k+vfvbwZG1gRo165ddjoY1gsg/c+4cePseZAyZcqEHm01kLBfGaREpoNh9sDG+7srL+/kzj+ng2vR7DDXoH49V69uHXfwgU2y6kXp0CfjQ11tetCBrk7tmq5unX3doU0Pdh3an+Y6X3GJa3XE4aFPiUyB1GpBsbywQ3+RyWIO5xZMs7Z582aLnKVvRkiYOXOmvU7frL4zf+GaB9P8CSGEEEKI9EJijhBCiIwC41HFihVtwWc8UF944QWLsBk9erQtvD1s2DD3xBNP2HsXX3yxLbJdokQJyx/fuXNni+5hH6R8mjVrlqVbmz59emjvWzn66KNtwW7g+9WqVZNBShQKMNLWr7ufO71dW3fVlZe6njd0dTd175b1+BJXd799Q5+KT/VqVdy1V1/het10o7u5x/X2GDHngEYNZGgUhQJfzjOt7/BiDv2oF3P4P3/+fEthishDn0mEVqtWrbJFLSGEEEIIIUR8JOYIIYTISIiYIYIGoxHROXXr1rX/++yzj6tUqZK9R3RAEDzHiejhc0CKta+++so9+OCDbt68efYa8P7IkSNtDZ4hQ4Zkf16IwgDG2j333MOVKlXSlStX1pUvV86VLlUqKaMs9bN06VJu76w6V7581vezHhfNqo/e+CtEJuMFD/84kwQdf26INj4FaYMGDdyWLVvcypUrrS+dOnWqe++992w9pUw6dyGEEEIIIfIazZiFEEKIAIg8zz//vKtatao9J0JnzJgxtubDokVbF3jH+ERqNaJ5EIRkjBJCCJEMmRqB5sWcYGQO0a8+vRfvsSHoqu8UQgghhBAiOSTmCCGEEGEg5Dz++OOWSs1H7/g0bf/++689FyIVKFWqVOiRECKdyPTInKCYo4X2hRBCCCGEyB0k5gghhBARaNKkiaVXu+CCCywVDKnUSpYsGXpXiNSgYcOGoUdCiHQBwSO4Zk6miTlE3QTTrEnMEUIIIYQQIneQmCOEEEJEAI9iDOXXXXedu+OOO2w79thjsz2NhRBCiJyiyBwhhBBCCCFEssgiJYQQQsSgePHirnHjxq5FixaufPnyoVeFEEKInBOMzMkkNm3a5IYPH25rz61Zs8Zek5iTWvz888/uzjvvdC+++KL74YcfQq8KIYQQQoh0QGKOEEIIIYQQQuQTCDjFihXLfpxJgs6WLVvcmDFj3CuvvOJ+/fVXe01iTuowZcoU17dvX/fSSy+5AQMGuOuvv94tX7489K4QQgghhEh1JOYIIYQQQgghRD6BeEPUp3+cSWLO//3f/9laOUSyEtXasWNH16ZNm9C7oqCZNWuWCTqIbhs2bHBz5sxxAwcODL0rhBBCCCFSHYk5QgghhBBCCJFPIN6UKFEi+3EmgYjzxhtvWFTO999/bxEgZcuWDb0rCpJ169aZmLNx48bQK1vFt5kzZ7p//vkn9IoQQgghhEhlJOYIIYQQQgghRD4RLuZkkqDDufj1gERqQTRYlSpV3K677hp6ZSukWVu6dGnomRBCCCGESGUk5gghhBBCCCFEPhEUczINiTmpy8477+wqVKjgypQpE3plK6RcW7hwYeiZEEIIIYRIZXb6P2KrhRBCCCFE2rF27VrXpEkTS2l06aWXunvuucftvffeoXdFIvTr18/16dPHHuO1/uijj7r27dvbcyHygr/++svdcccd7u6773atW7d2Dz/8sKtVq5alwWJbv369/Scd1t9//5298T224PNkpnKsZeM3ojOCz8Nf43HRokWztyJFirhixYplP95zzz1De90K665ce+21rmLFipZm7fDDDw+9I1KJiRMnWns3ffr00CvOlSpVyt1yyy3u7LPPDr0ihBBCCCFSFYk5QgghhBBpyu+//+6OOuooN3nyZIk5OURijshvEGEefPBB16tXL7fPPvu4evXqmYCzadMme+/PP//MFm3+/fdfE2z477fgc0hkOufTufmNKI1Ij4PPEXRibXvssYel7kLk4fjffvttV6lSJfvftGnT0C+LVGL+/PnW3n3++eehV5yJc5dddpnr3r176BUhhBBCCJGqSMwRQgghhEhTJObsOBJzRH6DSPP0009bJIsXTtJxAfpw8QcBijr0/vvvuwMOOCD0KZFKILr17dvXoqc8RGKdeuqp7pFHHgm9IoQQQgghUhWJOUIIIYQQaUpQzOnUqZO79957bU0EkTgSc0RBsGjRIit7c+fONQP7hg0b7P8ff/yRI2GHdWqIlCH9mf/vH/MeBvv8oHnz5q53796hZyIVQbR56qmn3ObNm0OvONeiRQv35JNPWso1IYQQQgiRukjMEUIIIYRIU4JiztFHH+0ee+wx17Bhw9C7IhEk5gghChMjRoxw/fv3dytXrgy94iySasCAAZbyTwghhBBCpC47h/4LIYQQQgghhBAig2FdoxIlSoSebYUonXXr1oWeCSGEEEKIVEVijhBCCCGEEEIIUQioVauWq1Gjxjap90jFV7Ro0dAzIYQQQgiRqkjMEUIIIYQQQoh8YMmSJW7Tpk2hZ0LkPxUrVnRnnXWWiTpQvHhxd+yxx7rq1avbcyGEEEIIkbpIzBFCCCGEEEKIPGbSpEnuzDPPdK1bt3Z33HGHmzhxovvzzz9D74pEWbNmjfvuu+9Cz0Sy7LzzzrbG2jPPPOOGDBniBg0a5Dp16uT22muv0CeEEEIIIUSqIjFHCCGEEEKILPBQD19LQojcokKFChaZM2HCBHfPPfe4I4880ozqb775ptu4cWPoUyIeXbp0ccccc4ybPXt26BWRLHvuuaerXbu2CYvNmjVzpUqVCr0jhBBCCCFSGYk5QgghhBBpzD///GP/y5QpY2KEyDklS5a0TYi8oEqVKhZR0r17dxMNicoZP368Res0b97cRJ3169e7f//9N/QNEQmu0R9//GGRTfB///d/ds34L5Jjp512sk0IIYQQQqQHEnOEEEIIIdKUhQsXZnunI0IUKVLEHovEkQAm8pO9997bDRgwwI0dO9Y1btzYlS9f3tWvX98tW7bMdejQwV188cXuyy+/VKROFLZs2eL++usvezxt2jT39ddfu48//th98MEHdt0QeYQQQgghhMhUJOYIIYQQQqQpt99+uxZT3wGmTp3q5s+fH3omRP6xyy67uA0bNriWLVu6gQMHurvvvtudcsopJkwg6AwdOtStWrUq9OnCDdfhvffes/VdnnjiCffzzz9bFM6jjz7q2rRpY1u7du1s3ZfFixeHvvUfRECtWLHCzZ07161duzb0qhBCCCGEEOnHTlkDYcWjCyGEEEKkIax7gKc6XHrppbYOB57/Ij5EQnTu3NmNGjUqOz3Tscce6x5//HFXr149ey5EXoEgccYZZ9i6JQ899JDbd9993a+//ureeOMNE3JWrlzpunXrZvWaFIpBKK+IuIgURYsWdbvvvnvone0h/dicOXNMEKlcubKrWrWq23XXXUPv5i8ILcuXL7fzIeXcbrvtFnpne3zaNDauSc+ePe27nLOHNYgOPvhgV6NGDTs3ruXJJ59sC/nzfSIXidyZMmWK/fbvv/9u33nggQeUTlEIIYQQQqQlEnOEEEIIIdKU/fff302fPt0eX3fdda5fv35myBSxwSCMQbd///5u3bp1oVedpblCzMHgK0Regphz2mmnuTp16riHH37YhAigbH7yySeuT58+bsmSJVZGKZd77LGHCRsIPsOGDXPffvut27x5swk5rVq1cieddJJr0KCB7cNDNErfvn0tAo30YwgY559/vjv33HNtzR4Ejx9//NH98MMP7rDDDnM1a9YMfXMrvM+WiPjDsc2bN89Vr159u88johBVM3LkSKtvxYoVs9+79tprXbVq1WzdrwkTJrhKlSqZMPP999+7p59+2tbGufPOOy192lVXXWVCNd+bPHmy/dY111xj+0Acot3z4hDXkOuHkPPLL7+YcOtTs5UtW9bNmjVrO4FMCCGEEEKIdEBp1oQQQggh0hS80j0YKbX+S3ww6hL54I3FHtJe4d1frly50CtC5B0IGETXUB7//vvv0KvOxBkixLp3726iCGIGwgX873//c6effrq79957LaLso48+cu+884595qyzznLPP/989r4QghBuBg8e7L766isTdFinp1evXiaWIL4getx///2ua9eu7s0337TveRBxPvvsM9svn+f5pEmTbP+s5/PYY4+ZkMJr7IvfPv74491NN91kzz0IOUTAIa6wP/bFcZBajnqIIEXqM36HVHOsg8N/xJ8RI0a4G2+80VKojRs3zkSuJ5980p7vvPPOJv4ghtH2BaN8XnvtNTu+L774wiIXL7zwQvfWW2+ZCMS1KFWqVOiTQgghhBBCpBcSc4QQQggh0hQ8+wERZ8GCBZZWSEQHwzLRS0Qxca2CRmfSXJ166qkm6giR1yCOIKaw+agRD4JO27ZtTbQgioSIFsru2WefbYIEIiSizsSJE90333zjzjvvPDdjxgwTUp566imLfkFoQTxBNCL9Ip8955xz3Jo1a9xPP/1kogwbggeCSnjKM0QQ1qlhHwg2iCBnnnmme/HFF93MmTPd9ddfb8IKa/wgBPXu3dvWpBk+fLi9D/x2jx49TITimF966SUTbhBySBE5evRoE7SIOqI+kg6NSCLOl2vCNRo/frw9PuSQQ1zdunUtOofIuZ122slS0UWCuozgBEQgNW/e3B1zzDGuSZMmbr/99jMhSGzP0qVLLeKLaK2gwCiEEEIIIVIHjWSFEEIIIdKUI4880lIrkUIJD/z69eubFzre76yRgVEXQy0G46BwUdjAsEsap8suu8zddddd2YZehBuMwxjBef3www+314XIayh7CBoY0BFYwuE96nb58uUtJRsCBOII0TodO3Y0IYXIPNKOIeAgvCCYvPvuuyaakDoNgeb111+3aBw+e/nll7tTTjnF1apVy/aHWIIITEQaQkkQhBKifkqXLm3H4COIxowZY+nN+C7bd999ZwIp54CoTFtE+wOINYhBtD+khOT4EGoQfPi8T8nm6yN1lAga1vXhtxFh+F0vDnkQcoDf9/hIJ16jHiMwIQBxHldccYWd9/vvv+9Wr14toSIMrhmiGeWKCKlOnTrZfRZCCCGEEKmHxBwhhBBCiDQFr/NHH33UDLUYfzFmYsht2rSpu+CCC0ykeOKJJywFEsZR0jLhYY+XPsZe0jexqDgG2EwUe7geGIIffPBBWxidhdQBQzZrdRDdgNH3vvvus6gDrqEQ+UHRokVtjZo5c+ZYRAtiBFAPERw+//xzEzYQI0gjVqRIEXufNWUwuoev68SaO5RpBFwiaYiAOfDAA7Oj9+Doo4+2doB0aIhJiCKUeQQVNt8G8PvUCY4NIQdxxfPqq6+a6MLxA1E3fI76g1iEcMO6PtS9t99+29oYjoPzuPrqq00oIPrDC8/sh7V9PBUrVrToHFLNEXGE8OLXBfP4yBovAgFp5GgLFy1aZM/POOMME7gQaVlTiGgTop34fY6Zdk9s5bfffrPUdNxHQGAkdV/wvgghhBBCiNRgl6zBct/QYyGEEEIIkUZg1MS7HfEGoygGXwyyGFLx5ke0IQ0SRk2MdS+//HL2Oht4zbOwOIZV0hthMMWIhxEYwzL7wsCbbmD8xYDMGhusK8Li8ghcCFbAehlHHXWU69atm0UskJJJiPyGusu6NkREIGwg2MyePdvEVsrr448/bhEuCLWIsggqrPNE/SbipF69elY/qeukWCNShzLfpk0bi7JBcEFAIeoGASiSUEk9JwKDtoJUZwgpiCEIwKRCA9qVli1bWpQPUTWIRdQhBCEEEkQh0sENGDDAlSxZ0toYRCUEHKKCli1bZm0P50EUXKNGjdxxxx1nadqIoGG/pI575ZVXLAqI9HAXX3yxRfmw72eeecb2izjjI3IQHWjDEJpYFwgBiWvDWkKIQNTpDRs2mChFXef3fBQQbR7nQRo5riH7LuxQhhAPKQce0vrRB3CPhBBCCCFE6rBT1oSg8ObcEEKIFAMjJN7ypLzAY7dMmTKhd4QQIjaIFfPnz3e//PKLGVARchBxFi9eHPpEfDAY4/HPwuIYZPH2J9UTaZnC0zClEhitWQcEEQfDNu0o/xGn/HokGHIxgp977rlmiObc0lGsEukLAgKL+LM+DAIEIuqwYcNMfECYQEhF4EGE2GeffUwkQcQ49NBDbR2dnj17mjhJnWzRooUrVqyYRVVghGftnBNOOMEiUXgdsfLDDz80gYSoNNKcIRqxX4QNPoOYg9DCfknHyPvUF0Qk6jvtAALRLbfcYoJx586d7di7d+9ux3DJJZeYsZ/IN46R1GnUKz5L6jW+xzmSau2ggw6yfXMNEAkQajxEILVv396EGFLGsQ+gTUNgqlOnjvvggw+yo5EQpLk2vMcaPhwTUTlE25BKjXMl3RwCD0IO1xBRC6EK0YLj5fFtt93munbtus2xFEYQc5577jm7LkEoJ0OGDLH2XwghhBBCpAYSc4QQIkXA4IpRBS9ZDIys7YCHLQYcIYRIFlLkkGLs008/NQ95RB6fyomoAAyjLAaOkZN2hsgcjKI+tQ6fIY1buXLlstfNwLu+YcOGrnHjxiY4e29/9sv+MQpikEZE8etS4EUfTIcUhN8gIgGjcSQwOCMqhbeDCN4IOIg2RCBgmMUAjmEbgzIG4yAcMymgMBZjKFY6NVEQEIFC1An1gzqDoEMECRAZQ9TKAQccYBvCI+IKdc9HpCDWkv6MiDOEC+oPkS1EwbDWCWIOdZrp3bRp0yzChrW0+Nxee+1ldY2oGh5TFxBbiLRB9H3hhRdMECKKB7HznHPOMYGnd+/eJtiQro0oGOoqacqob7QriEpE7nD8cOWVV1rEDr+NsDRixAhbrwZRINxBhTaC9oZ6S2QO6//wWY7X06NHD4siRPDxogLjJQQexKFgFM6NN95owhTtFseGcMs581nOiygcPjd27Fj7XYSc+++/P/vYCyuUF8R/rh3tuIexKKIg0VJCCCGEECI1kJgjhBAFDMYcDCkYOvAsx3iC4Ybc8kygZXQUQuQUhnkIKRh+SS9EyqKvv/7a3sNQhxETYzBCDUZRvO1nzZplnv58h1Q7QfCop03iP2IQ+6YN43f8f4zUGFn9EJPXgwuVB6Gtwys+WoQMRl2EHG/M9vjfob3kGLxIFYRzQ8QhKgEhhxRPhd1oKwoW6hPGcURTBAbECUQGBEvKJ+Il9YuNshqp3K9fv94ESzbKPWIFKckQaILjBT7L75G6jcgYhBo2hCRo3bq1RakA9RVBhbpEfWN/CCKILfwObQTHRtQQv0FEDL+NaMrng/UXMRdxhc8QJXPDDTfYGjpE/d18883WxvA7pHdkTR1EFQQhRCd+J1y45XzZJ6Kz/x3aE9K6sT++Q9TPVVddZXWd68F18wIR6epoz2hn2Hxb0axZMxPG+O3w61wYQRxH2Bo+fHjola1QRvv372+RV0IIIYQQouCRmCOEEAUExgg8IDEmsKZFEIwopP8g7Ug0I6cQQuSEBQsWWCojPN1pgxgK0h4lOyTEAJqT73hyMgT130fkCTfA8pz2kojGU0891Z100knbLRIvRGEGIQNBBjGpSZMmth5OXkN6tE6dOplYQJ1no676jbr82GOPWQq3ZJk7d66dE0J0MJonCKIOUUpEHiL+IvawVg6p4Ap7erVwSE1HejyEfA9t6oknnujuuOMOu3ZCCCGEEKJgkZgjhBD5DF7qpPnAkEo+d1KcBJtiDBKkPyF3OZ62QgiRF+B1TxQOETsYO/Hax2Meg2ck8Mj3xk+Menjak0KN9ox2je+yxgXe+pGGl0T/sF4H4I2PqBQLPPSJTvCRCkQD8Zvsg7RPRDbwmodUUxK/hUg9qO8vv/yypTcjMoh0Z6xrc8QRR1iKNlI5ioKHNH6kxiPdr49gAkRxIqxwMCISSgghhBBCFBwSc4QQIp9gYrxq1Sr33XffuTfffNNy53shJ9gUE5VDHvdLL71UXqNCiHwFMWbevHmhZ9tCup1InvykUGINC9JEIgr5BdzZF2meiPrhv19DJwjiNYZd2jqEGfbPRpon0jSRfgrxho21QFhzIzwiRwghRO7A+kR33nmntetBmjdvbtE5devWDb0ihBBCCCEKAok5QgiRD7AoOAuRf/TRR5a7nhQnGDjxRiUXPB7tgJGSfPKkXmMBZCGESEdI08NaGwg7iDh44xOxEw6RNIg2ROEg6rDYO4KN0vkIIUT+g5PRQw89ZOsNEXHpqVSpko1NjzzyyNArQgghhBCiIJCYI4QQeQxGzUmTJrlRo0bZgr94qCPikK+dBY/JJ+8XJEbMYa2HPn36yJgphMgzEJBfffVVW6j83HPPtbYoXWDo+uOPP9rxY1g8+uijFa0jhBC5BCkwr776altnyFOlShV37733utatW4deEUIIIYQQBUHklSKFEELsMHg0kqYCEYfFfT///HMzoJIn/pxzzrHFfi+88EKLxCGlEOCZ3rBhw23WgRBCZD6kKHv44Yfd+++/HzGCJbfB+3rQoEFu4MCBJjanE4g533//vXmPv/HGGxYBJIQQIneoUaOG9UeMVz2kWWvUqFHomRBCCCGEKCgk5gghRB5ACjUWBn/00Udtw1DLorHNmjVzF110kYk4iDasA3HJJZdkp1SrXLmyq1+/vqUcEkKkN4gyL774oom3X3/9dejV7UHkbdeunevdu7ctPs26M3kNbdT69estDRpbOoGYwzVjW7ZsmUU7CiGEyD1Yo2zo0KGuf//+7umnn3Y9e/a0FJhCCCGEEKJgkZgjhBC5CEZGFv1+7733XJcuXcxrHIPpXnvtZemAevTo4U4//XRLocbC36QGYvv555/tOWksqlevbutICCHSmxkzZlj0y+uvv24paxBQIkE7MWvWLFtbBgMagm5ew7EQPUh7tWrVKvfbb79Zap2JEyfa+l6kh/znn39Cn049/LFx3Bz/ypUrLSXQ5MmT3dy5cy19nBBCiJyDeIMzwoknnugqVKigdJZCCCGEECmAxBwhhMgl8ML/5ZdfLDXF3XffbYZR0qWRrqJ79+7ugQcesGicIIg/GHzxLEfA4bMIP0KI9IcIuz322MMeT5kyxa1YscIeB6HdYO0XOOigg6zt8GkXcxN+Z9GiRSYccyzjxo3LTk9GNBCGOiIFDznkEGunTjnllG3WS8hP/vrrLzte2kfgP8eKSEN7+c0332SnhiN9JWvmENVISiCuIamA+vbta+8LIYQQQgghhBCZwk5ZE+StM2UhhBA5Ag931p/AuPj222+boXHt2rWudOnSrkWLFra4eJMmTSzNWjiIOHfccYcbOXKkq1atmrv++uvNA9IbgIUQ6QuCxP333+8GDBhgEXpvvvmmO+OMM0LvbgUx4qyzzjKxYtiwYfY4EkSi+Gi+WDCsI+Jml1122SbC78MPP7T1cRCcEXVos4IULVrU7b333q58+fLmjX3ggQdaNBHtUk7hmDmv1atXu82bN7sSJUrY/vkfPA8+R3TN/PnzbZ0xRC/OAVHmqKOOsuibJ5980tYTImKIz4VTrlw5E6SIeuQ/1xmP8h2BqCWOnfaca0mbzvFHasuDIEbF+4wQQgghhBBCCJEsEnOEEGIHQMjB2Dd69Gj3v//9z1IlYYSsXbu2O/bYY93JJ59s0TZ77rln6BvbggB03XXXuYULF7qmTZu62267zdbPUSoLITKDCRMmuCuuuMKiYRBHEFQ8mzZtcl27drV1CUitNnbs2G0i8xii/fjjj9a+kEasVKlSrnHjxhY9g7AQBEGE9uezzz6zqEDEnIMPPtiiVtgn0YGPPPJI6NPbgmCCiEy7hXhDlAuiRfjaXaxRw3o+ixcvtrYP4aRBgwYR0+9wPIjbpJzk8wgjHPO+++7rTj31VHf44YebQEIb+N1339nGvllfjOsCHD/fnzdvnl0nrmU4HOtJJ51k65ERWcTzSpUquZIlS253TFxDfgOBievD54hCihQNieD1zDPP2PEgLnGsfJ5FwE877TT7neD+EatI8fbll1+a+MP7CGJECiGUCSFEJoOITbuK04EQQgghhMg7JOYIIcQOgPEUb3oMqHiLY7TDONihQweLyqlYsaIZAWlq8dIPF3VeeeUV16dPH3sf4eeWW26x7wghMgMics4//3z37rvvmhiAMOFFEsSbzp07m2Dz4osvuosuusheB8SPF154wdbTYR0bnpO2EcGCiBPW5EJMAQTkMWPGuEcffdR9++23FslCm1KzZk1rixBySKvG+7RRCB9EsrCo9Q8//GDRQ0QFBiN5giDcjB8/3sQNjhUBm/0TYcMaX0cccYS78MILXdWqVUPfcO6dd95xt956q6VqCw41+Q0EoEsuucSOgWMiWoh9AsdXr149iw6iLSUFHFFERDdxbnwX4XvOnDnuwQcftHb2scceM9EkGggtRD++/PLL1k5zTzA6Ii5x/CeccILr2LGjK1asmH2eKCEiJgcPHpwtLHk4ZsSvXr16mVgDS5cutc++9dZbtt4Qv4dAVKdOHXfBBRe4yy67LHvfQgiRSSDWE3WK8E2qy2OOOcbWfksW+olRo0aZGO77lXCHAiGEEEIIITFHCCFyBB7qpFNjrYuvvvrKFtvGOIh3+8UXX2wGR4ySeG7TzCL6YNSsUqWKGSgxgmKcvffee03QwaiI1/55550nL24hMow777zTBBPaCQSJQw891NoQxNunnnrKomGI3PFr5fDeE088YZE0y5Yts3aEVI08XrJkiUXoYPTC2EX78sUXX5i4QztDRAyiMYICYBRDCGnbtq2lKKOdQihBXOY7r732mrvvvvvcDTfcEDE1GIY1joO2DtGF/QOf5bf//vtvEy4QYJ577jmLLESYueqqqyxakc8jPmHkQxghyogIFtpADHWcE9A2InwQZYPoxf5pC4kQQkxCYOH68T3OnygdhByEKa4VUTyRmD17tuvXr5/79NNPTXQBBCWuKZ7kgECDmM514vdGjBhhAhgp32rVquVOP/10iz5CyPrggw/sWBDKiMLhHLh+CF2kzeRaED3Fe/wGUVQIVhynEEJkEoxjcUQg4pTHtM+0lTgHsO5aMtC2Ep1Ou4zjAiI7/Qj7E0IIIYQQ/6E4aCGESBIMdp988okbMmRItpCDARBPbYx6GBXxwvYpeDBsYmwkAodJLymQMIJiWMX4ymOMk3gySsgRIvNo2bKlGbkAgxWQXozIHKJqiNzxQg7tASIIAgriA+vGkBqMzxIFiKhD5A2CCEIKKcAQkPGKpt256aabLGqF7/CclGK0Mz6qB+GI1xF1fHoxjHAcRySIyCGiBVEEYYa2DuGC9osolL59+9p3EVeIzkGUQrCaOnWqff7ss8+2CKMePXq422+/3X300UcWEYTIEVyPBwGL80LUId0b6Sn5LSBtD+v5IKzwmhd6gO+FR88E4ZqR7s0LOXXr1jVBieMntRsCEm00n7v88stNwPn4448t9SXgcX7PPfeYcRLhjePHwMi1QzDjew8//LD1C6yPxnVgfSLEHO4lkVhcJyGEyDQQ+xkH04cAUY/0P4yHaRej9SuRIOUwqTDpB2ivX3rpJetHEPOFEEIIIcR/SMwRQogkYJKJcXPQoEHmDY93O2s/3H333e7MM880g20wXzgT29dff928wjH8sWHgZHLKZJWJKmCYxBtdCJF5IPD6NW4QdImuQdRBkCGKhrbDQ/QLkSFefGjTpo0JDIgkpPLiP5ElrMlCW8OaMrxPG4KQg2iMIEIkDOIJkTmIOLFAdAjCcx+Bw359m4bojIjNGkCcD2nE+D2EKaJbiFzhGOfOnWsiE98jIolzRIBhYx+kWEPwwAh444032mu0lV7k6d+/v4kttK/xoC0NP/7ga4hkCFfANSHdHWnSOH5+i/WKaKP5PEIM94doIZ4TLYl4RvQN13yPPfawyCPSupH6jue0/XiSkx6Ta829Rczq3bu3/SZr93hRSgghMgnawEhrppEaEycmBHIcC3A8iAftcRC+g+MAfYkQQgghhPgPiTlCCJEAGBUxmDKxvPnmm02EwUhHbnDWuSDdjzfWepiIYtTDMIv3uF9rAc9wwOCJsRMDJwZDPM+FEJkHIi9pzjB4IQiTdo01ZQBjlxdbaDOIFiEyhMgPRA7WhSH1GCnV8FTGeHbcccfZGjGIFHwWiP5h3RcicDxEw7A/0jdGwns887v+MSIGxjfEJo4VMYc2ChBxSCUZTv369e11vLARQlhDgTaPNpF2LxoIJKSaJPqlffv2Fp3I9/DqJhUdoglr+vBaOFxL2k+O3QtPQKQkkTgITJxTUMxBWNp3333tcZB27dpZlBDnSzpM72VOhFAsMFYiunGNEOoRoWjjjz76aBP7EbFat269nZFSCCEyAdZtI0UlaSd9O+uhbf78888thSf9nU/9GY0jjzwyu6/xIJo///zzCQn7QgghhBCFBYk5QggRA4yBpH1gQooHNl7neBwivGBgxbiJ4c6nSPLwPVJNkC4JT20MsBj1MLgyWSUlD6mPmKBi8MPbG4OgECIzId2YF3OIQEGkIILmtNNOy14cH9GCyBvShmEgQ9Q49dRTbQ0WomCaN29uKdVIbUYaMvBCBuluEFEwoHn4PfbtI2uC8BqCNPC7fv0Y2q6ePXtaWjGiEDHQea9rjjccfh/RmtSTtGU+dRrCTnjETCRoD2lDaVvZiIY57LDDTDzn/Endxro+XLcgCEEcP8ceNPR9//33FumECMZ7fn0ciCSY8xnEJNKhIZ5VrVo1e39BkSgcrtMbb7xh58w9Iirq+OOPtzXREOxp66+88koT1IjaEUKITIN+hPaaCEvWBWOsGw4pOokSJaKdlJbROOOMM1zTpk1Dz/6DyEnvtCCEEEIIISTmCCFEVDBEIuSQxoi1EjBsYqBkDYtOnTrZugmkTyIFTzgIPmPGjDEjJ0ZSDJwYZ1nzAeMo61jgAY5BEGMmXo3hHolCiMyBFF+IMUFYIJrXvdiCsECqMiBajzUEiP4gQoU1dHhMJAuRHt4LulWrVvafaBpSniFMsN5LPCEFkcOLG6Q089Eo7Id2CwGEDXGDCBsev/rqq9YeYpxD/GAdH0STrl272j44FtaN8eIJqdNirWcDRLAg4vB9oo84P7/GGNE5iFtEMhFtE9wXRkNEklWrVpmBkPOlrSVtmofjINrHi+0cK6ndOHbOwS+4TbQlEU1EB3EOXsThmKLB7/7888+2b8QojJlPPvmke/TRR21jQXAcAHwkphBCZCK0gTg33XrrrSakRxsTDxgwwNryaBDl07lzZ+tzgiDk06YSbSmEEEIIIZzbpS/unUIIIbYDD/dvvvnG1lBgAWs8sBFvzjnnHBNmyBMeyeMdgyOLX2P4xKjKegmXXXaZpWTzk1yEHNZuIELnwAMPzF5vRwiRmdBWEPkxfPhwe076MSL78Gr24odPEYbQUKZMGRM3MGwRhUNkDutqITr4zwPvL1iwwESY+fPn27ovCMlEEyI2IHTw20ToIOAEIXpw1KhRJkwghnz99ddmcGM/eEhjWKOdQ2RCuOF1nwaO40Q4In0Or3OspDEjiojfR/xGrKZtixTR40G8QfigTeQYEGhIhUbqSs6NNYT8ewgtXEPgWo0ePdrOgfQ9COTPPfecRUPSlrIuD57iXGfabyKh+M/xI+K89dZbdvzsg6imSy+91CKB+J3333/fopy4B9FS1HFNuFb0E4hdROVw7Aj2HD/XLZJRUwghMg36JJwDcE6gHaRPCo+mhJ9++slEetYXiwTtNW07In4wMpL2nTaZ8XJ4SmMhhBBCiMKGxBwhhIgCBlDWQyBnNynQMC4SkYPRkvQ+kYQcwJubtBAYDZmMkm6HdXX82hGIPRhNMY6SzqdDhw62b0XmCJHZIMo8/PDDJgBglCKFWOXKlUPvZg3KdtnF2g9SliGQ0CYgSERqGzCUEWGCcMFaA7RRiDcYvDCkIYAgRn/00UfWHk2ePNnSOSJQAO0XggTCC9/BeDZu3Dj7XYxxRJVwjHyO1GEIMixEjSiCSE0aNNovBJa77rrLdevWzaJg+DzrgfHbtHW33HJLtgATCdYfQ9hGtEGAQgRnbTI2Xud4iIgkepF1ebwhD+Mh30E04nw5dlKscUxEPJHejGuCoIIwhQhGyksEHY6dc0DcOuuss+yeEFHEedNmI8ZzLYm4YV+RYH8cO/ujn2CNIwyZ4fcKQQtDJMeIB7vaeSFEpoLTQIMGDdzhhx/uFi1aZO1eOOeff/42/V4Q2kdEIfo22v4gRMoD68VFSucmhBBCCFFY2On/cEEUQggREVIPYdQjRQTehOFe8eGQVmjYsGG2Jgbe3qRDuueee8yr3sNn+vXrZ57hGD4feuihqAZDIURmQUoxBBYMWqy1Et6ekGbt2muvdZ9++qm1D4g53bt3t/SORKAgWNB2IHzQPhEp+PLLL5togOGM73322WcWXRL0jCaqkMgVBBoP75P2hjbIQ4QKa+bQZgWPjeEiv4HXNEY12kLS4mB84ziDn+UzL730khncEKzCI4KCcA4scP3AAw+YyBIJ0lSSIu3000/fZl8IOUQ3IagARkTSnXXs2HG7qBiOHaGGc6Y9RwRDGEJA4/iDIHyxHg7rEwXb7nAQkxBwEMXYB2s+IPgjfhHtxPF5YZ/rR5QnopFPkSeEEJkK4j8pQmlLfYpMIjdZAy3eGpE4A+Bv6tOOeohOJYKyXbt2oVeEEEIIIQofEnOEECIONJOxBJwgeGCTeodUP0xWL7/8cjPuYfj0YAAktzjROXisjxgxwtLyJPobQojMhfaGtQFYy4UIEcSO8KEawgHtC17QrPdCVEwkEEcQOjCq4c2M2BEuXJDqkehDfocIQQSagoCoGc7Xp4vj3EhRifHv2GOPzY4oCsJ1Ic0aUUVE7iBU5adQwu+z5s8NN9xg6YMQ28LvFcfDuRCZyQLgrVu33u4eCCFEJoJwjjiOEwJtIEJ7ou0fTguMp+kbgu0q/RhjaNagkzAuhBBCiMKIxBwhhMhF8D5EyGEdCaJy8JonnYQXamhymdjicUi6ItIj3Xfffba+ghBCeBBiiOr48MMPLcoPoYCoFIQBvJOJFCSFIwKMKDiI+GGNoyFDhrivvvrK7hVp4YgMIq0aa0OQcog100hDFytKSQghxFaIeHzqqadMBOdxEIQcBB2iICWOCyGEEKKwITFHCCFyGTwRWYOCdXXI/R003mH4YwF0vA0x+uGl2KdPH3kXCiEiQkozPJNJD7bnnnua8IuYozUDUgtSuBEBxb0ilSZp3FiDh/slAUcIIRKD9pMod9pO+j3Wbxs1alTo3f9o27atrckWbf0dIYQQQohMRWKOEELkMr5ZjZQ2jbUkyCH+wgsvmDchE1HWlFCKNSGEEEIIUViZMWOGralDZGq9evUs8hRRnLXdxo4dG/rUVnBuwCGqR48e9lgIIYQQorCwS19y/QghhMg1EGaiiTN4GbJAOetYELXToUMHV6NGjdC7QgghhBBCFC5whMLB6d1337W1JadPn+4mTJhgTlBHHHGERessXbo09Gnn/v77b0txSZRq06ZNQ68KIYQQQmQ+SjIrhBD5yKpVq9yiRYvsMakhmjRpYo+FEEIIIYQojCDmIN789ddf9px14ubPn++GDRvm7r//fnOAqlatmr3nISUb6+oQzSOEEEIIUViQmCOEEPkEXoRMTEkfwfoKderUUWoIIYQQQghRqCGivXbt2qFn/7FlyxZbO2706NEm3hQtWjT0zlZYf/Lhhx92H374YXaaYyGEEEKITEZijhBC5AAmjHgN/vnnn6FX4oO3IRNSvle8eHFLr6a1coQQQgghRCaybt06t2DBAkuJRmQ6adP+/fff0Lv/wXi4W7durlKlShEdnXCCIlXxpk2bths7L1u2zASdL7/80hynhBBCCCEyGa2ZI4QQSYKQgyjDpHH16tWufPnybrfddgu9G50//vjDjRkzxk2cONGVKlXKnXXWWa5mzZoSdIQQQgghREbBGHnw4MGuf//+7tlnn3Xjx493y5cvdxs3bsx2iNp1111tYyxM+uGDDz7YxtSIPoybEXESgTTGrKmz7777ugoVKridd5bPqhBCCCEyE4k5QgiRJAg57733nnv++edtgdYDDjjAlStXLqYogwC0ePFiN3LkSEu1RiqJtm3bWg5wiTlCCCGEECKTGDt2rEXMILIQMcP4+fvvv7fX+T958mQ3c+ZMGxcj8iDg4CDVrFkzG1sjyPAdRJ1EIEKH6J0GDRq40qVLa3wthBBCiIxEYo4QQiQBHoLk7R4yZIibO3eu22uvvVzLli1dxYoV44o5fP7tt982T8VGjRq54447ziJ0hBBCCCGEyCSIRH/nnXdCz/6DdXAQb+bMmWOizrfffusmTJjgvv76a/fVV1/ZY0ScYsWKuTJlyth3iLwJB4eooNBD+jYcp4j4OeKIIyziRwghhBAi01D8sRBCJAiTT1KrDRs2zP3yyy/m9YeQQ1qIRLz/SCnB50qWLGlpIMIXcRVCCCGEECIT2G+//cx5KR6kXVu4cKH74YcfLGpn1KhR5jT16quvmsBDZA8Ex9pVqlRxHTt2tP9BWFPnrbfesvRuQgghhBCZiCJzhBAiQfASfPTRR21iSaTNoYce6i699FJXvXr1uLm5mYCyoCsT1oYNG7ozzzzTFnlNRAQSQgghhBAinSBypm7dutkRMzhFJQrf4fOkXov0PcbT06ZNM0cpPsu43ENkDhE/jLNJuSaEEEIIkUnslDXw+W/kI4QQYjtoJkkF8fjjj7sPP/zQJo0IOVdddZX932OPPUKfjI2fmO6+++5ul112Cb0qhBBCCCFE5kKatPHjx7vPPvvMhBYcpEhdzFo6jI/zAlIhP/nkk65FixZxna6EEEIIIdIFiTlCCBEDmsgVK1a44cOHu1deecUWV61atarr3LmzO+2001zx4sVDnxRCCCGEEELEgnVupk6d6qZMmeImT57slixZYunR2Ii08duOijxEv5PmbcCAAa5+/fqhV4UQQggh0huJOUIIEYN169a5d9991w0cONAtWrTIFmO98sor3YUXXmhr5gghhBBCCCFyBmNt1sVhQ9jxj9esWePWrl2bva1fv96ieZKBcTuR9Ndee23oFSGEEEKI9EZijhBCRAGPQNKrPfLII+6TTz6x9GjHHHOMu+aaa1ydOnVCnxJCCCGEEELkFog2CDjLly+3jSh5/5goef4j+KxevTr0jciwXiXrW/bs2TP0ihBCCCFEeiMxRwghokDziJhDvu2PPvrINWzY0PXu3dtSNmjNGyGEEEIIIfIHBB6ic3777TfbEHsQdhirz549282dO9eesw6Pp1atWpZmrWnTpqFXhBBCCCHSG4k5QggRA/J6z5gxw02fPt0WUGVSuNtuu4XeFUIIIYQQQhQECDcbN2608TobETw//PCDOWHVrl3bHX744a5t27Zu1113DX1DCCGEECK9kZgjhBBxIN0aTaWicYQQQgghhEhNGK8zbv/rr7/czjvvbGN3jd+FEEIIkUlIzBFCCCGEEEIIIYQQQgghhEhhdg79F0IIIYQQQgghhBBCCCGEECmIxBwhhBBCCCGEEEIIIYQQQogURmnWhBAiiy1btmTn1d5pp51CrwohhBBCFAxr1qxx69evd7vttpttLOIefJyKa4GwID3rlfDfb/45a5hUrVo19EkhhBBCCCFEskjMEUIUajAuzJs3z/3www8m4hx22GGucuXKoXeFEEKEs3HjRrd48WK3evVq+1+mTBnXunVrt3nzZhPGg/9pY+OBUbpkyZJur732ckWKFDGDrxCFne+++84NGDDALV++PNvZxC/o7v9Td3bfffeImxd8vOgT/t8/Dj4H6uyff/5pAoz/H3wc6z22f/75xxag9//9YzaOu02bNq5Xr172W0IIIYQQQojkkJgjhCi0YGD45Zdf3Ouvv+4+/vhjM2BgOGnWrJmic4QQhQ5EGiIB2BBq/GNEGQzKv/76q21Lly414603+mIMRohhSOmNt2w8T3SY6Q3KDRs2NM/9UqVKubJly9rjWrVq2cZvqG0WhYENGza4Bx980N11110xBVHqg98QSiI99lv45yO9Br7eButw8HG85/FA+H3ppZdctWrVQq8IIYQQQgghEkVijhCi0PLHH3+4hx56yL3yyitu06ZNrnHjxu722293Bx98cLZRQwghMo25c+e6UaNGubFjx7qZM2e6lStXmvEYgyyEDw2Dz/N62Bje9vrnkdpkxJ3999/fHXHEEe6EE05wzZs3N1FIiHTn999/d/fee6/r37+/69Chg6tfv37ona2i64oVK2yj3iL2+IgY/vvn/Pdb8Ln/bKy67FO5EeGzxx57ZD/2ET/+cXCL9/qyZcvcCy+84Fq0aGH/69SpE/o1IYQQQgghRKJIzBFCFDpo9hYuXOgGDx7s3nrrLTOGVKxY0Z155pmuY8eObu+99w59Uggh0gvaNyJp/LZ27Vo3bdo0N378eDdmzBiLRuT1aBAd442v/A9uRYsWdcWKFbOoGYQUonRWrVoV+mZkOJ5YGwIShmWMzMH//jGfSZTatWu77t27WxonDNB77rmnpW3jMZEKQqQLQTHnrLPOco899pirUKFC6N30hHo5evRod/jhh7vnn3/e1a1bN/SOEEIIIYQQIlEk5gghCh1Lliyx1GrDhw83z9YqVaq4M844w4SccuXKhT4lhBDpAwINnu+sAfbNN99YxM2PP/7ofvrpJ4tCDAeBA0GmePHiJtCw8Zg2kPRHpDejbfQbz5MVRBBqEGSC62mEb0RF+nRufkOA8v8R2/36O8GN7/nH/EYQzmOfffaxqJ1GjRrZVqlSJRPty5cvbyKPEKlMJoo51MMZM2ZYBB3ONMFoIyGEEEIIIURiSMwRQhQa8PRm3Yc333zTPfXUU2bgJArnoosucm3btjWDpVL0CCHSCYQMom4mT55sadMmTpxogjXtnYcoG9o6xAwMwmyVK1c2gcY/9xuiTqrAEBWxZt26dWbc/u2330zgifbfP0YIoq33IhbCVc2aNS2VJmk0jznmGBN6iDYSIhXJNDEHQZfjp34edthhJuawPpYQQgghhBAiOSTmCCEKDawLQTTOiBEjLD0QntpE5GAoQchRGh4hRDpBmzZ06FDbiMhZv3596B3natSo4Q444AATMUg/Vr169WzBBmGH6JVMgSgdjMR+Q9SZP3+++/bbb92kSZPcrFmzzJgMROWwxs5VV11laZ9SSbwSwpNpYs7ixYst4o9p56GHHuoGDRpkgqoQQgghhBAiOSTmCCEKBaTqee+99yxP+5w5cyzVDosKYyTBOz3S4tpCCJGq/PDDD653795u3LhxFokCZcuWNa/3Vq1audatW5vxt2TJkpZOrbBFHZLCjfV8iND54osv3BtvvGHXCrgWGJbPP/98V6ZMGXfddddJzBcFyqJFiyydICJriRIlrDx++OGH7u233zZRtlOnTrZWVbL4taeoD/xn47Xg8+DruQVtDkKy5/vvv3dNmza1x4cccoh77rnnLFJOCCGEEEIIkRwSc4QQhQKMnffff79F5mCw6NKli3lm45UtI54QIt1AgHj66act4oQ0aiwqfv3119t/DMJaF+Y/MJKTqu21116zCAcEfShatKi1/w899JC7/PLL7TUh8hNElJdfftnGJ0SVUR7ZcDChbrMVKVLERFnSBVLX2UgR6B+zMZ3buHHjdpsXaHjfT/liPc4tOIcrr7zS9enTx56///777uSTT7bHiDrPPvusO/DAA+25EEIIIYQQInEk5gghCg2sJ4FBAa/Q448/3rxfhRAi3fjyyy/NU3/u3Llm6O3WrZu7+eabzRteROfff/91EyZMMDGfSAEPBue+ffuGngmRfxA5Rt198cUX3S677GKvxZqa5WTaluh3okUoJ/s6ICKdeuqpJp6S8vGFF15wl1xyib130EEHuWeeeSY7UkcIIYQQQgiROBJzhBCFBjxcWVOCFDsYPZVaTQiRjnz66acWScI6ORdeeKEbMmRI6B0RD1JuEgVx55132nPWDxozZowWYxcFQlDMoU7vs88+tuaTT53INA0REnGE/34Lfx7ptUS+QwQNUT6RNsZKkV73W6T3eY01qgYOHGhOM4g5devWdQ8++KDr3r27nRMROUQVsnaOEEIIIYQQIjkk5gghhBBCpAm//vqre+edd2xxdBYVP+WUU+wxRmDSq4nokNLq888/d7169XITJ06019q1a+fefPPN7KgIIfKTcDEH8SPdUySee+65ltKQtbs4H9bG6devX3bKtSZNmrinnnrKNWvWzJ4LIYQQQgghEkcLRQghhBBCpAGbN292w4YNc3fccYdbtmyZvcYi6ddcc415vrPQ/4oVK8zjXvwHa4cg3rDoOgZlL+RAlSpVQo+EELmBjyqivWIDIuI8PtpICCGEEEIIkTwSc4QQGQHGAYwGeF4LIUQm8tdff5mIs3LlSkuZBBhFEXEGDBjgunbt6q6++mp7/Mknn2QLPoWRTZs2uZ9++smNHDnS3XLLLe7aa691t956q/vqq68sHRSLxguRLlDfSRWLMIkw8ttvv7nVq1ebeLt06VK3cOFCt2DBAltHizRnbDyeP3++vbdkyRKLAqLtQGz5/fffbT/UE/bL/nMrWQPHBeybDf744w/7Dz7FmxBCCCGEECJ5lGZNCJH2YOD84Ycf3JQpU1z58uXd4Ycf7sqUKaM1cYQQGQUGV9Z6ITLH06hRI4suGTdunBlMWQOjRIkS1gaWLVvW1oIhzRHrU5DeqFixYqFvZhYYpzFez5w5002aNMnNmDHDDNi8jgEbsR8Rh9RPVatWdaNHjzYjOOIXqaCUZk3kJ19//bWJKaRKJMUagmzTpk3d0UcfbWWV91jjj4167de7YdoWvkV6HRgDxdtoL/xj6gAp3ooWLeqKFCli/8O3aK83aNDAlSpVyn63Zs2aJiLVrl3bPf744+7EE090F110kRs6dKi9T5vFmjrURSGEEEIIIURySMwRQqQ1eIAi5AwfPtx9+eWXZrwk//yxxx5rC/EKIUQmgZhz++23h545WzNnyJAh7rvvvnMvvfSSpV3zaY7AL1JOJApGV4SMWrVqmcGVzT+uVq1aWkSrIMz88ssv2du8efMsCmHOnDkWBYC4z0aUpvf+R+Q/8sgj3ZlnnulOOOEE9+mnn7rrrrvOIhYk5oj8BoEVEYcpGCLNli1brLxSBqmvQXHGP84vgkJPrC0oArFx3AhUderUcXvttZeJUIjMTzzxhDvttNOs7rE2FXD+iDxHHXWUPRdCCCGEEEIkjsQcIURaguEDo95HH33kXnjhBfMC3WOPPdz+++9vxrmWLVsqjY4QIuMIF3NOPfVU9/bbb4eeObd27VpbE4Y0awg7pF7yXv3891v48A9DcsmSJS2iJ7ghkBPpg8c+G+1s+H822lsvGkV7zG+Q0slvGLHD/yPI0LaTIi7SRpqp8GPHsMy+vTGc36tQoYI74ogjXNu2bd0xxxyzTUTSu+++a/0EYg4p2Lim7EOIvGby5MlWHqmn1Bvw9dMLI8ngPx/tf6Iksx/qn6+D/Pfi6aBBg9zFF1+c7UhDHUTMQcghOof2CIjiQcwhCkmIVMGXZe8EkClQH32dFEIIIURmIDFHCJF2YMwjGoeFwN9//30zApL64+CDD3ann366ReX4dB9CCJFJxBNzgjDEQxhB7CaCJbgR1ejXtCCtE+2o3zBopeLwEMMyQg1GcKKMihcvbgJUxYoVXb169WyrX7++22+//dzee+8d+tb2BMUcUlxdeOGFEY3WQuQ2Xswhjdpll13mqlevbvWRtW8o16VLl064LCJAeqGU7wYFVL/lZF9svp4FX8PITVvB5tsNogBfeeUVN378eItwu/TSS7OF03Llyploc84551hKNaKngXrKZ4877jh7LkRBQ9mePn26GzFihDkNZBLMjdq3b28RqkIUJIwvcWQIX98WRxycg+iHGNtJfBRCiPhIzBFCpA0M/n799Vc3duxYSyfE+gg0YaQHwgP7ggsusPQdQgiRqSQj5sSCtWRYU4Z0TxiSMcoyyUbkYXF1jM0I55E21vDAmEtEQW6AwTi4YUTGIMyknv9+Q7zx0UIYwRFtaPNJ65QMEnNEQcHafkSkkIbsqquuMlEjnWFtKlIWkrrwvvvuc5dffrnVT8Cphsic888/3wzKrGUFEnNEqkFfQFTZZ599lpKODDsC/Sl1s0uXLta/CpHfrFu3zvo+HDGnTZtm40wfAYeAw/gOsZGySipg+hAccth4zCaBRwghtkVijhAiLUDIYQCIiPPtt9+65cuX2+CPhb3Jx46nq6JxhBCZTm6JObFgaOgXYGcS7v8HH/M+XpY+bRsTczb/ONrrTMiZsAc3vP6D/xFxEGiIuvH/2RBz8ODcUSTmiILCR+ZQh8466yyLME5nWLeqW7du7p133nF9+vRxV155patcubK9R31FzLnoootMwPn555/tdYk5ItUgLek111yTXUYzDerayJEjrW8VIj8hgpN1bZ977jlzGsJZiOg3xoOAmMNGVGqlSpVsvk85xVmHsSgCJKk5DznkENekSRNz6BFCCCExRwiRJmA0vP/++92rr75qKYCIxsG7lQkK6+QQni1jnBAi08kPMSdRGEJ6sSbeY//fp3PyW0F4W0rMEQWFj8zBoMX4hXX/0hki+xBz3njjDdezZ0/XuXNnV6tWLXuPcdnAgQMt4qF27dqW7hEk5ohUY/bs2Rbdj7NYJnL99de7e++915wlhMhPSMFJVBhCDkL/AQcc4Jo2bWoOOowJidIhShwHoUWLFtk6j0SLs1YjqToRbxg38n0cBFiDDSfOoAMn7+HkidMnQhGR57xGmmEciWDfffe1327durWt5yaEEOmOxBwhRFpAah88e5599llXt25dd+SRR5p3KwMypQ0QQhQWUknMSVck5oiCwkfmkNLw0EMPdd98801alz2McBiKGZ8R2YDRjnWrgLEZkTmIOXhZY6QDiTki1cDgi7MYKQMxAodD6ifSQGFUTlWIKsIgHs7JJ5/sBgwYYPVO/ZzITxBrbrnlFvfAAw+4li1bul69ell0DVE49A+YIXHQJHpny5YtFvnN4zlz5lhKNpwfSOWJKMN3qH98bp999rF12IhwnTp1qr3vv89/9smGI6g3dZLNA4GIKB/W16X/QeDJjWhvIYQoCCTmCCHSBtZoIKUHA0AmVkWKFNHERAhRqJCYs+NIzBEFRVDMOeigg9zXX39t6QXTlaCYc8kll7iuXbuasQ6oU4g5nTp1MkMyax6CxByRiiDoUI7PO++80Cv/cfzxx7sXXnghZVM8DRkyxMYFRDQEOfbYY91DDz3kGjVqpD5O5BmkRkN4YY5OZCZOlwgniDmI+T/++KM5Y5IaPRFBlO+xUSfZJk6c6D744AM3YsQI+w1AhMGMyefq1KnjzjjjDBNnqlSpYhFARIN6iNhZtWqV++mnn9xXX31l/S5CEGsuXnbZZTaOJsWbEEKkE6nrXiKEyHgYgOE1w2LaeNPE05YRb/CowcOTfLqamAghChs1atRQigghMgA/BsoUcLjBq9rDmA4jXyado8hcMA6fe+657rXXXrMUgUFGjx5t60Hh7c97qbLh3MZ6Vf37999GyMFgTkqpG2+80VJRa74k8gLm7x9//LFFf5100kkm5hMxg6jSsWNHSyP61ltvmZAyd+7chCPb+JxfX5H5PvskTSARO0SgkdKT6BxgXUUcBu6++2536aWXuhNOOMHKPpE4fmvevLlr27at69Gjhx0PaUF5bfr06ebY06xZM/f8889bHyaEEOmCxBwhRL7ivWgY2M2cOdMGek899ZSlNyDfbTw0IRFCCCFEOhIcw2SCmMOYzjvikA6XFDdBvJgTz1lHiFThrLPOsnRrpHUKQkTnDTfcYPOXVIC6RZQB61LNmzcv9OrWNgbHt7vuussM20LkJgg4zN+//PJLd+utt7o2bdqYqEgqvwcffNCdcsopFikzduxYE3gQQFnDBjEnN2Dft912m63VRgROixYt7H8y9oEjjjjConwQchCeatas6R555BETcumXhRAiHZCYI4TIF5jME31DzvQxY8a4wYMHu4cfftjdc889FnpNigAWHtWEXwghhBCZTiaIOX5tAkDM8YtNeyTmiHQDozBre1xxxRXm9R+EVGsYrUkvWJBQn1hvq0+fPu6LL74IvboV0kWxTgmRCELkBszdSZVGalrm7KTUvOCCC6zskS6UNp6UtUS9EEWDKIKwg6hYqlQpd+KJJ1p60dyC4+E3EGIo6+eff37Szp6kTOQYidah38JG8f3335tYJYQQ6YDEHCFEnsIAb/78+W7cuHFu2LBh5inGmg9E4uDVQ1oAwqjxtCF9kCb8QgghhMhEgmOcTBBzgmnUIhnBJOaIdKRkyZKuS5cuFqVDmicPRt9nnnnGDRo0yNbcKChYf+rmm292n332WeiVrZCClXlW+/btQ68IsWNQzhE8WJOJ9dFId4ZwQvlj7TO2q666yqLWHnjgAXvMurYdOnRw1157raUvJP1Z06ZNQ3vccehXqItnn322pUvjN3IKwhTnVq5cOcsQwnp2QgiRDkjMEULkGaTbwHOMNGoM8JgAffLJJ+ZRw+SefLcsgItnGXmdWYgw0Xy6QgghxI4ya9YsGZpFvhH0HqbcpbuYEx6ZEw7vhadeEyIdwCB90003mTDC+jQejNvPPfecRengzZ/fIOR07tzZjR8/PvTKVojIefTRR22tkt133z30qhA7BuvLME4iSm3q1Kkm2jz++OO2Tk3Lli3d4Ycf7k4//XSLBGNeHxRWqDesWdOoUaPQKzsOIg5r5yxbtsyifnbUbkA/vHTpUqsza9asKVCRVgghkkFWUyFEnsFCuKROI8804dkbNmywBQ1bt25tnjtMkhBy2rVrZ0IOOXeFEEKI/OK3336TmCMKBCJzvBCSrsQTcxSZI9IVhNfatWub1z5RBV6IpSwvXrzYIhTefPPNfBVkEXIuvvhiN3r06NArW8FoTvTEqaeeqrmUyFWGDx9uKdKIAqOMde3a1R188MGWVSMe9A3UG+b+uQX7nD59utkYcgPqL2vwIFTRX23atCn0jhCpCRlvSHeIkzR9kSi8SMwRQuQZTHhKlChhOW0bN25skwxSrfXv3988ehgc4knGxEMROUIIIYTIZMJFjXQXOTCseWN2JCOYxByRzmCIZg7z/PPPm7DjoTyTkqlv377uu+++y5fyTf3q2bOnpagOLtKOUR1j9OWXX+6KFCkSelWIHQejMduECRNc+fLlrYyRdjAYYRoL0qevXr3anDpzC/qcX375JfRsx6H+PPTQQ1Z3fv75Z4v4ESJVoezjYMCa0zgUkMJQFF5kPRVCxIVJAxNy8sgyqGOBwFGjRlnUTXBCEQ4h2eecc4677777bJ2cu+++2x166KGuYsWKrnjx4qFPCSGESBRSVgRTvgghREHB2JANIq2ZExR7hEhXWNfz/fffd3vvvXfola2QNpqF4CdOnBh6JfdBKFq1apXr1auXGcV9fQPGA6xjcvXVV2teJXId0qshclD+KOeJijieY4891spn79697ft+rdwd6RNwAK1bt64dy46KqNSllStXWpq1WrVqWUpQ1pxCvEXYIZ3b3Llz3ZIlSxSxIwocyjt2uMmTJ9tjNjLfqGwWXiTmCCG2g3y0bKSfWbhwoZs0aZL76KOP3NNPP21eAKRIwyPgjjvucIsWLQp9a3uItiGfbf369d3++++fUEi2EEKI6LBIK4szCyHSD8ZWmURQzIlkUOB8eX9HjW5CFDQIOi+++KLbb7/9Qq9sBeMaYsqMGTNCr+QuRDY8+OCDtkZPUDDFqYO1SvDMZq4lRG6DmFGhQgUTdZjHJwt2AMSchx9+2J6TleOiiy5yH3/8sT3PCaxtc8ghh1iZj+RA4CENG0IN4lEksHF88MEHFm3EGlinnXaaOZ8yxuZ4EaKo89gwTj75ZFsniFRzP/zwgxwURIGA2Ii4GFzXCXFTDn6FF4k5QohsiLJh4EPeWPIxk4vzgQceMOGGEP6XX37ZffLJJzYwYv2bMmXK2GKBmqQLIYQQQsQm01KOIdQQfQMYz8KjtTlXDHrJenQLkYq0adPGnNpq1qwZemUrROZ06dLFnN9yE9ahGjp0qBs0aNA2BjzqVIcOHWzdUdLACZHb4Mw5bdo0Ey9ox2MJJ7EgLVv79u0tlRnpoYj0ieUIGg/KPgLLgQceaEIqdYTUaBwnYgtr/OB8ijCD7WLw4MGhb/4Hqao4HiKGWM+HxzfeeKO78sorLSqH9UgGDBhgwlOjRo3sN9jP+eef76644gr7jASd5MCxY/bs2RbhyIZQKJJj/fr1lh0nSNmyZTW+KsRIzBFCZIPi/9VXX5lHCinR8EAjIgdxh0Ec4fx4qbDWzSWXXGIeNjwXQgghhBCx8VEsmUIwMgeDnxd2guTm4tdCFCQYkhF0WAi+WrVqoVe3Mm7cOMtYkJtGSiIGmJOR5ioIUQP8loQckdvQnrNGDsILZRnxgvVvSa++I7DmDmIITqL83xGIyqHs+zrXtWtXd+2111oUEBE0pHOj3znggANckyZNQt/aCsLMK6+84t5++21L/YaQg12DiB8gEql58+aWJv6RRx6x/fntuOOOM9EIEYi6KRIHAe+xxx6z+8VaY5SvRx991OxOiBQiPqQDZI22IESSicKLxBwhMhwGZUywibiBWB6hCDaEUs+cOdPWx8GLgry0Rx99tIUhk68ZLzA8XRBzWrRoYQKPPAKEEEIIIWKTyZE5EE3M0ThRZArMezBG48lfuXLl0KtbPc9JH9WvXz9LhbOjDBkyxDIjhEcxtGrVyj3xxBPbRQcJsaPQfr/55puWTn3evHlWxrt3727zfco29oEdYZdddrG1aXZkfSdsFaQdRIzBsI0wQ8YQInUQWRE/iZ7juEl/eOKJJ4a+uRXEmC+++MJddtllJlTts88+oXe2B9GIcz/++ONtw9H17LPPthRtiFI4vIr4UK6++eYbK0NEUS1fvtyNHz/eIqgQxti4lr///nvoGyIc+hcimki7GYQsOaLwIjFHiAyC9BZseHAx+KfjfOeddyxUGG+I1157bbtOIAiDK7y9OnfubIOcgQMHmniD9wQDInLGHnbYYTbwYYCjHJ1CCCGEEImBUSPTxBwfmQNELoSDAU+ITGKvvfayFExnnnmmpZHysG4UaZ7wOA+PpkkG1vK47rrrtlvvAyGHdE/KiiDyAoQRbADYCkg5RiQK4mXbtm0tKuB///tf6JMFxzXXXGNiDn0Nwilp4d944w135513mtDStGlTV7169Yg2CpwpiObB3nHCCSdYPU6GqlWrWiQP9pBff/3VUrktWbIk9K6IBrYphJrwdfWIkkL4fvfdd02II1Ul95KUrWJbEMAQ+MPRemmFm5QQc5jUZNLEJr9AoSUtVqZNDEVy0EHi5YCHAx4PeHExuMCrpmfPnu6WW26xUOCXXnrJ/rPGTXhOcw8DHzxbLrzwQgtZRtg56KCDLJUAkxVCkCNN1IUQQuQP8nAXIn2JFLmSzjAXCYo5kYQbReaITAQjGhEAZ511li1C7WFuznwL0YX1RWPB9P3fsDk8BnPmYUEvdeoPjnREAyi1mshNsCHRL40cOdKybrAGB2Lkueeem50iE/GCdh6hcsqUKfZaXsHx0K+Ew+tExGHsx0bBGr5EDjVo0MBSTSHQxEvpifDy9ddfW13iPJOFYyDlHGvmNGzY0E2ePNnWE45mVxFbYVxQpUoVV6lSpYhjAcoW7R3p8binRFNRBlnbiPcKu52T8kV6OsSvcJIVJEVmUWBWWRppvE1+/PFH9/nnn1to3c8//2ypndQgxodFEIm0OPjgg13Hjh3NO0AUPvAwGTNmjAk3iDZ40yDajBgxwsKIGbTQASLE1KhRw6Jq6FDjCTJ77LGHfU6TbyGESC2YsLKArBAi/cg0Byzmc0HDWyRjmsaTIlNhfkUWgyOOOGIbIRPP8ptvvtm99dZbEQ3T8Pv6Le7raUvcB1/Oc4tXbHB//7M1uwLRETjeedhvvXr1bP0OHOyEyC0om9gLsB9ceumlZlciq8epp54a+sRWcOps166dW7hwoWX8INVZXsF6PaTdCtYB4LhYt+eGG26wKJzSpUuH3kkM+l1Sx02fPt3W0kkmPRX1GVsb67sg1JKxhMgeXh82bJiJEIVdcIgF4wLWJSJdP07DXPtYtihEHCKgKHO0o9i6cFwujBE7lCtSCn744YehV7YlvyJzOA6uP/US+yL3aPbs2W7+/Plml87U8p/q51UgYg4F4dtvv7WG+rTTTnMXX3yxhXISqkxEwdixY61QiOigXuMZwYJhdG5EZagTSV+4dwyomOQzQGJ9G0KcIynwQcjZysCCxpTwZzzDvHCz//77W8dJvWJBQPK8khKA94QQQqQneBPKE0uI9CTTxZxIBpp43tJCpDPMu1588UVbUyO8rGN8jhSNRxMw4uNZ7pGhk9zQUTPd829NdwuXrTcvdOaBQcdWvNkxaBIdERSMxLZw7TDWsx7Kp59+anYSv16siAzXC49/nENZ8B9nzmgLqpN+nfL3wgsvWIROXhhwcfRmXd5BgwZZ5I2HOsHvNmnSxNbCyQnYH6dNm2ap0rCRJAq2NgRWbCikcSMaD1slET6nnHKKmzFjhl2PHUmrWBgg+wviDOL3rbfeain89ttvP0vjFw3KGA7K3bp1s/tOmrFJkyYVqnpNGjqEfA91MBgJmtfOfaTGo50g+II6eNddd1kKUCL3vB2fAIN4NsvcgmhXIuIQUBGUosG4lHaDz9M3JArtBAEm7J90p++99561RWgX3IvwVIEFzS59swg9zhe4sFwMDMuIEMGLS1gyavn3339vF4p8l4QyyptrexBzGKgsWLDAnhO62Lp164RTYDGwXLx4seVfTCQsVeQulHs2yjkdEveBhgPvGIQ58rmyqB9ln4UCo8Egiu9Sd8ifjMcWoalHHXWUdZh4jbRs2dIicigje++9t9KkCSFEGkP/j2ekH8TWrVvXBtUicWbNmmUDdCaKhxxyiPWb6htFfoAhgkVsMZ5hNMM4VL58+dC76QfjVtojP8Ht1KnTNnndmzVr5po3b26veUc9zps6V7t2bXsu0h/uP966eOliPMHYhGG4sFCyZEl36KGHWiROMD0aEQAYvMLn2b9v2OL+98ls99v6LSbsbPnrX1etUgm3b/Uy7tVXXzUnPQ/pnEgrFc3ILrbOh+nXWSOWFFiIaNiTeI15NgY6yiPCm/gPxkHYH1gfF3sCwgSiTSQqVqxo1xI7xcyZM+0xbTo2CKImsFtg8CWKgtewOyQjPnIcGK2nTp1qx3DSSSdlRx1wH3H45jX6jpyAQEo5QUSgriYC50G6L/ovhKQzzjjDnX766eYoS9/dqFEjW7OH68ZYnE2Ca2yw7ZIaj2hGrh9OxrSP9CHRBAHuA5FRCGiItLSPfJb7iR0zKG5kEtSvJ554wmzm2NBpv4ieo4yRzQoOP/xws/MlCoIp9mPswAhB0da/pn7ThjK+e/31193QoUNN1KDu8136ecaxOJYjkpJulH4wEtwnxE7+s2RDTuG3iITjmpCOlOcsCRGEth5Hd6KZEPYpM4g/nA9ljy0afJf9Pv300/Y7b775pq3nxHljm6Vtop3kPIkMTIV5Y76LOUQbcAPoCKJBwaVRnDNnjgk6eKSIbaHwsj4K4a6Awb9NmzYJFSoaS/KNEiZKejtURjo1CTp5D40Y92zixInWQDLY9A3OZ599ZgIddYNGkQkyA6HGjRtH7aRoEKkjLPbXokULWxiTe0k+ZV6nsaHhp1xocCGEEOmPxJwdR2KOKCgY++Hth1NVJog5jFeZ7GJsAbw0SffLeBcQcxif4tHpjdwSczILjEwYTZ566inrm/BoZW6DcZb5KsY2vK8z3TkTsQAPfTIleBAyMUCHz7GXrf7DfT5hkdu4aWvUzi677OTq1Cjt9svaMCIFxRxSXGFATiYtVGGD9oa5NOuX4I1N+4rxDsMjIgMiOm0Vr9HXY4jTvNhZ6iZsCTiD9uvXz9K2kwYrEpRh2mycUbFjINxQz6nvOChg+MSuQf+GvY/sILEMp0H4POtBYZsiFRcL4QfFS5ZlYP+Io+w3J3D82EaIzEkU+mvS2Hfo0MGOC8dpxFXW3MFBljrPWJzUcBiric5T5HxiICTQtlHe2LiuiHdEQjE292OIIAhyXGfKA2WQes31pw8ia0EmORDQhvk2jetB/4mgiNDJ+eM8AThtM4/xILBg20VwwQ7o+x6uJ2LEk08+aU4H2Byxt7PPYHQU9RvxElGc30fIiBeRQpknci1Sfceez29ie0ZUqVChgtWdZKFdJ0LumWeecYsWLbLjwZEdx3XguCkPRAm99tpr1ibxnN8kkITHnD82Uo4hEjhSPP744+6nn37KFguBe8H4FREMMZH3uWa0AwXdj+TrzJULQmHAaB1OuCqI2kchIz0UN19sTzAEO+gFBFxrCl7wMx4aPRa5I0SUAQ4Vg0lWpM+K3IN7glcBjfKDDz5ouUBRurkXDIYQb/BsobFiwE7oKZ1cvEaCjo+GiQEWjRMdWTSVXQghhBBCFAxMODMJ5g4YUjzMPcINKnIWy2wwLJEWCY98DOZ4ESOWY5jFZ/Taa6+1iAnmOt44Utj51y6DrkVuQltE+xMOxmFEHYx7zL1JEXTTTTeZOMC8uzCD4Rfx8f777zeRC9EiGryP8ZRlEriW2OmwIVG377nnHouqIYUWzxFcEk3/RJ9Ie8H9wIG1ffv229kxEIW5t4g++QmOCYjRrE+NWBAOjhgIrVwXjLwYwWVPSw7GBzilY5QnlRpliDqKuBMN+hGEWQQd7GqUSfoZHAp4zTuXpCucH/0o5cmn78MeyDkiSAadz8IdvqmXPXv2tGtISkAPTmwIHQiuXCOEDcQarnfwevF96jIiDkIMbUQQ7I5EVeFEePnll1sKPH4nUv2gbiPS+qgeUubh8JDs/aFOIRpzr31EEteA4wCOkbYI4ZXIGo47HCJqEKBJWYrNNRwCHDjveH0CIg/3hnW7+HykPic/yVcxBwWRm42x2kOYHV4BhEDRkF999dXZC5px48jRR1hlJAGoMEMlD3YWFHAqKIPm888/3zwHUGnxtMArqG3btlbwgIpFwfMDagoluX7xrBOJwbWjIUJ0RB3GIwOVNnyxviAo6lx7yjSNjPccQp3G0wQvxQsvvNDKOw0EqQhZgDCTvAyEKGhoNxkYRRqgCCGEEHkJ40A//k4Uxpk+yiHVQMgJijmkqQimMsIAgbFGKbMzF+4vZZqy7eE580sMIxiOEHsw/BCJhoE0GL1SGPk36/ok2QyIGNC+YFAnFVg0aKdoQ3FqxYjJuh2sQ4TtBM/tdDcA5xRsbIgz2JHiRdJgQMUugRMxxlvSO5HmCbsT15J1d4iq6dy58zYpl7CX0IeFOx8DAg2RfdgJr7jiiojpBPGARxzCuz6/oC/jupCWLVoUKW0f7xORwzliv0HQFsnDWAFnZkQc7MFESWATw5YZC+4TUSg4qT/88MOW6hVREuGWyCreTzdIVzp48GCrM97eiziDeEEdDIo5Qadv+l2+g7BIO4fAQbuHAELEJ2JG0PbBY5wwsCN7cDKPNNakDnA/+DzRMaRm7NGjh9V3skNFSp+G4MZx+N/kP/UcgT0ZiIjhXLjPHpaTwL7NuIP2nOgfBKvgeDQS2GsRlYIQ+URkohfOgPMhqpx1/bn2pFj0aR+5zoxhcFi54YYb7LWCIl/EHC4qnSSNPIUrCEosuRKpvORNREkkaoGoBD/wpyBQeCichQ0qMI0QHQQFjWuBKEN4XFB1RBRAHSTChpx+FHoqLhuVho7l2Weftc8SxUFaLkLifGPAYBvVlAontoXyy/VHqCFFGtefzt03ZOQxxiOAjofQ4liTdBpCJjM33nijNQ50OpR3BlB0OpR/PFJIl4bQuSN5JYUQ/0EdZmBIx0y+WbzGmPgxmUNg3VHPCgYT/AbeHnh3MGjCQ4i8q7QXtLG05bHaByESgbFRQRlGGZNs2PCHW7hosftmwkT3xbiv3LTpM7Zx0onHP1n7oL4xqOf/P//Ii1EUHpLtaxjPX3DBBa5evXrm7Obrf15seCAz9sQYwpwjERgjByfPGESDHtkYGhjLsn+RmWDgIHVRtJTQjHto7xkjYQ9gzkTqMf6TIYKytqNjsHQjZJ8TuQTtC4ZOFs8n9SyCcqyIQNos0vRgvMN2Qht73nnnmQEVIx3j9WC7lqngUEqbjfE7ntGceoyxlGuF4zDCLPXZg03Jt/cIPsE2nzWxMYhiowoH+wqZS5iT4Ygc6b5hI8SGgjDMlhOCYnMiEElA+UCsCRrPwyHdEjYdUopyLY888kizvRXEfI8yi4hOWxtr4zO0uckcI5/nu4z32diH36hLbNQb2vqgw3kicG/4LhvXkO9Thoh6wmDOukXYxrBdRhtP8B2+S39C1AnfYW0j9oGDNIIh73G8yZaF/IRrTPQKIivn5Ns2RBPqF8+D5x/sd3mdts/bD7lnCCeIHTjuR2rTaO+wbfp7Fky55mGfpGA85ZRTzGbPWJFxHveI3woKSkG4n+FlgWufTH/P8XM9EOsor5zj/vvvbwEi/C6RRET/YGfx73OMaAeUA8Qn0v96oZrfRxQOClaIXETueBjTIPJjGyfaB8EGmy2iF68jLnPuXM9YS8fkB3m+Zg43EcMWBu+gGk/Bw3sCVY1cfb4QcAMQeCpXrmwChP8OBZvCEq2RTye48TQmdF4UHFRGOgsaFyqGPz8KG4oyjZE3CiLYoCZS6WLlLgQ6HiofBZIwUIyXeFBwHflfv359Ow5f8enQ6ci1RtF/0CkQNYZ4Rlgi4X0sdEejwmCCXJN02JRPGhByfjKI9I1oJFgHh8/R6TM55zn3iPue7mVbiFSE+olYSuh/uDcI/Qx1m/YSYwRtIW1iotBO04YT2XjXXXfZ75AznsEFkxY2ok5pO5is4MnGICOa0UOIeDBeIqKZtCGQX2vmMOYY99U3rv8Dj7jhb7zlxn75lfvq62/dp599YQPzgw9sEvpkdDZu3OQmTZ7qPh87zn3z3UT386zZbvWate7vrHER45/8qhdaMyfvYaxLe0u5YUyk67sVUk0xuaTviLdmDvWK3N+km05GMM0p/B7zESKB8LTG2S4ejIXp87xRiIhyxs0+HQ4GGPZFZIaPXteaOZkFhh28qembqPOUBQx6vkxEgnaB8RftMIIO5Q5DHe0G/UA6zoc4ZwxmwagjnIcirZmzcu1G983UpW7T5q1Gxd1328U1qF1Wa+bsAJQ/nIFxHsa2xHibe8LrtLds0aDcMZ/H4Mt4njECNizSfTEnoExmUh9G3WRuxLniKIxzKuUs0vyHuopzMEslYJNCmEFcoV9n/WYWPo83dqP/or4zXmULglEUb3n6RYQQRJ3wa81z+ifmVuyLlFzJtBEYlLGfUT68zTEe2N6wAyE6x7LrAH0aG3Y7yhHGYsaWvJbMnDKncH4sbE97itGZ6EfGDdE2riNtNQbuRNoV6gO2MNLpIQzQ51N2mItgF6MccP8wivsUVtS/eNcN2Df74v4gYIRvGMtxpuZYGTNgN6O8se949ZpyTvnmvnD8RJ3Q32Bz5d4w50+les3xYjdHiKBNgpo1a5rjtx8n0ldy/3yUClEx1EcP158xmBdMcAIijaLfH9eRus79p9yw8RnKK30wdni+j9jh+3D2xX3G7om9mOvm28ZYUH8oLxwzcK1JpUgbzT2kfWZcyG/xPLwd4diw0SDW+ONHSKGMoxVgV6FM+v6S/XMtEOgZe3KM2Fj5DmXJj0F57aijjspODUe/zXXjfDkGRKtLL73UzjMIbRV9C/vmGnrbOesWFRR5KuZ4IYcCGbyJiAUIC6jYDOa5MOFw0fksooWvqNxwBovcvIKCQkUDwLlRgBPtECiAFCDyCmPcoxGkQWHARgHyjQvXxudCZDCI6ki0Bw1RIhM5GiYqPdeJ6Jtjjz3WCiTKNBMs9gt0gFRWBphUXsQdOtB4QkRhgntN9BMNAp0MlZxyzH2gzNIYIkgy6GCwjsc/E1buob/O0eD9/OjcRf5CmcELgM6FMhLeCYiCgfa1f//+oWfbw0SFBfJoc1l3inY0kbadPol2m32Hh/+GQx9G+49XB4MH2t/wQYsQiUAfTZ/ExBjyQ8xhgPvuBx+5J58e5P7IGgOFc8zRrV2dfeMbZhFu3njzbTf6kzFZ/esvbuaPP7tvvpvgvp80xcYllSpWyJc13yTm5D1ElDDGZQLF2IlJHe1qsoJ5pkEfgMGDPoG+JpaYg7GNOQDjT+qHL6OMNZLFz1nYD20IG+MU6hv3BG9MjPIcE/Mz0uUkYiwjzTDtkYdJOv2pzzvOuJiJLrnfMTYBvyExJ7PACHTooYfaxn0lxZKf31P3o5VZjESIhxjsaCswymA4ps+h/FE+06VtTkbMWbFmo/t22jKJOXkAjiGUQdoeNqINaXMoR9hjYpVHoN1lvE5kBmI1fZm3wdBWpvvYnbpFGifECtpurhF1kD4AQ3kQ7E8IA2xELWF0JbURZZrrwDiKdP7YnmLB9cMAjd0EY25wDEA7gW3NR+0QCRPpGjNvYo6NUTmR3/Qw/iBDAgZgxsvYGONBGSDtEhFIGG4TgX1zDXHYYF5Jv414xLwyr9swDPNkjMHmSnmlr4218RlsrIwDsF/FGpPxedLmsRYJj2nfmO8isFCOEPlor8ighJMZYwLacsoSNrJY82naf4zmrCGNUBBvY//0D0SHYdtk7OT3zzWPNzbivpKNA9GWa4BhHsN+qsA5EgniRQds3qzxwjyFMsT5kUUJEc3b1ilf9Le8h22SesQ40wsxPPdCCKINY07So9HGITwC5Za+intGP0P9Yv/Ud+qmh2vGmJT3+D2+xxat/HBvEA8pN8A4gfYDh3Z+G3s49576SVmgDgXLC2WUaEvmasD14Ng5Pn6TjCuIgB76WcoF50l5wKmIrGBkp2LO7IU/bO0sbUHbw3XifW/D4Tcuu+wy6zciwe9yjXDMp60qSCEH8kzM4QZzA1DSqDQeLhCLW1100UUmOETrELlQ3FC+69OrUQFJEcb6Ivk9sKMS0DgRkUHnTqgXzynUDDQZJESCgkkDh2JNYeX7LPCGQsy5UcgY/CEO0TgySKBQcF14jpBAAx0PKi+TLwQbBnzk9eMxhZ0IHCpnpGtGhaER8NFQ0YQcCjqNJ54TVH4aUyohr1FxdnRyznWkQ6Cysy8/AShIOGeuPY0gEWJUXMosDSrCF0o4ouRpp51m9wxBDC/G/C6bInVgQMOimgw0GRhThuhQaCN2pH6InEO/cf31128TTgu0W8FBn2+rMfLSBkXyDAvCgIA+DiEHQccPlDy0YbQZ/IYfPADHQzlh/4lMKISIBB5m+SnmLFu+0j397OCsCfnWQf1uWfVnnxrVsybl+7vq1aq5li0Od2VKJzYhmpk1hvhl3vzQs61szBp0z5u/IGtiVs7VqF4tz/tRiTl5D+0jEeWMoRAvMMIwfmTcS7vIpC7djWI5ASMCc4hExBzGDkSMklLCGyYxLLExGabsYoxgw4ju1y/AOMO4lM8zXmWsysbEEycvNh6zMZblPzn/eczcgck2Y5d44xbuI2l2mIh72AdzBMZAcPTRR1uKEKJTveFAYk5mwrgKT1XKK+UPYwdesj4FG+Mw5rzRYM5F20zbgQEGwxbzQsZnGIyoD6lMMmLO8tWIOUvdpi0Sc/IS+hnG29hD8KDGJuINwMztKVvRoH0jgwplkXE+Yy5sN4zjuZ/sOx3HDfQ9ePojsHMtLrnkEqtzGEaJeMGm5KHOIsLQl2PcJPsAfRbn/vzzz5shHCMoTmoY8Ok3gmvleLhmzI0R2ui3wvt+joP+hrECczD6tHCo/4gj9DcYu/GsT6RNwFblRQ6M0F7ciwV9NOLFHXfckVS9w06ELQ1xmrLBmIe5Ho6+eWkHoJxiY+QcE4V5Kw4cjAdi2d24r4gH3MNEwa5JHWE8wv2MBqIDIlQyYKRHHOzVq5eNeyhPXHeEQn4LsdaLr9HAPkNdZiyVqCiY1zBm4px81gXg+OhDuL8Iywgp2KGJjvN9KbZZv0YOIgXfD6Y/9FBXqbsIFZRJrpUfu/E4KJBSn3lOveR6U2+8LYP//AZtBr/J+9SnSKIOZQyxxYs5jAX4fcYJiMNE+tGuYgNGHORcsUsDTkG33367vQccE8IfWb1oR7h/yBhBOzltNm0114roONoT6jHXxx8/9RPBh7ExUF7ot704xjGScjNd+ts8E3NQ8ukkmMRRYYCGm0KK8ZvGIx58nsaPFANAh4vgwI3mJvrXuGEUbCYJFFQKZG41mBw7DfETTzxhExEaMwoEajuFBFGG/3R8DBaCv0sBZz0GwsuofHyO6xJu9AvChIeGjwaQSspv+UIMXDcqNoNjKo9PQ8dAj3VXGEBzjTieoLK5I9CRI0CRIoFzQZiicnjll1A8rj3HRiceaWDDsdLwUJmpjP7YuL507qSPo0EhRJMGi0bZ3+OChIaJSs31ZuLJgNwLNxwjE1EaOgYuqXC8omAhkot6QhlGhKbO0+HRUfiwVJF/MJjD24J220PnjEdPp06drCNnQMPglzaK9ohJOG0VwmwsQxNtLwtdIuoHYaJBXlm8momKpL+iLaeNZJABDDzoqyJNaIRIhPwWc6ZO+8F9OX5r2D7jnIYN6rvLL73YtWh+mDuw8f6uQlb7tssu8Y0ajG2YNBLFc8ABjWw8tGLFSntv8+YtbtessUH9evtZ35uXSMzJe7i39IW0fbSvjH+57vSLjNuZgOLxR5uc1/c7lcAwwtjZizlMGmMZlniPsT19CWNPhBrmAeFiDQYZ/iOe8B9DFxvveyGIOQbfZ5KOGIQhhCh+9o2hEwMahi4MdYnMo7jHTOjJwuDhtzFEE6Hsn/ObzOX8a5yTxJzMhrEN417SSSPqUM6YN1HXaXdjOSpSN5gveiMV4yy83TG2ME5jjpsKTn/hJCPmLFv1h5swfZnEnHwCuwPtDuMlyiP9Pm0er9GOUSZj2WfoqzC2Mu6iD8NgiGMW8ztvA8gt21Neg6Gd5Q8oT9RLHKz5T5QO9jScprFt8DnqITYv5kmUbd4D7FrYbCjf1En2hY0IEYT5DYb14PwGWxblGjGN/ie8PjA/xmEb2yFjMyI8I/WL2AURZzhW7iPOyPGgP6Pt4b7hTMFcjOMOn5NTBvgMztdELeHUgNE3GShnRB5RLnBgoZ1ivEO5w0idV2WE38Mmic0yUTBqM6Zg7BB+P4LggMO99jbHRGH8Qd8fq62mzSTqK1mYo7POE8dN2cMGS3mg7DHepA3mmsSCcoswkApiDrZWsjFR/4LQ7nBfEVS9/ZW+wQs5QHn2TlKM67A/IYQE4V7jtHPNNddYHQLqOIIs7R7XEfsz5dRDm+bbS/5TtmkDfTvJsTGmp4/mGDkm7kvwfjNnDIo59GXYX5gP8NsIMh6OH5sM41DaWa6HPw+OBUcjvuv7QQRmxtMeX4a5r5RVxCG2cBGSsTBrl/t5B/UeIdRHQzFuwX6DTTsdyDMxh4afixwcrLF4EOGKyQzAMPyTIsc3IAgGFFReBzpSDGdBTzcKQbQIE6CwMCgk7AtFP1rjSmEg/IvCxP6ZlPJaEBoKb/yjUvhKQAdIGBiVklQDNCzhMMD14g0TM7ziaFQ4N46HgksnReFkvxgg6XzpXJiAMaj1xhwib5gQ5rYxAmUXVZR7QAfBNaDB4b7SmVI56aCpyDQ0fIaOIdxTAtWd8FY6Xyo/9xC4rniH0HmybzYaKTpeJq+5JUjlBO4B157ywYSTxp6BhU8dwLHJ+COCUDZoe6gXdFTUFdoo6pE33tBJJCJmix2DdpeoGQYRwQEd9RivEDpzJhVM5hh4I77T/gAdO/eM9pl2PRK0f6yRE5z80U7T1mFko31nUMN/2nj6BAb2QB9EWWHylC6DBZFa5LeY8+1337sfssY5lPeiWWOTo49q5Vq3bGGPmRAnIuQA/Wr5rH5039q13H51aruDDjwgq/+f6taFxor0qQdnjeHKlMnbeiExJ+9hUk0bhzGfdpAxLe0y43n6SCacCAGMk2lPGfdFMt5kGoyVmYP48QDzomSNtH58yniD60od5D9jb8anvI4hzY9TI81xcgPOgXPByOBBPEK08ZN0DEUYdJhzMR4C7rPEnMID5ZF7jrOLNx5i7KX8UPdjRUcwdmK+S3nCsINR0c83GWNT3lNlHJWMmLPUxJzlbrPEnHzF21doezEA00chgDMOoA+if8LGEW7v8TB+Z9xANAqRYz7ylPtFOWa/sWxQqQD9Ll7xCPecO+IKZQvjO2IK8yacE73nPOeHkZX0Tx7Gn4itOPRiSmQfjEWpnwgh9O/0P9RznHZxiqYO098x94rUJ2Fc5bcQyoggIMogEhwLbQD3inlaInZFbDnM9bDXsX/mfuFCEPtjDodzNP0TmYRyMl/n/jPmYZyJ/Y+6zzWnb8wrp076fsZciG7YHyinsaA9bt++vUXSxhPEmAdzv2hzseHFg7EHoh8RX9yrWOMPyh3jAq5VolCmmPP46C36B4z6iEIY5dkXBvx41wDnd9pV/hck2CioH0SQhPeFtEWMlxFrcFCN1i4RsUIWEs4FezjlPAj3mHWxgveDMsN6NIgYHIN36AneL+owdmnqNrYMxvM4U+Co7O0fHBdjPgQd6jq/RZ8F9PHcEy/m4CBPUAf9JE5AvO+h/+R73F/W+MEOwz3kGPht7Oo+ws0L0t6+Q/uNQMNYgPsftM0EoUyyH37Dw/lz7RmLAG0FYjL1KR3YKatQRC4VOwA3g4EIjbvfPZUFoz03JBrcMG4KjUBw0NOtWzczXAANMeIKCjvQ6SA2eFDS7r777pg3gELHQBLDHYMsCndw4SjguOko2BedTyKXCQMeHR+dCp0cBkNvHAzCtSD3JEZFP8nyFSd80sXvUiD57ydlQGNKh0NEC1D46QDDB4vx4NzYMGwG7w2NB6G0RCPRsCRy/sDxMVinknrll/tKI0MHD0zemLwjAnHtg3kdPTQohLZ6DxAh0gXqKwYr2ixC1n2qEeo1dYyOlMEsHgaFwXBVEDDJov3AwBQ+mGOyQp8RHLzS/jAIoc/CEcHDZ0l1GWyTPQxMSGeJ14eHdXOYWESCQYIfeAIGDY6RSY0QyUKuXyYuQFuCR2ReMvTlV93IUe+5P7PGA2WyBsudr7jEHd7s0NC7O8aQl151I/430h6XKFHc3XrTja5Rw8i5inMLHEuuvvpqq7/8Z/Iea3wqcg7tK+0wfSPjPvpGrr+P0gDGrhjSMHbQrmJgw+CWiWAQY3zNfAdjGqIi44J0hHPgXIJGPvpXIinw3AacKpjH4UWL4QAwdFHn8BQVhRPaA+aXGAgpK2zBNiEWjMmYb/oNAzrpoViovCDBgMh8GgdFz+WXX+4ef/zx7QzOk35c4Z5+fapbu26zPS9WdDd35vH7uVNa1TJDUjB1IYbyoUOHWuSCyBvoo9gQahCo6aOYQwSNjdHw5ZExBIIE7TlOqzjhhq9BkwrQHmNIxfCL0RRbmAfDZs+ePc35jLkUjrUY/Zm3BiNosd1ggKbfxnmbc6evpz5jVMaGxmts1HVEEX4Xx+7gfsJhPEaGC4zzOAFEAjsjWRewNdGPYOhNBI4PsYOsOTjwDRgwwOqWH/sxr6M/5pzom/i/I+DofN1115mhmeuFXZD2IK+g/FJeEdJoi2hzsKkiLvGY//6xt7X6NjQevr1GlIoH7TFtld9/PNgv4iF1Lh7sF4d2BCZEOcQD7J9EgHOM4XP+SHC/cbYkLT6O9IkcY15BWaZtHzhwYHZkSCy4d9iO/PougE2csRXXm9dxNA32H9Q9HOop0+H2jC5dumRfd2y11NFY5Z46xHVm7kS953fDBT7aFfpi+jFEF6LbvG0Fu27Hjh3Nlu/FkyCIe5TNoCCJPRl7WjCCCvEcWz5wP1lqBPGV7zDPIBiDNgzHCu41Nhf6Ztpm9h8EO3inTp3sPyBccb281pDq5Enp5aai1nPDAQUPFcw3lpGgImM04yYzIENVpLCA3w+Eh1YHPVcAb+dYvwOolb7S41XBTQ9CQUANRHyisfe/j1JHB8ckhcaMguojhICCRwMK3jsuHCaqFGK8DYKNKcfMFl7JeM77fC7Y2PBacKJLpQpep0RAUCESiM6FgaaH86cjppOkkQnul+OgY+fc6WxZlItBAPeF4+O73Hs6foyjPOf14H2ho6Gxee655+w+RzpuFF+UVb4vRDpBOWfwTigr3ggs3MbgA28cyjMDFoz4eJXQeSP40maqrO84tCW0LazVxkTFX1PaSwYDeGSwoGW4FxLtLO0YAxkvQgOh8QwSI0GbxwCFQRJtOe1irIk2bWBBe/+IzCHSeCFfSW64EZNKlf7zkLLJWJJjGZHaUE4prxgRcPZhAo0XHIYUjDA4X/EZ7x138cUXm+EI5yiMKzhg+flAJhA0DvoxfrpCHxtu7GT+E5wsMwdg43WRP3BfENrwCmd8SR3CSQ9DNdEsGFHYeD/RuSP3GcMIYyKirHDaZN6OYyHe+xiFGdtiHEKQZQ7JfDAatAmUCZxcMLQk49zEMdMmYDvgPJkDk7IFWwPz1nTgn3//L6sbTZ++jjJF5AJGOQyFsTYM4pQVDHmJQjnF0H7PPfdYCuNYG46s2GlieaoHocwTLUK/goERoyb2GMQCDMOUQcbwOFfhxIXzKbYoBAkM/3yGfoqxfqRxly+PlD3qFRFk/B4e6KR5TrSO5ReIVLQFGMTDnZkxpmLfwdaFrYy51BVXXLGdAMN8BmdFnIm9fYprg4MCjka0DVxvvoujHE4czIdjCTm0MVxH9hPpOnsYS2DIxQufa53o/Jl9Yswlow/HTHq5J5980tpGQITAqIsNK2jQ5r5ShpIdh3Btcd7GqEwUGHNT2qy8gnPi2lCWEalwjOYxxmnOm3tGO8v8lbaXsYe/d/Hw7TX1Jt5GGeA4Et034wXqHu13pI2IC2wq2CuJqKB84cRG+cKpn3aD6xqtHLB/7ifjT8QKDP2IhdTxRI8xL6DccfzYYL2Qwz2hDrJxvyjnOMvgXI94hZ0ZAeWss86yzwO2bD8OQ8SjrAZhH5GEHKB8eBAzgoISdlxs4bQFHCvtGPvgGBFWaKuJ4iPylOP115J2A/sW3w8fD2KDx4YcScgBfh+7mL+X3DfGGEEhB4LRr7TLfI5j47eoa4jGXFvEPuzNlB1eDx6Lh7ITbKPptxIR1lKFPEmzRkGioCGEALn2aBhjDeS5aFRUOmYec5N8zkk6bd/Qom4T4uU7A5Q6H7bPzcRYh5IWq3KigFLAPBRyvMQ8FCIqFouXeSgAeJdxHvw2Bjw6ML9eDPA6A1IKHB0MFQtRIphiDeGIjp2CghCEgZcGL1ko5FQI0pR5uH7JTArxEmDjGlOpaBj4Ps9pKP15eTBGUmGJVmKwQ4QN94PXeMx9JyKBzo77xfExAOI8GRjhrcFx8xs0NDQAvrLSubAPnw+Za4fgRdmJVW6ESGXoXBhMMWAgtNRPPNkQf2ljqBu0OdQb2i06GrZYA1kRGSaaDCDoFzwMQGmjmAAivkSL2vSDfNog2iraIN8+MQgK71O4RwwM6Qf4Hn0DA+ZobTDGBjzIPHiKkN4g6BAgRKLg+YvYSJtCucvrNGs/TJ/pfvyZ0PV/rU8+qEljV6P61jD6HeXn2XPdhIlbPZl3z6pXpG9jDZ68BGcRpVkrOBgvM1bHsMbEH+MCxjzaXcbHjD8Z3+Kt7yfqtLmMl2lj07l/5JyYlNPn4ySGeJWTVC6pAEYu5hHBuQh1iTkc8x+g/2VuRH3zqUYZ8yvNWu7D/cAgg/EFQzQRBjjN8RijBveA+TmiKd64zEkxjsUbh1BW6W8wxuIRTxlmnwg73H/mwvwmhlXaVu4/rzPOxRuW+Xk0SB+DUYjv7wjMHembmDdGS4+b13D9EbGChqZoadYWLV/vJs1c4Tb/udVAnOpp1hgb4/mMfYTyQ1mKtWHr4Hpw/vH6Vtp9xA8McJQlxjexNhxq+Q2+h8E8np2AaEEMgkR++ZRF2CHo/7E70edwrJRzHjMHQKggigI7Bm0Vcznaa8oZ8wo+S78UC/aNTQixKCe2nrzi2muvNeEC0TVaNoF4cJ2Yv9IGkBItKNLwGBseDsPMf8lcw5wnHK4l94L6QrtFyjrWaOb7eNrHSp9ImaKP4XsIF8n0odQn5ufMwSnL2K4Yh7AP7m0Q7jNtJVEItC3YwhKFY8RBkAgdyhtCKGnN5NiXGMzpKRvYExEDuQfUY+o/7VEsuI+0l9gSsVlizKf9Qmyi7Bc0lAfs0dgsaIcAmzD1BTsrdRPREdsskerUH8onY1/KJHZsv54MYMumrFGfqJPYHIC+kDY7WrnFzkGdoy5im6I9wCGZ38E5g4wjtLW0m14I9G0Z5ZtrSZlmPI8zrY8YwpbPb3LstNmMC/gNNo7fw3nRN0ZajoR94yQSKfKO3+G4gXYY2w5zuZyMpSlLjIsob8Bcg/arUEfmcKPoYD10Zt4oFg2EgKBKR0WlY6dA+4JBIcdoETTG+ZAooMPE4zq8IQ7CwJIBpoeJRDAElgLGQMKnBPPQgFPxSJ9G50FFQWGngeF8gQLu90UBx8ubhoOBAAXDQ6XFEwB1GLWQSZ0Xq5LB/25OCV4nBjE0AMCxco2Dgy+es6A3CjlG6SCcNwr5fffdZx23/x6TBO8dz731lZffoXHwgyA6NQYWhOsGUw4h0uXkugiRajABYE0rPBzwsMBbi7aKDoxyzuSY9sBHvGEYSTTdhPgP+o3hw4eHnm2FQRyGAjrleAZAoh2ZMHO/gH4ML5hI6TKBgSKTmF69etlAKpbBIugcALSp6WrAEwUPxotYY53cZmvd2Vp/wgfjO0pwvJj1Q/zZ+lhkPLS5OGjhV8aYmhQrGH8ZF1K+Mahh2GQsjYc00Tq0pUFjaboRrDvUq2TrMUIXxicm10xCmTQzP2G8zFwKUcwbJ6lbOzpXiAXj+23qbxb0g8E5D+fHvECOWXkPggsZJDCEYgTBiMOYkjqEMYw5GeIOwglzTwxjOCrGAyMH0Th8L54B20M5R5Dwjp3R8GV3R8spdQkjUyoZzWPxb9bp5l3NzH287cMbHuNB283cxjvcxoL5DrYZ7EWJQjuHYOSNltHgcxjqkgX7jjfuYedAkMAGQp3CyIkzViJjeI6PdjlVoL+grtF2+/WLcwJ9NFEntP+k2vQpxZMBQRihjWg+jNY4NtBecH3DMyiEQ5uBnYn+Jd7cLhw+z/rTfp1q2kXm36+99poZnTFqe7AzMofEFhnNWS8WGMCZ/9NvU76TKeOFEeocdQ+HARwgsZlgH8FGSJ/F2CYW2IoR5ri/jBtJl0VGDhyHkhHi8hLqH3ZQzsnbOTk27KykH0OgZkPMjFS2adPCI1t8FCz2C8RN7BOUVyLjwu22QahnPjqHMsrY2tvssZkDZRYnWWwd2K/J7ERkJM45CJRsjDdxcPXQ/7M/+ndElkh1h2xcLLdB/Q+3n9C+kKIQ20okEOmCY0oEI6KtIolC8eDYgteZ+h8tcigVyRMxh0F80CvGe0LEIpIRjIEnaqAH4QUPj+BAjcLjQcELegaEQ+Ek7NN7iwHiAV7VHm4eXjVUlCAYCPFIotAx6aTzQRH0n+OYUPFQ+z0UDhpwOiUU4XCvBCoeFZl90dgwQU20EEYypoRPqDycdyRRhMGJF14YnPt7RMdIY+Df4zxQRelkgwtGhYOQRSikV7yp/KSUYuBAxYg0UOc7KM9+oTuM3B7/PSEyAToK2kUGj6QnpB1h3Qs6M9pMBjBMsmkTfDvDRJt2wQutIjq0c3i5BNtuJipcazywEoVUabTjvmPnvvj0mTmFduydd94JPdsKZSGW15kQqcRfAaMwqWH8YD83+Oef/8YukSYuIvNh3In3MmNlxsz0gUSb+ah5xpN47WJI4z0+Q9oJJpHpPE6kvEea5EaCfojoCgwbpEKOtOHZHtwYk/v/GPmZjCOKMe/gGpJbHUMVBn3ENIxypMxiHMLknYl4LGgHYok5nJ83tknMyXuYvwYzTySCj6CJBfPN8HlxIiDWxjOgMd7KjcgFxlREwAQdNFOZf0mzlkZqDsbscLtDPLAtJDJ/oQ2knUgWxJR45YZxS6wUyNHAeRg7STi0idi1ENLjjVc4PmxDqWJEBsQJjhtjKUbvHYH6Rn/s0+5jTE1ErMAmhbEeYy2O24iEHBOOHN7hMRb0+T4DEFGfwchCBO1EoD+iX2TNFNopyjbHQRYHHC8xtiMW0k8i8HAfY9kYY4FTNzbAeOWlsEI7QaowMvYwFqFMeedWokvjtSG0HdgQKY+UQ+4ZNltssDhyptrYg/6Wc/PCFHbTTp062YL+iZQxvhcuECOcgHe+p24xJiQjSSz4PONu+k/aBMRHX06DKdiAiEUiibg3jCHZuFf+flFngjAO5N4gfAfTOWJfpt5yr1q1amVjfQQd2lxs/ax/TzpmopOi1Rns0cF2gvPnmhKMkYjDCeNWnKKo29jeEbW83Zv2Op2ixvMkzRqDe7xx8JIGGl1ei6auATcLxdUXxnAoEHjvcWODHTfeRr6Sc2Pxwo4WLo6KiGgSrAA0sHzH75OJEinGvNGCBp7HbAxkUSwZ0GDgCxozmHAySfIe3UGoGHQCRPfQ2CBSIBqxT/bBgACBiQE4kzUMjwxGYzX6dDooosEoIyojxxuE3yG6iUkvvxfsuBFvfMo3ri9GZR8Zg+rKMXF8HA8LlxJ6F68jYhKHausbKAZQCHBc13CvDRosBCIaHQY8ft+EvPK77IuGOSgMCpEJ4DmCiEy7gOBA3WPS4CMUmSww4CaElnaRwSntHBMeOt5EjT+FCbzf8Gjxk00GBXjRcW19Bx0J+ifaRj+R5NoiQuPl4dshwoR3ZNLDvnAk8GI9HjNEM9InxGtT8wPKnQ/ZxsmAfijSxnWBRFLD4b3JPWHQStmNtjGpS1TUIkKK/jfSfvzGfQzvBzMR+n6EXspvXqdZW7duvXv3g9FuSSgaomjRIq7ZoYe46tWie3slw8yZP7kpU7cujrnTTju7li2aZ43nth9L5SYM4HEWopwqzVrqQP2lj2PsiIEXD0OMvbTr1G/GloyhaYtIXcK4ngkmkzfapXSo+4y76dM5J+YtRPFHcmgLwpyDyTnGeuo+nqsIWWQLYC7AtaD9pq+hLWf/RFFwfZiLkXGA/xhGeEzbwYZAxv7YcCZhIzKYDcMWRgbSC0WD+8Hn2KcH4wHtNMfC/cQjlj6Uz/GboDRreQPrlYSvJRsP6hdzsVhGcd6jvFKe/PwuHngD47BEREOsttUb8unffaruZMAbGC9s5sAYjXJqcM0NcDBNNM3a3//86777YZnbuGmr4an0Xnu6lgdXdZXLF0/JNGscP7aBZKJMGJtE8roOh/kP9h/atEQMcUBKIbzOMQrGmhNRdmlnGYtib4nm+BoEuxDGSa47ME5gLvb666/bWB4hgj4o6FAchPJOthjStOHAl0piDtEsrCWBIZRjC4frQx+CDYh+xfetfo4UDnMjri12Jso9cwUMo7HG9UT5YQDmuxicWSKB9U9IV821Z47Mb0dyIMZ2hRMCYg7tFv1NUHTjNcYIlAmM09Ggj8L2xByc+0zZoAxSx+hfsUXRV9O3MRZB5Il0PInAsTC3og+mXKVSeShIEEUxvlN22IiQYuyCvTAR5wHaemyTOITT19AP+DEjZShVYazmhQ/aSMZ2lP1E58LYbLlGjP18e0Y/41Mmcl3YbyJpx2irqCeUccZk2KV8e42dChsFbUaw36cPoL7QX1Pn6bt5DVuKh/YZ+y77xY7M8XBPsW+Tup62m9/iXLwNmnEi4irHwfdiiXAcN+0H5cc7HVHvEQW5NrRB/G7QxkJbxtyPckaUP+IhYybGu0QGsh/OBb2COXW6OCDtlHXhc90vBAMYF4oG2huvmGAxYaFjY6IWDt9hEoFKTgEJBxGExhvVPgiLlzFBABpzvMq4CeEDRwoiCiADUX7LQ6OP+ucr/QUXXGDHAayTQ/ovQoQRKKINMMgVyL7puGMZ5rjUfiLKBIwBnxe8PBRoKjMDUrwTojX47IvBHp/x4BERHpZKdBMKNQZi1Gk6UH+uDJq4fkyQqbicO0o2cD4UchoJBCpCFMnjGA86V+67b1yoDITh4hkY7i3G4BZVN7jgOPepY8eOZgSk86OxY6CWCgZPIfIK2ha8mehEaKPonBhA+s6T9ozOmU6ZdgYRgI6bjhCjiNgaPYl4A7QdeCHTvseaRDK4pr1issdkgoEg1xpPMTyzuC+0T7RTtFc5gX3Qx7z99tvZ7SKDFLyPgmu1FST0C5wzfUEsaIcpf/Q7DLqiQR+On0h4mx8J7g8DcSI0Y8ExMviK5ynOvaRu4FwRyxEAEQQvfxwNovXtwDlTBugrGWTGgv6L6DD621gwKcbjCSNnvPrLIJPBZrjRAEMpbQXnQR/JgraRvEhzCmOMdVmD82nTprvRH49xM2b+6P4MXacqlSu5PrfelDUB+K/v3hE+/Xyse/jRgfaY6932lBNdx3PPckXz0DBPDnRSejHW4D/pHKIZK0TBwjyCOsXE1U+8EDc81HnKPsIAk1mMx7EEiIKGiTu536nT9OUIKvEMDxi4GU+TESA4h8lrmMwjekZzZuC+YOTCUc5DqhruEX0KcxqifJi4Y7xjLgH0fdQ5JvUi98CQgVE0Xh/kwcDCvByHvXhQD5k3MjbFCYO+22/UQf/fz9folzCMRivbjG+p0xhMERMxCjEOTsQswXiYOs78G7sA82ZeC5/75zcYtDge+mcP15exBtcnyD///J97cdQM99G4+W7nrEt2YIO93SWn7+/Kly5iYwPaOg8GSsYWOYkwyS0YvyKc0wYF12qIBt7VnEcsg3oQBBOM6Ixl6Iu9kc9vlC3G9vzHSIeNBsEwEQGfMR51AmNiIu0n+0fAwLiPgMUxMV/g/lJuY5VRxp8IDJQDyn+qORgg6GNjwnE5vN7zHp73tN/0OWwYNDkX5jFB7/og9MeMkWkjuHaM04nwjNRvIIIxN2PfZCzAzsV9Ddp5sCEyn8NWFg51ibEvUResfxLevmDAZlxM6v9I8zbeowwzxyMNl49c8PeaDSGV55QZfoMxImV5R9oXbH4cEyJZQbdTBQnXlPuHrZW+hOe0+9GE0Ugwf0L0Y6yH3RPbCO1rsAylMpQt7KyIg9QF2nXatWRAsKA80X9SB7AJR6ufieDbtOA15DX6evoz9k8/HU9ko2xjm8J+Tr/l6yf7ol3wbQr99Y7eL/bJXA7bdXDMQ1lg/s/1pQ2iDca+htDMMVDe2DgWDzYkxrvYQfheQTpOJEueiDlAIWOATyELgjCAIYhKGBQqEDgQTAjrD/f64GZTYfGGoMEPgic2kyIPgzv2ExQIaJQxxtFJhcNgA5Wcz3MpginXEBUwCHKcdFQ0/ijGeMxzHj6qh0lJTgokAwoEGDo8BrRB2B/eAnSq0bygR44caY2BF8wwdtGJBWHihNpN54UghrjjjUcYMfD08eH1dO5MrpgUM+lCSGEARIUj/zLhf9HOkwqBsRLBzRsE8eij8+f6cB2ZZHiIAKIRwqgZBJUX4cd773F/UUvD77sQmQxtEZ0Okzm2SJ6W1EU6RNoJDFhsGLOY9BRGSBVDWjpAcKD/od+IBm0Wnml+skCbhPBNG4qxjQECbTQDRdLPMEHLCUyKGGiwiDdwz/Agoh/MSb+RF3Dt6F8TGUwzMec6xRI2GKiTyidRD2EcBfy9iwaphei/EgGvLI6RaN5oYJSgrwmmXY0FnkL01eEGmSAYNFkHj0FiPOiHmaziuRQNjFsYgjCghcOYhEE2ZZSBJ2OT3EwvszZrwPv4wGfddxO3FeR2221X17XLVe6o1jlbNDcSCxYuctd377VN+atRvaprf/pprlHD+m7v8rkvWAfFHCZSjB2pj4w1ECq5L7G8MJnQUGYp67HAKIXRCcEyuCZgJJhs4PEbT7BkYkJ7hCdbvAkgk8ZE1l/DyYq2LpEJJUY3X28YO0da2DivoG9kfoEIiyEoklGR+4jzEm0Uxt5UEc09QTGHcodBI5Hrzrkzluf6U0ZoA9j8Y/7TJkSC79LnMb+ifaL8+sfBCW04jCvoS6PBBDpczKGdxsnOt5eIOURNMJ73DmgSc/IO5nT05xjGmc8FN4xe/MfgSt2l7YsnJOYFzKeZs9J+xip/4XD8ON1ghKb9S7XxbjJijmfFmo3uh9mrXLMDKrliRbaeTyqKOUFoT+KRKuPbnIANAhsL44R4xksPwjxje+wqqXzu2GKY52BMDzplMQ+gLQ964Adh3IFNqlOnTqFXtoU5Du+1aNHC+mX6KgzA4U5V9N04byGmREqnRj/GdUSgJYIoEpS/aNcYuxzjOvqXSGIO4yFsUjhT0w6Fz+0ile1495MxCf1yLKM8v0l0l3dAL4wQDYVdErEukTYkCHZX5nS0/9hf090uGKsMJwr7YOxHn57Xzmj8FnMU5s7YpxC3GWvQJzOfRfzAPoATR7zghtyE8QMOUTiQxlufLxrMzdAOwgMi0oU8E3MwMKByMXiPNDHFoEWjx38M+DSE0UDlwyjH5Cd80ImRA2+14AQGxZboHCbiTDjpOIIhzzS03miAwEHDwuCL46Qz9jAAI1JoR7wqEEMoIHRKDMb4vfABHYM/jhHRhcrBwIHbwiAVjwEMgQgq4eC9j8GMyTogwOBdDnwf0Qmvc0JVAcWWya/3COB3aRi5/kAHTGQT1w0D5DXXXGOdE1BBec519fcALx2OlcrDoBzPFW/E4pphvOD46DAR0zge4FzoyFFtw6FRwnDKoBW4t3y3ICYbQThXymgi3kh0OIhU8Y6ZRpAGKB6UV+oKjUysiQtlmnJEao14UA6ZLMQyVgGNNhMKXw6igeCJqJDIeTPJQfiLBwNAJvoYwmJ5sVAG2R91JxZ0OHgL0NFEi3gD6g51y0foxYJ6TZ2gI4jVkTKope5FMsqGQ8oIDFBedOW7TCwQfrm3lBvOGRE32HxzjZicU/4YnOIJ69evKgwgHOMRDJRvJiV4VEWDMk2u1qA3hw8xfv755y2Un8EIkx0WcY3mpcE9oO5xnxhU0PexAU4KLEKMp5cHT1j6hFSZlAOiC1GVtHH+2CPB9aA+4ugQqw7RH5OOgomSdzaIBmWWvhZngljQtuHpHbxfHo6Zvpb/1EPKP+Uh1qKP3H/6fpw84hmTaIMJgUdQigVGTAyXkaKLg3AdEV4w6sYSxSiDjEFoN3xd51g5V8YrOE7wnP4ZMYdrmVusybrOjzz2lJs0ZaujCe3LwQc1ce1OOcnVr7dfTFErWTifL74c714b/r+s312TVZ/+i5Q65OADXZ/eN4ee5R5BMYeJEG25h/YDMTBWmaR/YAwTaXwbCSKfmcxjRI0GbTblPNiuRwPBkvIb6xip15RbxlWJgOMM9SZWtBjjMwyTicCYBQcfxpbR4N4zHmT8GAvGFfSzXEcMNL780SeyiDJ9JPeSMagf3wN1jXrBccQSd/OToJhDW4VBO68n4nlFJDGHSB4MVgMGDLC5AG0ic5NHHnnE5iQgMafwQB/FmJXxBfWc8bpP2RoLjHWUH+aMGJ8ZzyEuxpu3FCQ5EXMikepiTiZBO0z5xNBMv04fzJiLvikWjInoz2nLsNUwlos1Lk4VSB+GfQYHXeYnnCdR74x5GM8wNkWUYaxPXWOsTJQ982L6WNZQxhEq3HmY/dD2094jqHAtGQPguBu8Ljh5k3qP42C+FQ6OxIyFyF6A3SlZ+A73kOOINL7GJsbvIwZzzjs6T2aOw/XDGZ1zpY0KN2RjQ0KA5noyjymMUMcYA8Rz3KNe0e4z5mNuQ9vHRlkJjtOF8DBnos1mTEn9ZlzqM6GEw1ibMQVlDLsO9ZV5BfO+8HqbLuSZmANcTBotjDpMJpP5KSozn/ffoQFEGGCAE5z00DgQuojxzUeYxAJDKQZnhCYPkwwmV/xmcLEnjL409PG8KWPBgNVPIPGaJwwVAyIT8XBVmeNHFMFwiBEQGLgh0vCdcJgAElVE/j9gwsyEFYM/4hUdC4NB72XBexRYD4YvDAFeZGGgTEWg0+U7eNIRUueh4HN9MEZyDzBYYSxAoQ2CYYTJNoYLjALsA0HGK6Z4IuK9HMlgwKCK8sLnOT6uGfcqlnEhP6CRYBKaiKc5hgMEOMpqLIh2Co9ciwYGZcpirBBKhCbSKyTiFc6kgjRElEfKfTSI/KIcJQL1ikk9A6RoYPBmkMegORHwzuG6xwp3pIzHS9Hkod5hYGBgEA3aFO5dogo/Xlh4m8YaEGIwRphMBOoPx4igE35vqHN4VVEeEQSi3Ws6JOozbWNhgbYLTy/gGtKGYMiMZiRj0k0nHkkc8OBsQPkjVWQkKCvcDwYPpONk0sPAnvYTAwbtOAYML2hwP5lEUfeYBKbrwCHVoF2hTaH/oP9LdB0GvsfkNNqgz4OYgzAUzeMuCO0wnn+xxjuUSaIZMALE2yd1nT7ai2yUMfp3vK4RiBlb4YSCAwblPrdYv36DG/7mSDdl6jS3fMWKrLK+tQxzvBecf4475cQ2Wdc6dzzjOLclS5e5cV994z7/4kt77M83P8QcJoyMtaiP1FHuC31KcDwYDmMBxmbemSYW3G/aItIpxHJ2oB/B2BkUI6JBf+Oj3KNBWUSAJP1fPKg3ftwWSwRNZkxAWWHciREj2jiDeotDBG1pIrAvBKdwb1/6RgQEvKkZG4dfQ/pUxKpUICjmYBDDWzddiSTm4LyA8wnrdTJpxqhG2Wc8gpEQJOZkPrTh9FU4WlE3KRPUd9+2RwODHe0bxmScxKgjPI42lkslJOakB/Q3OMPQb5AZhfuFY0Ai/TnzApzmyOTC/A/bSzo5ztHfYN/CHoagwliGfp85L9lqmJ/wfiSox/T/zC8jzWmZ++CYTFnFOQ5Bh/E4+2f+zRiL36MvxhmFKItwEHJwBENACmbLSRTqGhE9HEN4mjfaHsZ+9E1sjD12FPbJuIOxFv0bEfc4jwZhnog9g+UmGHcWRpi7MGamzEXC1ysEQCJvsHthT+J1IRKBMTXtBo6VjDVo570NnHLE/At7IuULmyVtUzwH9HQgT8UcwLMUgwODEjxH48FgB7GAi0zHghGUhpKJIJ0LRnIa56ARDE8CGgfyf2L0iHRK/ubRkDIo5L/P549BDzWdCSwRQEzugcYYQYPPxvKmjAWdZjAnKftkYMpv+kLEhJdjZhDIbyOA+WPAOMPENSjCeBggE1ZGigYPog+iCwIPBiXvcUzKCTrYcKM4nqV4ZAPGY0JoffQHBkom7kRnJAIDcH6Ha8jx+mgiIn/oXBGqOB4mfZE6cA/lhHP2nlt4WFAmChKuBQOcRFLyIDwissU6R0jUKEIZYSCPASCSF4uH+8R1o87FA8EOYxUDt1ihqgx2MC75xjAalDmOkUkL4ZXRwGOfYwxOdKJBw0tOXLbwgVEQyj/HGc8bnnLNsZEjN5bgxDEy2EpEuOMYWcieAVwsjxGMahi1EhGxqDeUNYx0sSavTPYw6EaC7zHJ8OJGYQBhFIHUw8KeGDujeXHSr1C2gu1nOEw+8BKLlEYIIY1IINrVRIU/+i36H9ppJoD0BblpgBeFB8Y89AmIhbRBiUQ7JoONSbLK+NKly9ykKdPc+x+MtmgdqFSporv1phvdPjWq2/MdZe3a39wTTz/nJkycZPWSelK1SuWsSV1N16BeXXfyibHXKsoJQTGHVB94qTLOpD9kLMgWz3iIgMv1jwdjPCaoTFRjwfiV8U+8aDagXWNMG2kNSg8TG8bekfLOh0MfztiNSBE/BowEhi/KGscYK+KHa8n5YrSJNX7jGPHADUbPh+MNbLSV7A9vW28YpZwiKHAvMMYxZ2DcjVALnAsedxgRMLKmAkExh34gkQjtVCWSmIMDF17cXHPuGWIOhizKjU+rIzEnc8E5gvrI+JSoOcb7seo30F4w3qKtoB1iLslYKadz74JCYk7qwjwWuwjpwDCuM5/HGTURZwfGJDiVcv0Zt2OjwtkjnUQcDzYZUhtz3jgz40jMPIa+iKgJ6l40vK2K/9HqJgZUhHuiVbAxMGbA9sRvct34HmlsWUIA0SYIDnCIQIxvcjqmxYaGQwGpJsOPEUGBuTjposhEE20Zg2ThmtIPYocZNGiQjfeC4KRNGjvmjAjUhRHKBeMenLmDzjuMz7DNYNtlTEu9oq4F7bxCJAs2GuyC1HmgLaC+Y2PLtLKV52IOYMCn02RQxySLQR6dB69zUTGC0nDjHUkUDA0d/5lkY4zzaaMwnOI5SNqRcM9BbhpGOSboiDR02EzimDDQMKDwMhjyaUj4DNE87BujqY8iIb8nhlQPHTUGQiIemOzGggEsExs6I86NTp/HDMrCDc0M6jjnoJjDOTDgDTZydIAY/fHmDocOlQkUAzwmhdHAEMlkmfMPhwkX58dAGoM0vxUED0c6RX/fwvNxY+zgmnLP2D9iAyIV+wvCvaRj5n7Tice6lpwXXhU0+lwjzi8308fkFNJ4+CimWFCeGezFG+QxiPRlOxZcK64p5SmWqAHsL5G0LzRq/9/enYBLPfZ/HL/9bSkRKSEplMhOsmXPFiJkl30XHvu+Jvu+7ztZsmRJImSPshRJSrYWyr48eJ7n7/1tfhnjrHXO6cw579d1zXXmzMyZ7cz85jf35/5+b740lTUQBHZQCAazgZHS8N5kBg3/p/L6mBJoVCQU4z3C+7e855FBJa4vq2YrDfeL1xP3s7z3MkFiRf7X3Ed22njc5Q388cW2vC+0YJvAznRJ/xu2EQSLWa/fwnCIx8ZrjwE5dppnpqqw2DDgR6VhNhBKYMlsYFqClfYaYrtGqFlaEMh5hI8lffAzeYDtb7ZGWGXwWmEHls8Gtod8nrnjqsqo7jAnH23PLrvy2vTyq6/Fvs0Cf26bDth3r9R53dIrHCvjzWFvp7POOS/9N7c72qnj6mnLzbukpZdiYdNG5W5bZ0R+mMNPBpar43bqKgbGygtz2F8p77MWtGcp6/ObgRdwfXxPYH+DfWYGTpgowX4P+ykMTvEZCT4/2Sdl35/9CCZwlDb4VNOyMIfHzcAvFQvFqqQwh89Vvu/xXYr/AwPZfA4zSzsL1Axz6ib2c3k9832J92R5+0fs7/JdhP1W3q8cr8q132paSWEOQSaD5Gy3Ksowp2rwfYDJVnxHJMBhEiyf+Ux6LGvcJMP3RipY6CjCa5TvVHznK2vCQzGgwoZJzFl7cl63DLKzL1kV+0EMoLL+H69ZPnsZ52J7wOcz73Em6TJhkvvBAH6Gz3Ra1vHdjQqXymKsgomMBAO0hC1EpTvvR7qSlNc2ubKY+Mr3RSZJc/+z73Q8t4wxctsPPPBAjEPUR0zUYmyFbjuMJ7I9ZD+AcUOCfPbtKrK/KOnvaiTMyfChyuAwXwA5zhubD0QGRBnk54saA3D5b2Y+gOl/yRsfXI6qD/pdFn4xY5CBkIgPaUIHvkwShhDS8IUi/wOKy/IFkQOXYeeRD22+mBAW8UUkw9/zhZCBPT6U8oMKHkM2m5Lgg+N8yeV0qjOY6UBgwgwFZgxWBrfDDCVKUUsrNeU2aSdU0noh7CTzRYnZ53xYFgYs4L5yHQwKs7NYWFXBy4PnkueJAU/+f3wY8/zxf+N5ZQPMhxOJZ1k7AYRUfKCXN9gP/o+EHVw/O08Osqg+Y8eYNkosGpiFQlm1VPZlg3aOfIlkW1HYgqY+YJtLGE2bxgzbD7ZpVFjS5zm/MpGdfr5IsJ0uqZqNHU0GJdi+FcpmVBf+HTPGaYXIzmpFZuzzmcdkAwa9yqq6kwrVZJiDO+6+Lz3y6OPpt99//3M/bb60b8890kYb/rP964x4tP+T6cZbpi10O+ef27Nj/9UrrdmpY4n7LFXFMKc4sW9IWMBgMZOy+J0JLOyTgs8+PgeZEcygEfvv7HfWJvlhDvvofK4Xq5LCHCrBGNjiuxSfuVTm0JKHwaysKtowp+5hQg0DxHx/ZgCzLHx/5H3K/582oVTxUcVV7JNaSgpzeGyEM4xdlLWOYz7DnBnHuAVjMYTHjG8Q5hAq8jnBNrci+O7AuAlV9IQ4fK4UjiMVM54jJkHwnYnvQXxWsk9ZkQmAfP9hv4kDn7u8NhlvKsR3MsbwqJAhuCEEYyyP/w3HeS6ZxMG+K88tsjCHSun8TgsVxWNgf461gAht8vGYqYyhZf3ll18e3WhmBGNhjD8W7lfw3mdskvPpeJO9VngNEvCwn85aQyU9V/UFrxfGgHmuGLtg/6AyIbekf6rRMGdGcPf4wsZGPZs9TdjD73whquov+9nt5bf5AhtlgiaqLrISQL5EMtOAnwyscsjvvc+HCRU1WXCUlX1WpCUPIRcDkMxmYzCxtMfJ7bHgHB9O2Qwodjpo7cYHFR+YDBiW9TzxmLkeNqxl7UhzOT6cOXCc68wO1YHbcLa66jMCUNoTMvDITi6/529j+JLBLCS+PBKmslNUn98zlPMTXhcOJLDjzXaQKkW2p4QwVG/y5Y6wmm1aIbb1fNkpaQYe4XnhFwF21rt37x69k2lXmf9/YrIAnw8lzVJl+8kXGQa2CO+liqjpMOfue+9PDz3yWFTpNPlzX2i/ffZMG6y3bu7cmdPvkf7pltvviuNM2DnlhGPSCsv/vdd5VTPMKR5M7GFwlElTbOPZn2ZCWDYwxzaUSQz0v6e9Jtt5XkfVtW86s7Iwh88IWsrwWixWJYU5/L8Ic5iIx3clKnOoQGVbxQxcGObUPQxg0kqorAp0Jv6x70SXDQaOGdgs9iqHfCWFOeAxsk/JJCDeF/wk0CqNYc6MYZtKlxa2R+yns9+dBf0VweQvtslMBqBinvGm2jYZoKqwnSY44f3K5yndavi9tP0gxuBox0Z1CaFM9h2nT58+MV5V2ndPBu8ZK+O7LONlTKxjG8DnM69zWtLzGQI+05lgR3cWLsf94f1UkWo9JhvzOcNnDG3NCqs8+J7HddOSm/OZpF1ZVAKziD9reDOJshD3m8l5dM7gPctzRMUTrd04j0mXjmtJqkq1PswBH8SUa1Jymd+CjBLJ6gp0KMflw4UZgCUN9JWF+0OgQt9O2h3lY0YDsxLYyeDDjcCIjT07eQzGcshKziuT3rMDycwHdg7pM1yXdo6l+oJtDds7BhhZa4w1lfK/GLNtIXRlthg7rQ6E/B1f3PjCy+zQynyBKw1l+nyZKNz5ZntLBU5FPj6ZBHDNNdfEl3fCHL5o0lOZCqvsyxDY3ld0ZpzEAo/MXqypMOeue/qmfo/2jzCnqtusPfr4U+nGm2+L440aNUynnHBsjYY5VF0z4GyYM+uwLeXzjwNhO4OhzGilpWjh+nVsj/lfcaAPPwPDDJywrS0G+WEO4RPb/dom+2wrb+CppDCH7ziEOSxkTYtTKnOYYEZVP5MqYJhT91CRQyeJ/DVIsvcq30uZeMTrIL9Cuq5hjIIJRQRbpe0fEg6wP8j6nQxUs+9X+D4zzJkxTNKiZXz+ZNzS8LrkOxWfGwQ4tGlmgL+2tOOsTnw/4nsILfiZTMYkNyYg8/2j8LXIZzIT2whsmFTI+BbLE7AN5/I8d9l2vbKY/Mb+F+ve0pqM/wdjY0xso2qH9xD/J4I1KviyVv6MlYEJeXyXYkyN1m08FtagyyYN5OO6Lrzwwth3ZmI197+yWIeWdVSp8CkpzGF/ktcRzw+BEfvnTA7nfvJ5x32XpKpUFGEO2EFiA0rfWTbw2UAdG2Q2nNWBRfKYqUCpbjZzoTTsDFAizoG1KvhQYkNf1UGTpLqF7QrVIcxYoiqQdowM+LPzB3as2VGmVQNf6JgxVt4i1fUZzxshGK3O2LEur61C9vwyY5QvLex8Z2tEsRYSX6AZiCj8gkOYxkzx0q6fy/OFg4odKjTzZ4kxAMYsNdZo43OGzzP+nwzycXmpPGwjaCPBoEVNhDm333VveuSxJ+L1vuACC6SD9t8nrb3WX73OZ8YTTw1M195wcxyfFuZQmVP6IrxVIT/MYeCM549BA9UMvnoQvjPAz4HAhs8/Zr7SmiV/PR62pQyAZu2YmfDEYA8DoaW1IK7N8sMcJgvktwYtDZ8RfC7xGVURWTDG32XHswPPfeFp3BcO2XcrZmEz+Yx9jqwFTklKCnNot8XAGt+D+FwlzNl+++3jPN5j3J5hTt1D1RwTYPhs4j1LpTjvz2233TYC19qw9ml1473F9ov1ftmWsV/P+7a0oRYGfWm9xJosBJ9ZG3LDnBlD5xO2NSWtwZa9JhmvIZDo1KlTVH/QTo2xm/qEz9599tknvnvy3YR2a7wGC3E+7aapRqHyhfcyHWNYk6YqsD9JAEyrUQId3g+8B3gP0f6NidW058wWMQefH3xv5jFwnMtz4P/JBILSWhnyHmSSAd+xuM2S1qIuC5+NVPZwX/jMKy2UJtyi1SjfJWkHS7i4//77x+d+WdV4kjQjiibMAV/42LiT5FMeyl1ng8zGv7rwQUHiTyuzbPE2giVOZ6eAL5f8pJKGEIcdrbrQ91dS9WE7wo4x7WKYgcyXYHZYC9tTMBBCq0QGrdZdd90YxDLEKR873W+//XbMnmKnmpneDA5yOjv9fHlhUJAZeHyp47llQJyKG2Zu8TnDlwwGnnjuWZescD0xZgBecsklUb3J/zG/yoa/4/+22267xUzUkmatcV/4ksSAFv97/ob2oTOy6Kfqn6y3OF96ayLMufPu+9LDuTVzmjSZP+2/T8+0fud1cufOnAHPPJuuuuaGON6w4TzplBOPTSvWYJjD/hshejaQpurDdo/tMW1a2O4xWMNruXAmdTZjmu0zg5wM/jOAxE9mt7LfXayyMIfngrVk7rzzztw5pWMQis+a/M+Z0vD9hIGu/AMDyhwIaAqPcz6fjxwKJ60xiY5Kg9KUFOZQgUo3haxNNGEOVRlgggMDrfwvOb06v7+p5vHdnNcz+zOtWrWK/y/7QvUN7ymqCqkC4LOFcYTC9r/5CLvYX2RflCoEWk8Z5lQe6/8edNBBsd+fofKJ7RDVGmx3CG+o8CCkrq9jNWzneb3xecJECSp0CqtG2I4zYZrPAAIK2gPyPFY1wn867fC5xZheSdVB+fjMYhIcB95n7CdwYN+gvLCE72oEPrT/pBIpq/CpCF5bVNPx3Z2ffB9nG5ffho/7w4RLxifZxyQEY7IG3/PoqCFJVa2owpwMA558AeSuk8TXVEksHyB8CckGBRmgoz2a4Y2k8rDzTPsRBrEYgGUbxmxktmf5m2F2SpnNyBdgZhjxpaMwSFDF8OWZ55nZeuzEE9Cw481zzE48g4R8wWPGKNtw/g/MDqe/MWEQv/NFkIGowi8ynMfnAV/Y+aLOoBZfRrh+PhMYIOZLY1mDjlwHLQGo0OFvmSnHZ5pUnpoOc6jKufOevrEfxGt6u25d024798idO3P6Pfp4uuW2aQPas6LNmmFOzWA7ycSFIUOGxE8GR9iXzrDtpDc+22Q+Axmc4XOQNXCybXRdkB/m9OzZM91887SqtLIwKYBqzpq04oorpttuuy3a25SmpDCHz10m3RHm8L8ktGEbBToWsN/D2qOsLec6carL2OdkwhYz9KlWY3+PyVwlIVxg0Jz3Cgu0s2+ZMcypGPZPWJ+Y/SGqStjHJxzo0KFDfJ4wOUDTnifam/GaJEikNXV+pQnjXKz1wuuQtegIPirz3FGVwncaPs8JdsvCe4QJdKy3xXem4447rlIhS2VwW3zf4jOL0I+KGb4PVgTtI3me6PxApwzCHKqZ+I5O223uM4/j0EMPjUonvjdSJcZEb56/utxeUtKsU5RhjiQVA6r4mHFMT1/CAY4zC4kWJuxUZggM+LLBDiEDKMyQIjjwi0fN4wsIX7z5QsH/CnzJpq0aPaNL+p8wu40ZWXycMiDMoGR5X2Ay/E32xYcZmRX9O9VvNR3mvPb60HTpFdekn/7cpjGovuoqK6XDDt4/NVtoodwlZtw5fS5Kr70xNI4v3LxZOvZfR6T2y7SN36uLYU7N4XOPyhIG2RgQ4fMvQ0jDACUH2lkycYEBOAZLmDBVFydKZWEO2/x99903jpeH7gAs3EwAVvi1jWpdqk05sC9RVa1cGFgubzZxSWEO+zbMRibM4f9JmMOAIWhrRBsuBrhYV3TNNdeM06W6jjCbdcBoKcWhpFZgVCQyAM5gen5rKcOcimNfnPZ2fP9iwi377E64/Tu20UxaoxKGNV04nu3/8LnE8gK0ySSgoHUinwPlfTfhc4nJiXzWU1XGJAAmwZXUmaAQ/yv+js+NU089tVrXDmXf+aijjor3IxVBhDrlVfoSDDJBgQkVXJbHyXuZ735U5/A5RyjEdbIfw2cba6XyeKh6ytqMSlJVM8yRpCrEjCfaxxDeMGhBNQ4DHnwxy2+Rwg4u4Q0DiVRjsEPIziCnO6g4azFj+oUXXoiZa3wxBBWgtCVgALg+LJCq2q2mw5xvvvk2HXXsienrKdMGoOb58wvtoosukuZt1Cj9/sfvab+990zt2lZ+oGnsJ+PTiSefESERlm3fLh1+8AF/bg//uYBtVTLMqX4MqPXv3z8GQaiOZEAEtCdmRistmFhwmgEjPvfqy2dffpjDa5DZz+Vh3yFrg1b4tY0BYAbaeO74WVUTAirSdaAwzGEiA/eR2cuEOQxsXXnllWmzzTaL82kfxXuP/z9roPL/l+oL9i1pM8l6i7Swoh1hto9ZFsMcVSU+Q6iQZbtMa2dCnQyvR9aGoV0iP6leKS/sYH0o2kbTVpDKS4LK22+/PfXo0aPCn0e0/WSyAhM56JBQXVWb3A7vPx4z39W7desW6+iUFiCxH0P7bfaxeb4If5gwwaQUKlcJbPgc5LNujz32iM84wjDWAGLfnM/GigRakjQjXJ1fkqoILdTox0vrFMqqn3vuuTiNHVsGY9gBzMrIH3jggXTTTTelXr16RZ9sWslQAeKA4qzHlw9a3LEDnyGMox3OY489FoNwUn3COjk7dN8291tKv/z5hf/jsePSuyNGpvc/+DCNHTc+d07Z/vjjP+n2u+5NPfc9OO2z/6HphLwgB+2XaZeaLlQ9LTZUswjEmZ3K+gUEOVSQMMB/yy23xED+nnvuGZWoVCTW18++ilbR8NwQevFc0bos/8BMftbXYx0AZqIz2aAqDjMym71w0I/7nf9/zdrn8Bnr+n+qb3jdU41IpRqD5QSbrqWhmsa2nQ4Qm266ae6Uv/BdhwkYfNasttpqZQY5hDhMSGBiBm3ZmJBIoEFQ2aVLl0pNLGAiABUuVL2wlhwdLaoDt0NFKGueUj1EIMN7kJ/5WDOINW8Ie5h8QZDK3xHUPPTQQxHmMKGKkJXvhVyWSZmEX7RZ47mgAsggR1J1MsyRpCoydOjQ6JlLz3jCG3Yamd26zjrrpJNPPjlmKRPi0FOXhTg5j8vYAqD2YbYzX7gJcOjvTwsb/k/5LYKkWYUvyTW53eC2um6xaTpg371iXRsGoRmMzQZlJ02anLtk2X786af01ddT0pSpU9PkP99LtNfA//15/Uu2aZ06rrZqatSwYZym4sY2lEO27hizdpmtyoAI1Tm8burzZx+Pnc//uoTPyXz8/6lWZoCQA/s8MMxRfcbrn23gxhtvHKE3bRSZ1MXAeUnbRE7jvSRVFQJ71nvhtcdaTtkkNYIJKmmZKFBaJRgVZqzpxORF2o3169cvqsUJJ5kERxcDJhfMCNbJY3LC3XffnTul6vFe4js4t8GkSo4TwNAGlONMOqBC6Oijj441r3hueI7o1kBbOvZjmJiy0047RTs6DrTi5ns+k1d4f1988cVxXZJUnWyzJklVhPUACGrAAs7ZIvgsvOkXseJFWwy+cFNuz2KglNPX50FI1Q60XuELdU20Wcuwyzhx0uQ0atToNOnP9wUtKxiUWnnlFdNSbVrnLlW6yZO/Snfde396863h6b//+++f28XZ0zzzNEiLLbpI2m6brdJKKy5fI9tK26xVP7aXbDdZs4AJDT6/02Rt1ngvsT4Ah2L17bffxnoLDFyBCmMGArM2a4Q7DApms5N5zMzm5vXA7G0+SyWl6W2bWJeDtTcIP3m/8Hm47bbbxsLtVbUelsREmiuuuCJaqbEPeeaZZ8barQQWvNYIMs4444zcpf/CREUCHM6jEpTwhu3+jOI1TuBPezfu06effhqt3/jeTLVPTcjWCXr22WdjPauRI0fG41xwwQUj8FpmmWXikI+wh7VtQQtUWh6zP85aqwQ+tFuTpOpmmCNJVYTNKTt17JSyiLMBjqTqMivCnJnFl/YxH49Nn4z/dFrrybnmTi0WaZFaL7F4ajL//LlLVT/DHM0qWZgD1puh7Wqxon1enz594gAGvBjUYjCQdjv5mK1MuEP4y9oDDAKynyTpL4Sh9913XxowYEBMEKMdFhUQtJ6SqhLhBZ9HvOZouXbiiSemfffdN9aAoQ0ZlSeFPv/88wiAaENGhQqdCyo7uW3MmDGxPg6fH7QhnzRpUhzYH+M8PhfOPffcaIOWIezktul8wX4kk0RoWUigVBX7bkw+oVUarWFZ941gi+oivsdTUUqFcYbQibA1k12Gv9l+++2jIscJf5JqgmGOVEm8ZZjFwRdTSZJmhWIMc2oLwxzNKvTRZ8AI559/fjryyCPjeDFi0Ouiiy5Kp512Wvy+8sorx+LVLH69zz77RLucjTbaKNZCYLCLCh3a+zDoteqqq8bfSPq733//PUJRFpOneo3BYdsSqqpRWUloyBo5tEljG80+Jevl8BlFq+l8tFejcoXQgxCIAKiyr8s333wzKjkJKgk8+MkkSFqbsYYeVWist5NV+xAasX82cODA9M4770TQxOcO95EOGKxvyro2hDozilCJiRW0XeOzietcfvnl48B+IRU6+WvfECgRQmVDqIwHcftMVJCkmuS0cakS+MCnHyolxh9++GHsgLBTYSYqSZKksmTr5HEo9rZJDGLlL5CdrS3HfjEIcWg9S9hD6xmOU7FjkCOVjgFy2juxwDo/DXJUHZo0aRKVJEwquOGGG6L6hMCGyhMqZwpxOuEPFZidO3eu9OuS9Xho40ZVdq9evaL6hnabtOWkxeCll16a9txzz+lBDpU4VH3+61//ijX3CEu6du0a7ctp8UuwdPrpp6c77rgj/fTTT/E3lcVjolXo/fffHxVwl19+eTrmmGNikhTr97Rq1epvQQ74ndO5nxwIlgxyJM0KhjlSJbBjQY9ZesUyi4MSY3YAnnnmmSgRZgYJOxiSJElSPgKcrAVLsVd4M2s5P8zJjjNABn6nEocAS5JUuxDIEEh06tQpgha22YQVWaCSj/XOBg8eHJUrbNcrg0mwJ510Uvwd7dx23HHHuB5abhKcUMFJFVr2WUH1y/777x+3t/fee8dYy0033RTXQWUQARDBEpWud955ZwRBdE2pDD6nqDCireG1114b17Xsssv6eSWpaBjmSJXAzA8Wphw9enR66aWXYqHKs846K0IdSoPPO++8KE1+/vnn0/jx46NUXpIkScofKMpCnWLFWgH5jycLc7LKHMIe2xdKUu02ceLEWL+NSh3aZdKCthDjH1TuUIlSGbRzu+uuu2Ktm2OPPTbWwinvc4FQhTaDF1xwQVR10lZ4scUWizCINXUIm6haO/zww9Nuu+0WAQ9jMRXFZxQtTgmCmKC7+eabVzqgkqRZzTBHqgRaRlDiy04GC+8xw5Ivs+z0sCP00EMPRZhD+TCLB7KgXnmyNXg42K5NkiSpbiL8KPYQJx8zu7NAhzZrMMyRpOLBBFU+l2hrRhcSxjgKMc7B9jy/GrMiaOd2wgknpFtuuSWtu+66ZX7+MRZCtQxr4zCOsvHGG0cFa2l/w3kHHnhghDG0XKNrSlYZWhKu/+OPP46qn3vuuSf17NkzKn/q0meypPrDMEeqBBboO/roo6MChzJh+n9TkUPv2Hbt2sWsEb7M0g+WmSiEOWUFNLRkY+YJCw6OGDEiFgKcPHly/C3XQWWPIY8kSVLxq2thDo8nW/vn119/Te+99970iUyGOZJU+1HlQtUNgQjbccY0CrHIP+3PSlpPpzyMjzBWUrj+TCHGQKiWYbyFapyKYK0f1tWhTduFF14YawBRRfT1119HNVA2hsJ4CmMuPEbatq255poRXklSsZr9DGoLJVUYX0xbtGgRC+OxCB87QOwQcKBiJzuwE8Iir6XNYGGnYsyYMVFCzKKA9JN966230siRI6ON29ixY+MLMWvxMMuE4IfrKvYe65KkmXfzzTfHDEoWo91ll11yp6oi+Ix94okn0vfffx+DDPvuu29U2UrVbdiwYbHOIgNMW265ZVpttdVy5xSnDz74INYuoBqHiUjPPfdcDKQxs7pDhw7xGOeff/7cpSVJtQ3hCWMMdBdhv4ixjuWWWy41btw4d4kUwcjdd9+dOnbsWG2fW2+//XaEOVtvvXWl9mupJGrfvn2MqwwZMiTa3fPZ9P7778f+HpNlWdeYx0dFTqtWrdK5554b4zXu+0kqVm69pBlEawmCFYKdpZdeOhYP7NatW5TsHnLIIbGoX1n9V/kiP3Xq1GjRxkwRgpxBgwbFTsZtt90WOxkEPfxk5sitt94as2Gs0pEkZZhFKak41OXKHCYgsUg2M6KZ8MTgWv5goCSpdtprr73SaaedFmMbN954Yxx/4YUXIsQBrebZ1rMmcHVhEgDjHFTbVFaXLl3SlVdeGa3WqAIivGHSzsUXXxzr4xxzzDHpySefTM2aNYvWbGuvvbYTZCUVNcMcqQpkX8wJeBo1ahRfXiklLusLOzsQSy21VDrooIPSrrvuGjsezIJhdgl/RyXOp59+GrNK6GXLTE5mdNJ+rSxU/DCr5rvvvos2bYY/klR3MRlAUnFg9nNdCnPy18xhElO/fv3iwILXDJi5qLQk1X4ENawlc+aZZ0ZlDtvxww8/PFrKP/zwwzEOQSU4IUl1oWKGSpkXX3wx/fDDD7lTK26FFVaIMZWTTz45Wq5dd911EfDwucvYyBJLLJE23HDD1KNHj3JbvklSbWeYI81CzA7p2rVrOvbYY9M555wTOxy9e/dOZ511ViwAuP3226eNNtooLb/88tGyjZ2Q8sqBH3300enX1bdv3wiAKDFm9jYBEWGPJKlumJEvvJJmjboc5rCfSoU6i1bTargi+6ySpNqBipg999wzAh3WyGEdnYceeigdcMABMVbx5ptvRphTXdU5TGqlff24ceMiPJoRfL4ysXbxxRePaiI6nhDc8LhA9xTOk6RiN9v/nLYv1ToELnwBzgIYSpyZMUPFT1mDALS42G677WIdBS7HThnXQ09YjtMKjh0bvmCzI8OggovTSlLxYbD0tddeSwsttND0BcdVMY8//nh8oafNKf3fX3nlFT8LVSNo+8LMYfbrmHTDTOhiNnjw4Ji9zXqPTCQ66aST6lRYJUn1EftFLK3NOAItyhgzOO+882KbTxcRKl+YkJqF+SVhPIPqGNrIf/nll2mrrbaKNYZbt24d3UlK+qy4//774zOSCa1UeDJhYEaw3vBRRx2V3njjjfTAAw/EOjwEOieeeGLuEpJU3JwuJdVC2UxGdpxoUUEFDz/L+4LMDg8zIhdccMGYlUKbtZ9++ikNHTo0FgRkDZ5TTz01Wrsdd9xx6eWXX45FayVJklS9mJhTl8IOBvKywTz2WSVJxY81ZQYOHJgGDBiQNtlkk7TuuuvGRJgRI0bEWEOvXr2iYmfs2LHTW7sToLBmGi3iWfOXtmmMN9AunnV/r7322giAqOLcdNNN05gxY/7RMYQWaAQvTFbi9iuL66Ny6IQTToj7xprDBx98cLRgY+0cSaorrMyR6hDezpMmTUpvvfVWtFZjh4qZx99++20c2NmiZJoAhy/f++yzT+zglNU3Nlv4kOv2i7ok1Q5W5sw4K3M0qzCoxUAVg17MEGadmYpiog/rLfIz/3j+aYUHgqPC08rD/h77igyK8bPwOAfWb+RARQ4LTL/zzjvp6quvjn1KK3Mkqe6aOnVqhCS33XZb7H8SwBCWMAbx4Ycfpo8//jg+R9g/XW211dIqq6wSnUHoOHLaaafFTyad8rlyyimnpNVXXz0mOmSeffbZtNdee6Vtttkm9enTp8Jrr/HZNGrUqPhMIjziurku1v958MEHU7t27XKXlKTiZ5gj1UHsHGXt2djhmjBhQqyrwM7VN998EztbnL/LLrukddZZp9RBLHaKGOT65JNP0vzzz59atmyZFl544TTPPPOkJk2axBd2v7RLUs0zzJlxhjmaVaiUJsBhcg2DW5XBa5QK7JJ+5h8Id0r7yaG8/bYsrGGmdUkH9i3zDxMnTox9y5tvvjntvffe7hdKUh3HOMILL7wQlTuffvppBDR8ziy55JLR1n3FFVdM7du3z136L0xoYP0dWrUxtsDYxNFHHx2fi9mkUT5XrrrqqvTRRx+lww47LNYOrohXX301JhUwDsLfUSF0ww03RLjTuXPn3KUkqW4wzJHqAb6Y8+WaHa8ff/xx+hfy5s2bl1lt8/3336dLLrkkPfbYY7EQIgEOa+2w5s5iiy0WO2nMlqGtW1bdU5FZn5KkmWOYM+MMczSrUDG93377RUVLYSjCoZi+lrFfyT4k+4bsE9JChxnWkqT6gyoYPr+YLMCkz/I6ebDPxTo87L8y6ZTPvWydHP6ezxa6iBASMVbBGERZ6D7St2/fWBtnpZVWis9YgiDW9WFdOtbKkaS6xjBHUqlYb+f0009PL774YuwoEQAx4NWwYcMohybEWXrppWNNHwbEKKXmuIGOJFWvLMxhIJUFXtu2bZs7R+UxzNGsRB9/9qmYaFN4yL6W8ZOZzoVhDwcm5mRtzgoP7KdxPfwsPD3/kH8ax/kb3gO04KXah0N2PPvJpJ2mTZvGgUE4fjZu3Dj2BzmPbVC2fo4kSaV5991303XXXZeefvrp9Pnnn8e+LNWqHTp0SMstt1xadtlloyKHdXdKwmcXLd0GDRqUnnjiiZisSmUordmGDRuWzjrrrNStW7d06KGHVrhNmyQVE8McSaVi88CMGXaSmB1De5Avv/wy2oMwoAC+4BPe0HqNnah99903vtxLkqpPFubQpuK5556LBWVVMYY5Kgbsg+UfaB3Dz/zzsuPZz/JOK+n37DizobMD8n/PDlmrtoq2bJMkqSS0gGe9tSuvvDJCHcYXGFdgsgBjCXQIYW0dJo7mBzJMNmVtYC6/zDLLpM033zzGHwiECHJo20Yb+eOOOy4qeySpLjLMkVQuBhAod+ZA/1n627KzxCKDLOI7efLk2IHacccdo5y5vHLobLPjIIAkzRjDnBlnmCNJklQ7sD927733prvuuivGGdq1a5fWXHPNqADNJhJQwUOrdypAqdhh/42fnEeF6TPPPJOOP/74WB/nnHPOiVBIkuoqwxxJlUaoQ8BDj1x60rJzxY4UCx4yQ6asNhv8DTNpuDw91qnoobLHYEeSKs4wZ8YZ5mhWoC0M+zq+1qSqRZvAKVOmxEx/3l8srm7LP6k4vffee+n++++PNu90BGG9Xlqu0YaN8GappZbKXXLauMKIESPS66+/HpNMaavGmjm0/5SkuswwR9JMIdShfzuBDAENh9LwJeuCCy6I6h4GIFdeeeU4tG7dOn7nIEkqn2HOjMsPczbbbLNoJVrWZ5c0s9j/YdYwrWtZW4ZBqUUXXdRgp5IIxGi9w3bP5060fB43blwM4j755JMxCEx7JgZzWUzd7bpUvFg3jiqd4cOHp/Hjx8f7m89QPgcyfA7webDGGmuk9ddfPyaWSlJ9YJgjqcYwu+b0009PL7/8cgRAzJpp0aJFWmWVVWKxw/bt26cll1xyen9bAiJJ0j8Z5sy4/DCHn1dccYWDfqpWzB4+7LDD0qOPPhqzinm/MpmFwacVV1wxzTvvvLlLqizM1H7wwQdjfQSeN6u66x8mkX399dcxyPvGG2/Edwpm5rOORobWz8zsp1uApLqDsYRs3V5Qgbfwwgsb7kuqd2Y/40+545JUrWipxk4XX7j4Ak67tUmTJsUXsg8++CBm3IwcOTJOb9iwYSx66M6ZJP3TzTffHC0uGzRokHr27BltZVQxLJxLNQ4z/GmztsUWWzh5QNWK92mzZs1iRjEh7LvvvpteeumlNHTo0Nj/4Xwrdcr30EMPpUsvvTQm/vDe9X1bPzD3lACH8IZtd9++fdPDDz+cBg4cmD799NO/zdQHM/pZN4OF0yXVHVTesTZvdphvvvn8HJBUL7nlk1RjGKTYcMMN0ymnnJKOOuqodOCBB8bMSoKbr776Kr3zzjupf//+0Yrt4osvTmPHjo0vcJIkScWKiSwbbbRR7NsMGjQobbDBBjG7mPYxt9xyS9p///3TiSeeGBU8Kh37hBx4nvjJIP63334bg/fuL9Y9EydOTAMGDIjFzKnGOvnkk9N1110XIc6HH34YVf4l4fsG1f6SJEl1kWGOpBpFdc4SSyyRNt100xi8uPHGG9Npp52Wtt1221jckC9mzL6jBzazzvNLqSVJmlm091xsscVyv0k1gwFmqm/WXXfd2Ndh3Zzbb789Fmz++eef09VXXx39/mkbpb8jqCG0IcThuaMykTZ1tNfheaRSh/1JWnCpePF/njBhQrRI432xzTbbpCOPPDLeJ0z44v//448/lvt/Zr0ctvOSJEl1kWvmSKoVpkyZEu3WxowZEy1wWrdunbp06eKAmySVwDVzZtxbb72VjjjiiBg0p1qUheldM0c1ab311ov2UDfddFPaZJNNYgH3k046KV6LuOaaa9LOO++c5pxzzvg9H1/dONCutrw1Y/7444+oXuH1zXXNqjVm/vOf/8R94fYrcz/YN9xtt93iPctEnwxtdVh3keviZ7t27eL5o2Ui181g/y+//BKtFD/66KOo9GY9RiqiqAbXrMVrIf/A/4jt8eDBg9Pbb7+du9SMWWGFFSIYZeKYJElSXWSYI6lWoRKHQQdmXtJDvrw+uHwJtMe8pPrGMGfGMMjLWiW0+hw2bJhhjmYJwpzPPvss3XbbbWn99deP09ifoeUay5my73PhhRdGhQEt2kAgQgA0fvz49M0330SlM5U+HBZaaKG4TIYAhwkyvNZZn4c1tWjzRmtb/g6EHbSxYrF41h4oxHulomsR0OaMYKXwfcR9ptLi9ddfj5ZyrG/AWjcMuGf3mcfC7bAt4z4RvHAaAQ33ffPNN4+ApmnTpvEccV6HDh3SwQcfnFZZZZXUtm3bOA98reVxswYj6+vQjos2vmBf8YUXXkhrr712/K6aw1qZBGv8ZF1MwkvWiuJAu7Qffvghd8mZw1qbbNt333336a9zSZKkusYwR1JR4gs/bdj4ks6iwrRTYFFESarrGBBjhvmbb75pmFMJDCzTqufaa6+NNj4MLp533nnp2GOPrfCgtVQVVl999dh/oV0YlTn5CHiOP/741KpVq3T55ZdHcEsgwlo7d999d3r++eenrxVC4LHxxhtHFc8666wTYQqTYtgmnHXWWWno0KHxusdSSy0Va/ZsvfXW8Xp/9NFHo4KBheJPPfXUuEyGtm8sMk9LOBaR571CWENVC4PvBCaEKBwImFiUnnBmhx12mF51Q/Dy6quvpquuuipuK2ubS/BC66zDDjss9ttYR5H7fdxxx8X95r5wG4ccckhU0J199tlRfbPmmmumkSNHxnPWvXv3qF7iPuWjRS/rMfJc8Rh5DnmOuG8ESay5YsV3zckCyKeeeiqCuU8++SR+5zOsqvFaoDKL19Hiiy+eO1WSJKnumf0Mpn9JUhEhgybIueGGG2KAgBl+nDbvvPPGTDxnWEuqyxhYveOOO2JWPYOr//rXvyLUUemoHOA5YzC7f//+MSGAQXIG/mi/JNWkSy+9NMINqk4IG/Its8wysS5Iv379IuwgqD3//PNT7969o5JhwQUXTD169IhAlwoc9oOo0qPCZtlll43qE0ILWpMRGtGmjCDjjTfeiJ/8HeEIl3nyyScj9Nhzzz1ztz7Niy++mHbdddfYvrA2DWuWUEnExBlCGNanYQ0bKn2uvPLKqCKiwo2QhSof9skIm7mNp59+Om6T26AihzZatExbY401omKoZ8+ecZ9ZN5FwlfOpCnr//fcj0Nlpp50igKIKh5CJyxLObLfddv/Y3+P5IeRhG8n+IOES92GfffaJ9Vd4/Ko5vGYIzwkh+X/yf+c1Wx1oz8xanLwmDeclSVJd5p6OpKLEzE9m9hHkMAPzuuuuS/fdd1+01qBdg0WHkuoqBkuz1kuEEldccUUMvjLQqX9iNj+z9Znxz5oMDCbyHLLANlUHUk1jH4YwJ2sBlo8Ws9tuu20EHSNGjEhffvll7Oewb0Noe+6550boQeUNlTsXXHBBvMYJfIYMGZIefPDBCES6du0aodHpp58er/2VVlopthvZ/hFVarQeI/DJx/kEnwQqhEq0NXv22Wejbdlll10WVRZMqKHq5s4770y33nprBDuEywMGDIjrYNCeAfxXXnklwtKtttoq7bLLLlEdRFURjz2rLgK/M7+Q+0RwQ0s4AlgeP89HFtrwk4H60rZ1hEVU/VB9w/VT6UP1ES0V829PNYOWebwmeR1VFP9vwrrCqquyEHryGqN6ywldkiSprjPMkVR0GAShR/xmm202vf/76NGjY1CBgQ16xDNAYqAjqS5isCprZcSAJzOfWSOAwVsGdtkeuv2bNkDMgDIVAffcc08MNmdoD7XccstVasBQqipLLrlkrB1C9QqhST5aUzEIPnny5AgteC9n7/eDDjoo3usLL7xwDGC3b98+qhFYB+aLL76IoIXrpEqBtUMY3Ka6hsDm4YcfTieddNL0lrRMiGFbQgCSj2CY6yH44e+4fQ5U3tAyjfZpoNLioosuikCI8IXqaNq6cVkm1jDBhgBlypQpsV1i+3TOOefEY+I2qUCigobL85ipqqFah8vwGKlAorooX3ZfsvsAro/L0cKLx8ZaOqyVc/TRR8dzSNs62tDxfHAbqjn8/9kOl4XXJ1VXe++9d1SfsY4Z7438/3FZCPd4PVGtxmtQkiSprjPMkVSUGGRgYOCSSy6Jth7M/OQLPYMQp512WswUZTZrRb8MSlIxoX0QM5jBto92NrQfYrCWkLtLly4xQ78yM6LrEgaTeY4OOOCAWHg9/7OAzw8GjVu2bJk7RapZrG/DQDfvW6paMgQktDHbY489IqilxVqbNm2mhzkMemfv+wz7OrRZI5ihjRjVemwT+Jvs7wgtuR6qfbIWVKwnQ5Ua1WrZujpUxtDajAkx/G1+2EllEOELFT7g/oE1b1jjh9v+6KOPYvCe9VG4DlpAHnPMMTE4P2bMmLhfvCcZtGe/jaAnu20CLvbpGJintRtVSEzOyccC97SI4/oIdcBztuOOO6brr78+tndchqCWUIjWctwe95sKbq6XAEo1g1aWrOmUj9cUISGv87vuuisqvB544IGoHiOUpJKH12X2/83wus0qUvPxeqCNnttzSZJUX8z2546SUzclFTVmtdIC5JZbbonWIgxksGlj0IOZmHyZLOkLoCQVMypyWK+CihO2ewwOF87yZ4CVmc5sB1mbg3UpGCRlNj2DYGwbOZ4N+s4MBuCy2yc8qakwPbtdBpFp73TvvffGIulTp07NXWLaQCAzwJs1axaVOgwk0spHqgnskxBk8D7ltUqIQTULa9CwJgxVNVSXED6AqhQWc6dFGiHH4YcfHu93gg5+MnBNQPH888/HBBaqbGgvRnBxwgknREs0Wo1REdO5c+eoYM5/v+Omm26K6+V0qhoIenjvjB8/PgIRrp/TuX4CmSeeeCKqornM+uuvH6ESt3f22WdHuMLjIbChGob73bdv36iWZs0etgWETgQ43JcMbdhoj8XzwmW5PhBwbbLJJvGc8Nh474LfqU6iCofWcgQDVN0dccQREQYQKhE6saYi7dqowOPxUZFDUPTII4/EdRMmcdmq2O6pbPz/CPlomUdbS8LA/NdAPl4PvF7yP8eybTfviU8//TR36jS8ltmWs68vSZJUXxjmSKozJkyYELP8WGyXL/oMHjB4ycK82UxSSapLCHAYZGUQmNnwDJgSaDBYzABpSajcWXzxxWOxdNo0MUDLwCwtirLZ/AyAljTgxiAbs9+z2fQMnLKtZXeSAeksQJk0aVIM6uYPylUXBvhY14PB3fwAiUFAFoVnwJy1OhhsZoCYQEuqSQQIBAy8VwlJeJ0yuA1ep7SHYh0nXq+8VlnjicCE9yGoPiGEZFCc9x/vV66DQW7ey5tuummspUN1Du3QWFOHbQLbAN7fhLnZ+52Ag/cAt0slH+3XeL/yvifQIfwlSKKqhvCFdXcuvvjiWH+GNmtU/XF7XBe3yf3l/U81EW0N2Q4RsHAfaJ115plnRviUH5xwebZdPB7CGR4HQUsW2oDngEk6L7/8clTSgX07rpMQa7/99ovT+DvuN/eTKhAqjXifE9yyLhaPnXCK0Jfwm4pFWrwRDHG6ag8+Q3r27BmvC/C+4PXKNpzWf4V4rfI/zVoHSpIk1QeGOZLqDDZnzAB8/fXXY1YqAwpNmzaNRYEZdJCkuoyZ/6y1QajB4eOPP07jxo2Ln/ntjErCoDEz+RkMZpCXgWW2n4UYECUwytZBoE1U1m6pNmAwnFZKDEIzmEugz0AwBx6XNCsw2YQF/glasuCGCjkq5/i5xBJLxGuVYISgoaRqYvZpGNCm+oX3IUEEl2dAm9d8FpbwPueyrFmTBbyff/759KB1tdVWS3fccUe0IiNQGTBgQKyzw3u/U6dO0QKO+0jIw9/RwmzQoEFRAbjvvvtGhQTt2LjvtG7LDBs2LN14441RyUNQRRhDsEylxa677hqPkftIyMu6XgQzvF+ZbEOVHI8/H9U0tEY79thjp7fQ4nETDlHFQ6jFfeDxcP277LJLPCc811RqEAJx/wmleY7ZZlFBRBDGGjrXXHPN9LBMtQOfYf379481j9in57VBwEc1Gp9h+ahYY7IWLdskSZLqE8McSXUKmzS+sDPAyEAAgxq08HCRa0n1DdUqhDvMcmZAl0FOKgQY4KSihtMY4GWAs5gR3FB1wPoiDP4xuMtMbgbMGaCWZjUq1AhYs0X6CUQIGDgQnGStzyqCAIZQgyCirL9jX4j3Ogeq19gvIlxp3bp1BKuuVWYAAHNgSURBVB+EnRWVfV3Mr64pCftcvOeoPiJMYrCd8Im2t1mYQyjENon70q1bt3T77bfH81ASnrfCEJbHwhorXA8TdQhqCwMw1uuheofqJKo9mOhDiMPzTvC12WabxfOg2ofXNoEfrzn+j4SgtFDOx0QD2gmyZmZl3juSJEl1gWGOpDqJAQUGATg481JSfcc2kQFNqmgIbxgQZsCVNkz8ZIC0tLZsM4t2UFQIVeb6uXz+rP98DIZzXlZNtPDCC8fANK2WmOkv6Z8YJKfygfcNwUZ1IzCmUrpfv37phRdeiPc0E2tYN4VApWPHjrHgfYcOHSodurIdYxuWtYYsCV9xuQ9s37gsg/5UeRAElBdKadYjhDvrrLOiKiy/fSb/RyqrqL5y3TNJklQfGeZIkiTVY+wKMthZXevbzMj1U1VQWhDPwC+z8Jmxz+Cw7dOk2on3PIEKB7YBhCi8rwlVOPD+NVhRIV4rN998c7RXK6wcJQA85ZRTohrTbb8kSaqPDHMkSZLqEXb9OBTrQBgDxAwAOwgsSbUf7dJeeeWVdO+998YaSLTELGv7/dJLL8XaSKytlI81ok4//fS0/vrr506RJEmqf5zOIqneytbWYQ0JWhBJUk1jBjLrAzDYVV2VMYVOPvnkaE3GwufF5uOPP44BPdbaqK62cJKkmcfn24svvph23XXX1KtXr/Tqq6+m3XffPV133XW5S/wdkwxYV+qOO+74R5BDS7V99tnHIEeSJNV7hjmS6iV6x7Mw7gUXXBAL6RLqWKgoqSqwLZk6dWqsF8HAVH6//3yENwQqBx98cDr88MPT2LFjc+dUL2ZIs45E//79c6cUDxY95zllMfkPPvggd6okqTZhXaPBgwen884772/BDCH80KFDS5xExXl8Jr788su5U6ahinSTTTZJW2+9de4USZKk+sswR1K9RJjzxBNPpKeffjrddttt6f7774+BVCt0JM0sZiMTEu+1117RKoawuCScfumll6ZHHnkkPfnkk1GdUxMIlzh8+eWXETyxPWRdAg4MwNVm2Taa+0xgRiD2008/RYXljz/+6DZckmYxts/PPPNMfL4RvOdjvbM2bdqUuK3msvfdd19sy/Mtt9xyad99903zzz9/7hRJkqT6yzBHUr3EArzLLLNMfDH8/PPP04MPPhi9vMeMGVNjrY4k1U20cKSdzKhRo1K/fv3S+++/X2Ll35AhQ2LGMtucE088Ma2yyiq5c6oPM58JbbjNd955Jx111FHpoIMOiuqgQw45JA4jRozIXbp24T5/8803cZwg54orrkhHHHFE3PfscO6558b5kqRZ47HHHosgp6TqybXWWismOhDq5OMzkiBn3LhxuVOmYT+d7Xy7du1yp0iSJNVvs/2542RfIUn1ErPgGWi966670hdffJGaNGmSdthhh3TCCScU7cLgkmY9KnNuueWWCBdw2WWXpQMPPDA1aNAgfgeVJMcdd1y69dZbU5cuXaI6cN55582dW3WY4fzss89GuEQlENU4tH8j1GE7xyG/Ddzss88eVUKbbrpp7pSa88MPP8T9XXDBBSNwZxeVNXIefvjh9Omnn8bx8ePHRzgG7juLaOfP8O7UqVN67bXXcr9JkmrSnXfema666qpoiVlo3XXXTeecc05U5hR68803U8+ePf9RlUNFzvHHHx+fCZIkSTLMkVSPsfljgLBv374xWMgXTwZT6cm93377pSWXXDJ3SUmqHKpyCHOef/75tP/++6fzzz8/LbDAArlzU5zOgtDvvfdeeuqpp9Lmm2+eO+fvqPIhtJhzzjlzp5SM7Vk2CNaoUaPpgTTVP9tss020T8vaq+Vj1vOqq64aIchKK62UVlxxxbTUUkvN1MAZt0HwMmzYsPjZokWLtPLKK8dhjjnmyF1qmo8++ijazDGTm8tSfdO6detYNwGnn356uummm+I6ad1TuNu6xBJLpPXWWy8eA/eddjzc3syg6of/y/Dhw+N2eT7WWWed1Lx589wlSsZzzP+JQEyS6hu21ZdffnmsyVZoww03TJdcckmE9SW55557okI13+qrrx7B0CKLLJI7RZIkSU49l1RvMaObgUDaPTDYyaAmM8MHDhwYAQ+tHmy5JmlGLLroohGQ4K233vrbbGPWeKFahsCAAa7VVlstd840VPawcPQGG2wQwcw888yTdtlllzRo0KB/rDNA2MBi0ltttVVaaKGF0nzzzZfWX3/99NJLL8Vl2ab9/PPPcTmClIYNG04PVLh+tnPPPfdc6tOnT9p5550jDMkPcriOr7/+Ot18881p9913j23loYceGlWNU6ZM+cf94b5fd911qXPnzmnXXXdNp556aoRZa6+9durRo0e03aEqiDWFCLBonUOFEvd38uTJcZ2EKATthDecxnWCyiaeC/BYGTjk/t9xxx3pyCOPTBtttNE/gpwsWGI2OLffvXv3GDAk5OJ/kr+NJygiXOJx8tzQgu7YY4+Nv+F/dOONN8bf5AdK/M5zQVDFfVt88cWjCovrKQyeJKkuYltXWpDDxAKqTy+88MJSgxyw7c8mIYDPsj322CM1a9Ysd4okSZJgZY6keo/NIFU5BDh33313DB4y4El1zt577x2z6Ql+JKmi2K7QwpHgg0CFsILqDk4n3GHAn7VpmHVMaxnWD+C8SZMmRVs2AhHWtiHMIXAgAKFa8KKLLkrbbrttbJMIOR566KFYT4C2kdl2iuthG/bEE09EtQ3BCa0kCY7WWGONdPTRR8f1M8DGZUqq+uE2uU5arp133nl/CycYcOP8tm3bxuPbbbfdIlzhNKqMDjvssPTJJ59E60pCci7PY+Gw/PLLpxVWWCE9/vjj0WqO8/hbQhBOp/0Os7AJgLg+qntY02zppZdOm2yySVS9tGrVKkIbBg4JaEpCEERLNrbprK1DtQ2y+w7CtpNPPjmeB4IiHi/h0/XXXx//DwYeeR55nrO/53910kknpcUWWyxa1tGWk/8z10uYQyUVARL3keqiZZddNv5OkuoqtoUE33zO5WO7uvHGG0dgT8VlWfh8Yc021nJjW8rkAg6NGzfOXUKSJEmY/Yw/5Y5LUr3EACgDpgwoMmDKjHBmWzMbnQE7WuwwUCdJFcV2hbZbVM0w0MVAFu3AOI12MgQAtAUjDGE7A8IOgpwrr7wyAgcWiqYiZ5VVVolggm0T2ymuhwDm3nvvjVZu/B3XQTVJhw4dIhBidjTXQXUMVSUEOdwH/o4QicogAoftt9/+b2v5ZNj+ERz17t077j+o2uF6CGRoSUlg8+ijj0aAQWUKIQZrBT399NPRkozKFipmGJBr3759XAfr9rDmDfeZwTtum7XKLrjgglgbgceQVSrxHFLhRIhDGzXCIbbVZ599dvxd1l6tJKNHj07HHHNMrElEJRRYr4GKIZ4HwhruB2EVM8B5bO+++248Zu4bAQ/rNPD8MhjZtGnT+FxgvSEeKyEV18//ksCf54Xnkvv74YcfxmV5DriPklSXTZgwIbb72WcFCGQ222yzmGzAfnR52N7zWbfmmmumLbbYIj4LDHIkSZL+ydFJSfoTYQ2zzA844ICY6b3MMsvEl0i+jBau8SBJFUGVCdsVUB1DhQeBDG3BQDs0AhUQbLCOzrXXXhtBABU1tAOjioawg8ABBBMEQoQ7VIhQ9UO7yLPOOiuClNtvvz3ttNNOUcFCyFIStmugRVppl6FqhtAna5lDoEKFC+HFbbfdlm644YaYiU2IxOmEIFQ1ZjOz2Y4ShBBmUA100EEHpWuuuSZdfPHFERARljB4x3PC4+Y6GAzk8ZQl2x5z3wnfS0Ml0siRI6NChwCLihruM889QRoVUVRecvuEMlQK8Xh5Xvm/EUTtuOOOERbRDo4AiftPlRKB2dVXX53uu+++uG4qfE455ZR0+OGHRxu6rMqKSh9Jqutol8m2nopJtutMOiCQYV247DOwIvg8YRID210mDEiSJOmfrMyRpDzM+uZLKTO3mcXNDPGSZq1LUnnYdrBeyxtvvBEVKbRZI7CgbRgt0wg4qM7JqngIP6goAQHzqFGjpq/hResZAh2qPwiBHnnkkVirheCAIIewggCa32ntRaUJwQLtywq9/PLLcb0ESQQW2aAZlTyff/553A6B0gsvvBDVK9xHwha2idwvApWFF144to9U8NA2jrVrCGhYN4GghdnYnM9jAz+pZuG+MVDHgXZqPC9jxoyJx8fzxGNmO0xAVVpF5JlnnhmBFIOHzOLOUFFDOMXzzkzxZ555JgImwjDCJkIa7gdrAnH93D+ei7Fjx0Z4xfNAGEUlDhVNVNxkCG1atmwZM8d5rKeddlrcHveRx0sQRMs6Qjsqo7gNQqKsIkmS6jI+a9iu85O1brbccsv4nJMkSVLVsjJHkvIwm52ZhbTMYeCVwUdJmhFsT9iOEByAsIYWaiCE4LwssHjvvfeihRchCaEJFTG0QmNNHEIOwguCHCpeCGwIFAgROM7C//zMMIBG1Ul+0JEvC6j5eypTMlT1bL311tE6jfueVcEQHpW09guhC5VCVKFQJcP1ffPNNxFkcH9LC2MIVAibqH4h/CAoohKJ9mRUzrBeGY+T9XJKwjo23BYBWIYwplu3btGWjvvCbfMYwBpDPK+FuJ6s3RvPA8fB4yK8KQ2hDSERz89WW20VgR3r4zz22GMRxhGKsZYO1UySVB9krT6ZpEAgnn3uSZIkqWoZ5khSCRiMLGswT5IqguoPKjrAGjNTpkyJyj+CGRbYz9BqjDVnCDWo3KGChwoUKmdYu4WggNAja8tG1QihCGHKhRdeGCFKPoKGrCqmUHZ/CDDy25rRNox1YwiVCEKygIgqF+5bPtqX0a6M9mQcpwqIkIiQheqYwsuXhDCFqh8G/whDCHIYEOR5ovKIdnHPPfdc7tJ/4fnjNnkuM9xvwp9XX301gha232zHQcs1ApZ8hD99+vSJqiBQvZO1bSMkKu3+c/qQIUPisizWTQDG/44qnD333DPasVGpxP+MUEiS6hO3e5IkSdXLMEeSJKmaUKFCUJAFNwQstHKkaiM/bKEyB1mI0LFjx2jldf/998c6LVyeNmDZ31BBw6L8hBos8t+1a9d07733RhBCUEHIQ1hTGGIgC3OmTp0abc2oAiKUIQyhooVWYizeT8scAhfCJaplWC+HkIn1ZljYmtNoKbbddtul66+/fvp9J8whXCor0OG6qPZhHZqff/45NWnSJO2+++4RynD9BEMELSeffHJU7OQjzCFM4b4T6BDesIYN10MFDoEQC25z/wmlWNuH9YUefvjheJy0pWNdBp5XwidasHHb2f2ldRzXVRKeM55b8LzxP6FyiUCNYIe1c7jd/EopSZIkSZKqgmvmSJIkVSMWgyaUIQhg8J8KDtrQ5CO4GDRoUFSFNGvWLNqQlRQIZJUvVOZQxTN8+PCorqHtGi3ZWLOGNmBUh7AeDaEEa+AQymSo2iF8IYghwMkCGgKY1VdfPZ177rlR1cL9ZhF/KnO4Pq6fahwuz2NhbQRamFExxGzsL7/8Mqp7CJhoFcd1lVbh+NRTT8Vzwro2tJEjSKHNGUEK95UgioCLv6e6KX/tGU5nrRvuP1UyBDn8zt8RzPC8EKJxGD9+fIRbgwcPjrWHCLz4Gyy99NKxts+//vWvuM9U2PA4CZYIx2i5WYhwiPv+0UcfxXpCrNtDOFZSS7msFRxt3LKWb5IkSZIkzSjDHEmqJGZlZ+tDlNXKSJJAmMIC+VSQrLDCCumwww77R1DA+gKEBFTWsCA/4QB/R5hB0EBwwXUQOAwcODCCGqpzWC+HKpbs8OOPP0aA8fbbb0fowro7rKHD7WYIXgh/CHIIZThOcEMwcfHFF09v5UY1EVUmbdq0ifMJPzp06BBVLVTjHH300WmvvfaaXjHEfSb8IYTaeeedowKptO0jwQuPledk5MiR0UaOypZbbrkl3X333RHYsH0lyKHVXP7zRdUQlyf44TrYHhN+9ezZM1q2ZcEJj4MqI8IWKna4PzwPBE2srUPVzxZbbDF9fR1CF66P54HKIx5XIe4T953gjRCN55C11TiN6+C+EGrx/PN/4vkn0OG+8LeSJEmSJM2o2f784vq/3HFJUjnYZNJy6NNPP41BQQY1GzdunDtXkkpGYDJ06NAIbTp16pQ79S9sW/r16xdrrrzzzjtReUOQQUsxQgBCEqp3OBAoUzlCpQnBDFUshBBZEPT5559HoEBQQoiw//77R6iRjxZll19+eQQihB1rrLFGhBi0KCsJ4TVBEeEMwUVJwQQt3QiZCJ5ooVbetpHnhMCJShm2qTxGngceE+ERrea6dOmSOnfu/LfKFqp4CH4ISwiwsm0xj6G0SiCeI4IWrof7X1IlDc8r1TaEWARYJV0GhDOXXHJJHGjzxn1dc8010yKLLBL3n8dPa7jRo0fHdRx++OGx/hGhjyQVI7btVDiyHWVbxzppkiRJqnmGOZJUCQzSnX766dHSp23btjETfNNNN412PpI0M2ifRrBBqzRCDtqD5aP1GdudtddeOypfCF/yQ44MYQMty6gcIRihKqUwmCB4oa0aAQ3BEcHLrKgyJCSaOHFihCLcX/A4ud8EUfwsCeEMf0d4w9pBNb1GDc8blVT8r6iW4v7k4/9CuEQVEJVFhGlW5kgqRoT/l156aXr11VdjW0crSsJsPoskSZJUswxzJKkSGFylDRHrQjA4yqLkxxxzTMyet92apJlF1Qmtz6jsoEqElmlsa9jGEOQQcFDhwaGkIEc1h/8V6wlRgUMLPMJ+gn3+R7Sjox0c/yeCstKqfCSpNmPdtZtvvjlddtllsc3L7LrrrqlPnz653yRJklRTDHMkqRLYZDJwxyLbL774YqxlwdoRRx11VLQqkqSqwLYmO4CwODuodinpf2V4I6kuoL3aoYceGu0/8x1yyCHp+OOPz/0mSZKkmuI3TUmqBAbpWPOC1mqsLcHg3WuvvRbBDn3EJakqZIEA1TccOG6QUzuV9L+SpGJHG8zHH3/8H0EO7S1Zq0ySJEk1z2+bklRJLLjNotx77rlnBDpffPFFuvbaa9MzzzwTlTqSJElSMZs8eXJ65JFHcr/9Zf31109bbrll7jdJkiTVJMMcSZoBrIHQuXPntNFGG8WaCKyVwDo6w4cPr3Sgw0LkzH7kIEmSJM1qDz30UBo1alTut2maNm2a9t5779xvkiRJqmmGOZI0A2ils9RSS8V6OSx0zaKwQ4cOTf369Yv+4pUJZl555ZU0ePDg9NFHH6Vff/01d6okSZJU86jK6du3b+63v2yyySZptdVWy/0mSZKkmmaYI0kzoX379qlnz55pueWWi4qcV199NQ0bNqzCayZMmTIl9e/fP/Xu3Tu+NH/zzTe5cyRJkqSa99hjj6VPP/0099s0iy++eOrevXuae+65c6dIkiSpphnmSNJMmGeeeVKnTp3S5ptvntq2bZsWWGCBtOiii1Z4oXLatf3www+x7s7IkSOjXZskSZI0K/z222/prrvuyv32l7XXXjv2dSs6YUmSJElVzz0xSZpJTZo0SYcddli64IIL4sCX3YpivRxmOlLVM3Xq1PTVV19Ves0dSZIkqSqMGTMmfffdd7nfpmGiUteuXWPNHEmSJM06hjmSVEVWWWWV1K5du9xvFdOgQYP4YjzHHHOkb7/9Nk2cOLFS6+1IkiRJVYXKG/ZLMxzv2LFjWnrppXOnSJIkaVYxzJGkWeh///tfatOmTXxRpt0aYQ7tLSRJkqSaxiSjddddN44T7Cy77LKpR48eabHFFovTJEmSNOsY5kjSLMTaOi1atEgtW7ZMf/zxR7S1MMyRJEnSrNCsWbN01FFHpQMPPDAdfPDBqVevXmmNNdbInStJkqRZabb/MS1ckjTLfPHFF+mYY45Jr7zySlp99dVT7969U/v27XPnSpIkSZIkSarvrMyRpFmsUaNGqVWrVnF8/Pjxady4cVGlI0mSJEmSJEkwzJGkGjBo0KA0YcKE3G9/16BBg7TkkkumBRZYIP3000/pm2++Sf/9739z50qSJEmSJEmq7wxzJKma3XLLLenkk0+OxWMHDhyY/vOf/+TOmWauueZKK664YlTo/Pzzz2nYsGER6kiSJEmSJEkSDHMkqRr9/vvv6fvvv4/DlClTIsyhjVp+5c1ss82WFlxwwdSyZcs4/vLLL6fJkyfnzpUkSZIkSZJU3xnmSFI1mnPOOdO6666b2rZtm3799dc0ePDg9NRTT6Xvvvsud4lpYU7jxo3TYostFpenKoeWbP/73/9yl5AkSZIkSZJUnxnmSFIlUVWTVdtURLt27dIuu+wSYQ0hzrPPPpuGDh2afvvtt9wlUqyXQ6u1hg0bph9//DG9//77rpsjSZIkSZIkKcx+xp9yxyVJFUDY0q9fv/Tkk0+mH374IUIa1r0pzdxzz51atGgR1TajR4+e3kJtjTXWiHVyMPvss0fQ8/rrr6epU6emb7/9Nm211VZpnnnmifMlSZKkqkZFOPu0gwYNSl988UVaZJFFUoMGDXLnSpIkqTaZ7X/28ZGkShk1alTq06dPBC9LLLFE2n777SN4WXTRRXOX+Kf//Oc/6d13302XX355evXVV9P888+f9ttvv7Tzzjun+eabL1qqjRw5Mp177rnptddeizV0br311rTCCivkrkGSJNVXw4cPL7Vil/X5qPb997//HYf845xXnv/7v/+LNq/lHZh4UlXYf1pooYVyv2lWYf/z/vvvTxdeeGH65ZdfYhLRJptskk455ZQ077zz5i4lSZKk2sIwR5IqiaqZK664It1zzz2xDs7SSy+ddt1117Tlllum5s2bx6BISZj5+NBDD6Xrrrsuffnll9FW7bLLLktLLrlknP/111+na665Jt13333p559/jtvgOueYY444X5KKSd++fdO9994bYXbLli1je/bNN9/EOmFs1xgcpnKR6ka2oxynypHzJf2Ftffeeeed3G8l4ytd9rWu8GdFZe+9/PdgSadVBfaVqAZZZ511cqdoViAg7NKlSxozZkzulBTb5Mcee8ywTZIkqRYyzJGkSmJgcvz48RHMPPjgg2nSpEkxW3WvvfZKhx56aFTdlDZ79auvvkp33HFHuuuuu2IG5IYbbphOOOGEmKHK5pjrvOCCC+I6O3funK699trUuHHj3F9LUtVhEI8D27Q//vgjDvzOtij/MGLEiGgDCbZbHP/oo4/S2LFjI3gmqKY95JQpUyKsqUglQEWwHV144YUjJGddsWWXXTZaUy6//PIxyNimTZvUtGnTCIaycIiDAbjqkrfeeivtsMMO6ZNPPonXf/a+LOm9mp1eWxAAZQfCm+wn2xy2E1SDHH744RHkatZgDUdeX/losfbiiy/G9leSJEm1i2GOJM0ABj0ZzKQ656mnnoqqGgYp1l577bTvvvum1VdfPdpTFFbp8HcMzFCRw0/aqV100UUx65YBmFdeeSX17t07ffDBBzGASfDTvn373F9L0oxh28MaX99///30A+ELATPreRHMMFhMGEM4Q9UhQQ1tmvg5qweI8weBC7Vu3Toqe1ZbbbW03HLLRehDyNOsWbPYDvO3UrEaPHhw2nPPPdPnn3+ezjnnnGjNynsyC1ILfxK40maN90rhgfdx/qG80/iayPuHYJX3H4fseOHP7Hh2IFQlFGCCC5NSsgOnExSwv3PWWWelY4891vVZZqFLLrkkWgDnY1t68803R4guSZKk2sUwR5JmAgvFPvzww+nxxx+PcIfZpQwkduvWLVqH0FqocMYpAy3PPfdcBEGc371799SpU6c4j4ofwp0BAwbEDHOOb7rpps40l1QuBnAJadjGENT8+OOPMbhLiDN58uRoo8N2ip+EN1y+LNlgLGsoZC3QOOQfz36nYoCfhEGVxaBxFhpx3znkH+e80nZXGWjmwPnZwDMhTseOHeOw5pprxva1SZMmub+QissjjzySDj744DRx4sR0/fXXpwMOOCB3TukIbwlkOfAe4me2fg7vew75xwt/z45zPWwHCt/32fGSTsu2GdmB0/IDVdYd7NWrV3rmmWfSSSedFGuzcDnNGttuu22sx5SPaqnDDjvMkE2SJKkWMsyRpJnAICSDp8ycpUXayJEjY/CUtmlrrbVWBDHLLLNMDC7mY8CT6hv6ktMuiIFQMOBy4403xro6DMTutttu0YaNmbiSVBLCmqeffjq9/vrrUWnDNohWjWybaInGgePMuM8wuNqwYcPUokWLOFDJwnaGmfNsj6ho4cBl+J1BvfwDA7f5P/lbflKlWFlsR7OqAg5ZCJX/k8eYf+Dx8BipKmIds/zHlg0+MxBN1c4222wTrdm6du3qGhAqOnfccUc65phj4r1Ni1b2C4pZfpjzr3/9K5199tmxnVHNY/3GDTbYIIK+DNv7q666Kk6n2kqSJEm1i2GOJM0kNqMMNhLkPPDAA+nll1+OWfEMThDkbLbZZmm99daL4CZ/wIK/y5+tCgYkBw4cmE477bSYSb/SSiuliy++OLVt2zZ3CUn6CwEw2whC4M8++yyCkdLQupE2ZB06dIifhM6EMLRBYgCP2fFZQMOhtlQEZpU7WaVBdsjCKga5eey0iSMkZ1vMNhhsY3lcPE62w1TqEO4stdRScb5U211xxRXp9NNPj9CSSmAqKYpZfphDxRHr5mQTWlSzWPfx6KOPzv02zSqrrBJV4bSulCRJUu1jmCNJVYS2JLRB6d+/f7RdGzduXJzG7PbOnTun7bffPmaH04OcfvKl+fDDD6OPPKHQoosums4888y08cYbO0NS0j9Q5cd2hfCXSpR8tGqkxdj6668f2yDCG7ZHDJxyoHqlLiAEz8IeKnx4TkaMGBGVSrQPYoFvWk0RTvG4Cdmpbth1112t1FGtx/4AgQeTRghANtlkk9w5xSk/zNlrr73SlVdeGdsl1Twqo6gqz8e2kYCHak1JkiTVPo4MSlIVYeB08cUXTwcddFA677zzYs0cKnGYTUvAQ5sUZkGyzg696Euz5JJLxsx5ZpRPnTo1vfnmm3EdklSIbQrbh/wgZ7vttkt33nln+vTTT6MFJIEwLR/bt28f63QRKNeVIAeE42xrF1xwwXh8K6ywQtp5552jYunZZ5+N54AKAKpzqOQh3GEQkwoHFpWXagsCSKrLCGeZDAJCyqzirrZXsBA40fqQSSm8zzhelvzHpppFAM7/KB+VmSuvvHJsSyVJklQ7WZkjSdWEtR4ee+yxdMMNN0RfcgYtGEBlpvy+++6bVl111WhvVIhZ5k888UQMNnKctXfoKW9bIEn5TjzxxAiOqdpjrRsq+NhurLHGGhEu6+9Gjx6d+vTpk/r16xfr7rALvO6668Y6JLRiYwCztrSWU/1CcLP22mvH5I3S8D5nsD078JrNWiOWdVrWzrWwrWtJeE8QDDPhJPvJfeNndjw7sE+TrWfFTw4lBTNUKm+55ZbTbz+/MoeWh6wJVNK+kKoXrzUmH9GmMkPgTyUY+6mSJEmqnQxzJKmaffzxxzFYOGjQoJilyiAIC45369YtZtBTicP6FBnOZ0Y9M8kZfGzXrl067rjj0kYbbWSrNUmBdmKtWrWK6j3W1Dr22GNjm9KsWbPcJVQSKnNuvvnmdNlll8U6O4ReVCrReu3UU09NXbp0yV1SqjlUsrA/QFUO6+tlgQmBSnacyR21HWFoFihR+cH77dJLL439mWw/Jz/MoWKwb9++qUmTJnGeas7TTz+djj/++GhLmeH/wfpMVDhKkiSpdpr9jD/ljkuSqgEDhVTX8OWYWasszM1MyGHDhsXADYM0XIbBDNZ1YPFuTqcdGwt6M4DD2jmsi5Ef+kiqv954442Y0c72gQDipJNOckC0AgjEqTB46623Isxhm0wVJe3WaFe39dZb16kWdCoOVLfcd999sW9A5S5tAmnVSoXE6quvHq0DqZrgQHjbpk2bCHPZN2BySPPmzWONE6rLqHKhUo/Wg1Tm8HqmFSGvfebwVWYeH39LMMOaNlwv109gvPDCC0foxDpcBKErrrhi6tixY9pwww3T5ptvHhVvPKbx48dHO0MqkbO1AmkhR/Ux6wpy/3ms3IZqFkEbk4z4P4E2lFRK8b+zQlGSJKn2sjJHkmoIs1QZPBw4cGCs4/Dee+9FkMMACe2RGABhMPaRRx5Jr732Wgw4UqHDzHFmSzKDkoETSRoyZEgMvDEgxxpbhx12WOrcuXNaeumlDSNKQGAzfPjw9Morr0TbJ47TFooBb6qcQOh+//33OytdNY4wkVZk7Beccsop0Vo1w1c19hVoa8Z+RP6B07L2Z/lVPKUd51DRNWpoi8a2pKwDE0xYx4cggACJn4RGY8aMSYcffngaMGBAuvXWW2NR/az1IxNW2F49//zzabXVVot9ItdoqXlUddIKmBCR/80qq6ySDjzwwAjpJEmSVHsZ5khSDWJQhdnfDNgQ6HCYOHFizEplEJZ1cUaMGJHGjh07fQY5PxmspQWQfcwlgXBiiy22iFCHGe8LLbRQat26dcyqZnY8P+v7OhTff/99bGtZVP6ll16KVla0uszaCvF8EeRQKcBANMXqhxxySFQzSDVp0qRJMWnj3XffTUcddVS65JJLcucUp/ww595770077rjj9Moc9nEOPfTQ9OKLL0ZFz3PPPRdVRap5hIG0AmY/k0CNiitJkiTVbi6+IEk1iNYVDFow0Lr33nvHYAfHaZXEAMfgwYNjtjizJAlywCxaKnTeeeed6TPIJdVvzIbPwhq2HwwG03rtmmuuSXvttVdab731oprv0UcfjYrA+oLngoCLtnObbbZZ2n777SOkYQb6+++/Pz3IoTXUaaedFu2jsPjii8esdIMczQpUuTCgDoLauoTJKlT5ZNinyaqDmOCiWYftHZOFll12WYMcSZKkImGYI0k1jEENwhqqcHbaaadYGHj33XePwUSqdpg5zto5+fid3vN1bZBHUtVipvXXX38dM/wvuOCCWK+CNTaYAb///vvH4v/Mmif0YEC1WAu0ud8ceAw8Ftqnsag6FY4EWX369Il2lYRcrAnBZdj20late/fu0U6NQD0Lb3h+CMikmkKLRF63VIxxPHsvUlHG67UihywYKetQ0t/NyIHgJTuwL8L6PqzrR0g6dOjQ9MILL5QYzvAey4IqZO9bcPli3QZJkiRJs4Jt1iRpFmNQ44svvohWIyxGyyAsgznZYAcYCKGChxnmhECSxGL9rP+SYSHxRRZZJD399NNpypQpUeVHNV9Ju3q0GGONBBYtX2ONNWIxdWbQEzRn62FwnEP+rPqaxiBy4RohhNtUK44ePToqFqloZFA5f5uZYSCZdTyYdc6aJLSm4zET6oBZ6QxG89zRDkqqCQQhvO943WZ4n/FZT6jI+5P1aArxfuT0bL2a/APn8R7I1sahujc75P/Oe6qiX//4O95v+QfegyWFNhm2OVQD0kqNfRq2R7SQy7z99tvpoIMOivaHSy65ZPykTaQkSZKk8hnmSFItwcAri3LTY56FgVlLJxswYZCHwUjCnC5dukS7Nkn1W2GYc84556STTz45jRs3LkJhtidvvvlmVPuxPaHFGAOxJe36EQItscQSqUWLFnFge8OhefPmEYYwwEwAkh0YPM5CnmwQmkN5x/nJdi1/oDk7FA5AM/uf9WyoSiS84cDgNwcGlUvCfWNgmPUfFlhggai4oVKHMJzHUsgwR7MCi/7TBpD3Fu+3LIAp6UD4Uhuw5k0W8BYeCJfY7vC+pSKOx0XVMdU6hWHOsGHDIsyhmocQmW1Us2bNcudKkiRJKothjiTVMsxoZaZ5//79Y7Aj20wzeLrnnntGKyEGSiTVb6WFOfkIiWnjRGDBtoVwhDZs+QeqeAhOStolJDhme8NaX1lAwk/WmiGYASENl+MnA77ZIfs9/zx+UmHD7H1uk5+lHbhfU6dOLfF+cdtUEnG/OBBGtWzZMmb6cyCYonUlAU5Z4bdhjmYFQo4NNtggrbDCCumwww6LMCOresn/ySELN7PKtPyfHDivKr7OEcqwn0E1G4fsOD85ENjwnuM0QlN+8jsHAtbevXvH9oQwh/CXNahoI1cY5rz11ltxHj8XXXTRCJ1LClolSZIk/ZNhjiTVQszGHTlyZHr44YdjBu+XX34Zg5cMiJx99tkuVCupQmFOIQZ/WZ+DKp3SDgQoJf0srRqmKhH2ZG3eslZS/GRwmAFfBn8JbvjJAHiTJk3iwHEqHCobdBvmaFYg8FhrrbUizLniiisi2CkNX9XYJ8iCmyzYyY5z3sx+nWP/grA1e78V/iTo4b1ZGt47TDTJwhwCnv322y8mpBSGOVTisH4X7dZ4T7/33nuGOZIkSVIFGeZIUi3G4t1DhgxJ9913X/roo4/Saqutls4666yYgS6pfpuRMKc0hWvTZAPG+QeqfAh1vv322/gd7EZmlTTZGj38bXkIZ+aff/44EMBkxzmdSpr8yh5+MpjMAHF+qzdOm1lZmLPPPvukm2++OXeqVL2oRll11VUrFOYUg8IwhwCI9xSBTWGY88Ybb0SYQytIqvx4/zlBRZIkSaoYwxxJqsXYRDNwykxWBlHbtGkTa0AwW1ZS/XbcccelCy+8MPfbzIU5FcH2iAXWOeTvPman8zM7lIdKAEKa/EN2Wk3KwpyLLrooHX300blTperFa47XXl0NcwhkaQvL42QdQNYHyrz++utRtTNixIgIcGkDaZhTc9in5LmnZeYyyyxTZhtKSZIk1T41+41ZklQpDG7yhXvjjTdOO+ywQ+rYsaNBjqTAWjE1KWvFlC14nh3YJmVVM1TWsJ5OeQcux9/wt1xfVoEzq3D7Uk2p65/jVPrR/g1U6hWGv5yPP/74I36q+vG8jxo1Ku27775pt912S1tuuWW6+OKLc+dKkiSpWBjmSFIRyGauS1JpGCClQkZS7VbXwhxCmcKKvOz3wjAnq+5DSX+n6vHTTz+lu+66Kyq9M1RUZS0zJUmSVBwcGZQkSaoDpkyZEuvWSKrd8sOcuhBmFAY2+QgL8s/jeH6Yo5rBemZvvfVW7rdpaN87ceLE3G+SJEkqBoY5kiRJdQAzr3/99dfcbyoPa0dkg8lffPFF/JRqAu0Jwesva0dWzAhzSqsKJMzJPy8/zKGasC6EWcWAbdy4ceNyv01Dy0ta+UqSJKl4GOZIkiSp3mFGOoPQ+Pzzz+OnVBNYfwoEHb/88kscL2ZlVeaU1WZNNYeqnMLX2vLLL5/mm2++3G+SJEkqBoY5kiRJqndcr0OzGkEH7a+KXWXCHI5TkaOaVdhiDZ06dcodkyRJUrEwzJEkSSpCzqiWihfVOQQddaE1Io+jrDZrhWGOlTk1b9iwYbljf1l11VVzxyRJklQsDHMkSZKK0AorrJA7JqmYEOTMPffcUaGSrdtUzMqqzClEkGNlTs16//33o61kvhYtWqR27drlfpMkSVKxMMyRJEmSpBo011xz1Zkw5/fff69wmGNlTs176aWXcsf+wno5DRo0yP0mSZKkYmGYI0mSJEk1qC6FOZVhZU7NGzJkSO7YX5ZZZhnDHEmSpCJkmCNJkiRJNYQ2a4Q5BBv1LcyxMqfmffLJJ7lj0xDidOjQIVr9SZIkqbgY5kiSJElSDcoqc2hRVp9YmVPz2rZtmzs2zVJLLZXatGmTZp999twpkiRJKhaGOZIkSap3fvnlFysENEtQmUNVRH1ss2ZlTs3bZpttUuPGjeN4kyZN0i677JKWXnrp+F2SJEnFxTBHkiRJ9c7YsWPTr7/+mvtNqlmumaOa0q1bt1g3p3fv3um+++5LPXr0iNefJEmSio9hjiRJUhFaaaWVcsc0I6gQyPz222+5Y1L1y18zh2Aj/7VY11mZU/N4vS2wwAJp9913T8suu6xr5UiSJBUxwxxJkqQilLXN0cz78MMPc8ekmlXXw5zC4MbKHEmSJGnGGeZIkiSpXvv5559zx6SaQbUECDfqcqVKYVhlZY4kSZI04wxzJEmSJKkGzTHHHPGTsKPYw42yKosKq3Dyw5ws0JIkSZJUMYY5kqR6g0Gk7777Ln3++efp999/z506Y1i0eurUqemTTz5J48ePT7/88kvuHEmSyjbnnHPGT4KNssKQYlBYfUNI83//N+1rZkmVOdnvPAcGOpIkSVLFGeZIkuo8gptBgwalHXfcMW2++eZp++23TxtssEG64oorIpCpqJ9++indeuutaa+99krrr79+6tq1a+rRo0dc78YbbxyLC5933nnpkUceSWPGjJnpwEiSVPcQYGRhTl2ozCkpzMkqj8p6bHPNNZdhjiRJklQJhjmSpDqNQabbbrst7bvvvmno0KHpyy+/TBMnTozqnIsvvjjCncceeywqbcoyZcqUtN9++6UzzzwzDR48OP6e65o0aVIcvvjiizRkyJB07bXXpiOOOCLCnW7duqU77rgjqoHyB7qkuoBXdDbL3te3VDn5YUdFwhw+o5iUUNLh5ZdfTsOHD08ffvhh+vTTT+PzimpRJhRw4G8rcsgunx34/KwILpu/DaAqZ/bZZ4/jhUFPPsIcSZIkSRVnmCNJqtNeeumldM455+R++yeCmJNPPjldeOGFEdCUNqh23333pXfffbdSg9YjR45Mp556atpiiy3Svffem3799dfcOVLVaNasWe5YzeD1T4Xap59+nt4a9nZ6auCgOLz51vD0/fff5y5VPt5nDDb/8MOPf/7dD+nnn39Jf/xRsYHjqvLbb78ZQlUz/s9fffVVBOg///xzhUKL+iK/zVpFnpeNNtoodenSpcTDuuuum1ZdddXUvn37tMQSS6SFFlooNWzYMDVq1CiOL7744qldu3Zp5ZVXTp06dUodO3ZMq6yySurQoUOc3qZNm9SyZcu08MILp6ZNm6bGjRvH33bv3j3+b+UhCCoMc/LXBCqNlTnVh/8HE0l47/EelCRJUt1gmCNJqrP+/e9/R/VNoWzGcIZB6JtuuimdddZZUb1T0sAaA1PZoBODXcsvv3wMiK299toxOLbCCiuk1q1bxyBYIap2TjvttPTee+/lTpGqRtu2bXPHqh+Dg19OmJjuvOf+dNzJp6Uzzu6Trrnupjicd+Gl6ZXXhuYuWb5Jk75K9z/0SLrl9rvSTbfdkfo+2C8Neu759PG4TypcDTCzqGAwYK1eb7/9djrhhBOiWvGGG25IL7zwQho3bpxrjP0pP+yoSKjYqlWrNPfcc8fnEJ9hhEGEIQ0aNJge3PD5M//886cmTZqkBRdcMI5zOzzfDOiPHTs2jRgxIj6L+Dl69Oj4fzCRgYkN33zzTfrhhx/is5NqGy7PmnDlIczJl91HlFeZY5hTPagcvvrqq+O9d/zxx6dhw4bV2LZVkiRJ1We2P3eunZIoSapzGKR99NFH03HHHZc7JcVAF+ELA+BUFxCyvPbaa3+rKCCUoZXaaqutljtlmg8++CDWy2HgidnNyy23XAyYMZDGQBaDYAyGMfhFGzauN3/ghIG3u+++O4Ifqaqss8466ZVXXonjtBI899xzU/PmzeP3qvbv335LV159fXr+xZdyp/xlnnkapJOOPyatstIKuVPK9vY776XTzjr3b8Ep7632y7RL3bttldZac43cqdXnlFNOSZdeemlUHlCZwHtXVYvnl9aThANUa1AlwraT7Svb0RVXXDG2o/UNn0977LFHevDBB9NBBx2U+vTpU+7zQOBCy1BerwQl2SFraVba73wOZW3TqEbLjnPgvKzFWuFx3pv8n4466qjcPSgd254777wzrpPPPsKl/fffP73++uvp6KOPTmeccUaad95547IPP/xwVPxg6aWXTq+++mq8LlR1fvzxx3T77bdHgPrtt9/GabzXmLRC9ZUkSZKKl2GOJKnOmTp1arrnnnsiPGF2aoZ2MgQ1a621Vgw6Eb4899xzMejx8ccf5y6VYpDxiiuuiHY1GT4uJ0+enOaZZ54033zz5U79C4MnzHRmYP3FF19M77zzzt8Gqmlh8+STT8ZMaamq1GSY897ID9LpZ/ZOv/353kHDhvOkFZbvkBZdZJEYAN5hu21S06YLxnnlmTT5q7T/wb1KrIJbbNFFUp+zT08LLrhA7pTqYZhT/caMGRPbUtZy+eyzzyJEByE420TC88022yytscYaUfFYXxDm7LPPPtF+k9DjvPPOi0qamsRnGu8/gpuSDpxHwEQ1UHl69uwZn7lsBwhzCG4OOOCA2DYdeeSRUfWaVa3mhzkEe3xe1qf/fU2g4ooAjbWUMry+rrzyymjJJ0mSpOJlmzVJUp1C4MLg4fXXX58mTJiQO3UaZqSyxggVALR3YR2BnXbaKf3rX/+KGcIZWgNdc801f2sNw9/w9/lBDhU9Q4YMiYG4vffeO1qZMPOVhagLB6lpdWKQo2L2/vujpgc5zP7v3m3rdOB+e6edd+yedumxfVpggYpXWCzUdMF0yIH7pROOPSrtsdvOafGWLXPnpPTFlxPSc8+/mPutZlCxkB/oqmqwXT3ppJNiEPm6665Lu+22W1p00UUjzCDoeeyxx2Kgn21wv3796tXaHpVdM6eq8ZlG5Q6fhUxSIIDhM4pBfz4n+byrSJADQpz8z8vKrJmjqsc6OVRy5eP/zf9FkiRJxc09OklSnUE7EdqKUJFD0JINLjEg1bVr1whbllxyyTgtwwzxTTfdNO2+++5/a3MzcODA6DFfGlq0MbP/4IMPTjfffHOstfPJJ59Mn3meoX3M5ZdfnrbbbrvcKVJx+mT8p7ljKS3SYuG03LLtU/NmC6VGjRqm+eZrXKmBQgaRN9l4g7T2mmtEW7Udum+TmuSFnSPf/yB3rGYwmF743lXVaNGiRVRFdu7cOZ166qnRKqxXr15pgQUWiIF+qiepzmB7SnUZgXjWGqquYmA9P+yYFWFOVSoMc7KgCDy+/PPyZWsAqerwXPOeYh8lH891+/btc79JkiSpWBnmSJLqBBZ4vuuuu9KNN94Ys+zBINHyyy8fp7MQMC19sgGmfMwO7tGjR9poo42mD7CxCPRDDz1U6iAUi6cPGDAgLsftlXQ51se544470jbbbDN9FrZUrH7+5efcsWkte0pqN1gZc/z5XiQA4r2xZOvWabHFFs2d8+f76/O/D0Sq+LE9pgJkmWWWiXVUqMQ58MADY30Vtsu0u6M95dlnnx3h+wUXXBDVO6y3U+xhR0myzyIeW2mfM8ViZipzDHOqFhNZPvroo/if5GMiS0238pMkSVLVM8yRJNUJDALSWi0fg4aEKazHUN6AUaNGjaIF0CKLLBK/s6bOe++9F+vvlIRZrswsLwuthFiTh7ZtDLBIVS1bVLwm5L+DGLitygHoho0aRoVP5j8FA5GqexhcpgUboc6hhx6aVllllVg7hRCAFlEE8Ntvv306/fTT0/PPPx/VBlRPFXvwUaguVOYUVt/weVuRyhzDnKrHvsa4ceNyv/2F/SBJkiQVP8McSVLRY6CI0CY/MGGtBtayqczCyrQgIczJBpe+++67NGrUqDheiPZpHTp0yP1WMgKmiy66KBa6Zh0f1tLJqoakqrDSSivljlW//Kq2//7nv+l/VTgAzWB2/oC247v1x7LLLhtril111VUR7my55ZbRlo2Bftqt3XvvvbGmDufRRvOFF15IY8eOjUqeuqDwtV9suO/51TdsJ/IDGitzahb7Qbw/Cq2++uq5Y5IkSSpmhjmSpKLHotnM3M60bNkyBgdpsVYWqm/yW5FQ5ZDfio3WbZMmTYrjhVgcmnV2dt5557TuuutGeES7oJJ88803sQ4E60U8+OCDERJJxSZ/0PW///tvHKrKf//3v4Iwx13U+oS2XIsttljaYYcd0hlnnBEH1iNbe+21ozUU29DBgwenyy67LEKdM888M44//fTTMXBNK7ZiVeyVOYX3n4AmX2FlDtuRbFtSeFnNHJ5r3g9UseWjJWZ5k08kSZJUHPymLEkqem+88cb0xcsJYlijZsMNNyxznRrWvDnuuOPSySefnIYMGTJ9sKlZs2bTB5qy9TxKQpu19ddfPx1//PEx8NinT590ySWXxCAji3hvvPHGUeWTLQrP9Y8YMSJdeuml6ZZbbklff/11nC4Vi1/zBswZvC2tddKMoMrnf//9+4BvdSMEJtBV7UI15TrrrJMOOeSQ2J6eddZZsabZUkstFS3YWNid8J6AnPV1TjjhhHT++een/v37l1iRUNtVJsxh8sHHH3+cRo8eHT8/+eST9Nlnn8XgPRMP+Fwh+GItNyqXCLn4m+oMiwqvv/Azs3A7wWdiNmHCypyqxf/79ddf/0e4ueKKK6YmTZrkfpMkSVIxM8yRJBW9Dz74IHcsRYBCO5HGjRvnTvknBp7OPffc9Mgjj0SlzLXXXptGjhwZpzMYmA1MNWjQIDVv3jyOl4QBKWaNt23bNvrRb7HFFrHuDlVBvXv3Trfeemu68MILp/eqZ1Br8uTJEeY8/PDDdaZNkOq+iZO+Sh+O/ij327RB2LLC0srivUF1TubnX36p0rCoJAx8Fy4SrtqD7S/t1mi7RmBzzTXXRLjTpUuXeP0RghBkMHh99913R+iz3377xfb3zjvvjBaZxRDW8XmTH4aU5bXXXktbb7116tatW/zs2rVrfO5sttlm8bwwiYCJDOutt15UjK611lqpU6dO8RnETyqdOG+jjTZKm266aTy3XM92222Xdtxxx7TLLrukPfbYI+21117xXJ5yyikRHJWlvMqcksIcQjkY5lQt2rh++OGHud/+wsQTSZIk1Q2z/bmDXb3flCVJqmZU2PTt2zeOt27dOmZrM2BVGmYtM7gxZcqU+J3BJdqlMdhF+MLi26DlGsFLWYFOeRjoYoDlueeeS0cffXS0bsMCCywQa0QwuJZV78xqQ4cOzR0rGeEVYRmHimAwlee6LIRubdq0iUqn8vz4449/C+5Kw/9riSWWyP1Wtorcx3nmmSeur6yAMMN1lbbOUj7+/61atfrHwGdJyrqPV155ZQxcg4owQsqZeb3m+89//5smTZqcXnr51fTo40+m7777a02qTTfZKO3dc7fUeN55c6fMnK+nTE3X33hrevX1N+J33hNHHH5w2niD0t/HM4sBbAJd0IbosMMOi1ZfBAgMgjdq1CjOKw3ruQwaNCgC2rJw3WuuuWa8zrOKhNK89NJL6d133839VroWLVrEoD2vo7JMnTo1Pfvss1GFVBbef4Tgyy23XLkh3bBhwyJUKA/bCUKD+eefP3dKydg+Dhw4MKoly8L1sI1edNFFozrn8ccfTwMGDPjH+y0LCwiDaLnJ877VVltF2FGVAeTMoHLi8MMPTzfeeGNUklLVSeVRebp37x4TAWZGYXhS1u9s+7ifbFdKQ9tQ2uPxXsD48ePjf8rf8f+hHSnbqawy5Mknn4xKK6ppWU/u8ssvjxanmnmsl3PkkUfGez4f+x8VeX1JkiSp9jPMkSQVPQIYghEwuMkMbWYblzbjlwEPwh7a0ZSGwU1mJhMUVQU+bmkHx/Ux2MXvtD6hemehhRbKXWrWmDBhQszKZpZ7eRiYZs0KZnCXhZn0LFxeEQy0sp4QA9Sl+eijj2I2etZOrywM+p5++ulp++23z51SMmb5E9ZVBLPcaadHFVZpeB432GCD9Ouvv+ZOKRvPEa+xsgaYL7jggnT11VfnfvsnAgVez9h///1j0LWqXk/vvDsi3XDTbWl87nXB+2nuuedK7dounfbec7fUdumqGxwk9Lzr3vvTY/2fTP/+7bc4jedllZVWSBttuEFaocOyf/5f54vTq0p+mEPIQovFLFxjm8LAeVZBUJI999wzFuOviI4dO8YaL4QLpXnvvffivVBRtIikgqKsQLAy95Eqw4ceeigtueSSuVP+iW1XWUF5IW6f7QWhQGloVXnfffflfivbSiutFAEIa5aBgJfKHAarCcIIrXj/8XoqxPuoMs9vdcoPc6iuof1mWdsWEKBReUM1GZ8f2QGFx6sKa8ERtlDBUxomRRDO8D8ALd/YTpcW5jz11FMxeYLtFusi8V4rLzhVxVDty2cGFce8xtiu9ezZM95jtWXSiCRJkmaOe3WSpKLHTPoMAQ0VJgxyl4ZZwOVVLzDwRCBUVRgIZ+b7aaedFrP/wQx8ZpfPaoQ4WcVQeZhxTZVISYOl+Vi/oSIYYGJAtrzqGKqlKlK9w/NMy5+KtFfiNitSGcOAWEWuk4G08qoQMjwWBtsK1zYoxHWWNRCej7VGqnKGO4+Z6pzMHHPMntbstEbqsf12afEyQokZwXO81RabpS4bb5haLNw8Xhc832+8OSxdfe0N6b0RI3OXrD4EN4SVPI889vzWUSXhf8flyzvwmqBKpDwEEWyXSrqOwkMW2JU3cE8gxraspOsoPHC58iqHeK9W9D5yfTxH5d1HXrMVvY/8T/Kvj7+lQunYY49NF198cdp2220jlCrE62nixIm532qXwsdUGqq7WJuN0HbvvfeOkGSnnXaKUJKQilZrVEJRdUrgNrMHrouwhZ9l4bMg//6Xt03lf5G9znhflDbpQpXXsGHDCE+vuOKKmChAiMPaUwY5kiRJdYeVOZKkosdC0JtvvnkEDWDWNq1GGOBiALAkhCgnnnji9KqGQsw0ZlHtqh4EIUBghj4VIQziMdP8sccey507a3CfuD/MqC4PA92EXMsuu2zulJK98sor6dFHH839VjoGmxmkZMCQgajScB9pJ0ZlQFn4f9G+jJnk5bVaoxKC10FZwR8YcGRB9s6dO5cbrLB2R0XaZDHgTKVR+/btc6eUjMfbr1+/UgeiaTGVvX7OOeecqNaoKuM++TQNGDgojf5ozJ/Hx09fX2aRRVqkPXfbOa215hppjnIG/yvjp59+TsOGv5NefOnl9Oawt6eHZ7RyO/Sg/dK666wVv1eV/MocXnsMjNPGi/CF12N5gS//51dffTX3W+kIiZZffvm08sorlxlIUlFC1UJ5bdvAfWTAnVZmZQ2Gs94J78XyQkPQhonXeXmvcdp8VeQ+8t6mXd0yyyxT5naURfyff/75Ct1H2sDxPyIw4PVBEM1jpOqRA20Ys9cp79vFF188tgN8JjDIXVvaefFYs8oc1q7hM6G8bWptxefGrrvuOr0CjM9UwvzSKnOeeeaZuDxrVvEZTFVmRQNrSZIkqb4zzJEkFT1mBh9wwAHTe/aDdkYMTNIqqUOHDn9b74RBwOHDh8dC2SUFGAwU9u/fv9yB9hlFKMEMa1rRMOA4YsSIMlttSaUhMKMaAVUd5vC++vHP1+jEiZPTW8PfTvfc90DunJQ6r7t22nevPdJCTf9ZBTEjCDafHfxCuvve+2P9HDRoMHdafrnlUru2S0WQ02rxqq0Gyg9zGGhmNjuLv6v2IrBnbR0CHIIbAjUWfCc8yCqpCOHY5q+yyipptdVWi/ZltNCrTdUJ+WEOrdNoZcZ9LkYEarvttlsaMmRI/E6VJ5WUpYU5rOfC5fmf0eqS1qMVqVyTJEmSZJs1SVIdkPWFz5/dy2BS3759Y9Yvg0q0N2OwlsEjFjrnd2YGl4RZ+iUtFsxAIhUsrO9ARURFZpIXosKCAcisiog5FbZAUW3E+2r++eZLy7RbOm2/3TZ/a6329ddTYuHzqvL9Dz+m4W+/m6bkghyqTXbdacd0wL57pe7bctvTWhOq/iF8HzNmTKwDwlpYDP4TXF5//fVR0cNaVYThVDkeeOCBsZ1nfSvakbHWFVU5tXkbW9E2a7UVlVBZkAbbrEmSJEnVx9EjSVKdwCxsFtsuxAxuBvxYjP+6666LNlhPP/10zOrOApVCtPQqadHwt956KwYKqarZZ599IkC69dZbIzjKH8wqCYN13CYhEq29shZSDECWt06FNKvNPddcaZEWf7Ud++9//1Pua74ypq2b9GPKhrQbzjNP6rrFpmnRRVtEhY4DvvXPuHHjYntNBeXee+8dAc4DDzwQ2+EvvvgiwvQFFlggKqwuvfTSdNVVV6VevXpFa7fWrVuX2bZRVacwjCovOOO9nH3mEfz43pYkSZIqzjBHklQn0EaNmdh77bXXP1q2MNBEcENbMwYAC2dBs6ZFfpsz2kudddZZ/1hLhdCG9QA4ncFE1svgcqxdwSLczBi/4447Yt2Ll19+OT333HPRUo1BSBYj7tq1axo4cGAsap9hgWmpGOQPuv7fbP8Xh6rCWzL/XTlv43nLXF9GdRNtLwlw2I5vsskm6ZRTTklPPvlktFb75ptvIgRne01rsgsuuCC2tZdcckmskcVaWbVlTZzKINgo9urMylQW5VfmGORIkiRJlWOYI0mqM1gXgbZq1157bVp11VWjRz8DwtmAEYNIhDbM2Oa8RRddNBZiJmC5//77Y32FbFCNsIaWPvmBzmKLLfaPFjLMSib8YRHvrK3bQQcdFNfLbHIGI1kXgfV8uFw26EVLOIKctddeO36Xarv8AdvZ/nyfzPZ/VTcQ+39/XheHzP+qsOqnJFQCzUibRFUdAna2rwQ1hN6E8YQyJ510Uho8eHC072Lb3ahRo7TIIotEgHP22WdHSE67y5122ilOZ5tdzKFAZcMcPnN+/fXXeP1y4HnkQNDFc8aBzxoul1XNVCZsqW48VgI5SZIkSZU3258797Vn716SpCrCIOFLL72U3nnnnQhaGPQiQFlooYUixFliiSVS+/btY20cBgL5OHzmmWfS+eefnz7++OP4fb755otWagwyzj///DFIRljDmjdU+VClwyFrmVYRhEsMQG6xxRZxvU2bNs2dI1Xeo48+mrbddts4TgXYySefHMerw+ln90lvDXs7ji/fYbl00P57p9ZLtIrfZ9aEiZPS9Tfemt4cNjx+b7ZQ03TrjdfE8erAe5zqD7YRINylheIee+wRv6t6EC6wzWTtsDfffDOe/2HDhsVi+BkG+vl/sK1u06ZNtE1bffXV09JLL11nqrX4PCLMp00nARZt4tq1a5c7t3RULrF+0NChQyME4sDzVXi88Gd2qCw+G1u0aJGWXXbZUtfC4b3E+4ZKVfDZyX1krboBAwak3XffPV155ZXxPwWXo00p685ddtll8TyUt86OJEmSpGkMcyRJymE280MPPZTOO++8NGXKlDiN4IUWaT169Ihwh8t89NFHafLkydF2jVnlDEQS7jBbOjswWPfLL7/EYBitf2gDx/oOhEcdO3ZMK6+8cgRE0sygSoGKBVR3mHNW7/PTG28Oi+Ptl2mXDtp/n7T0Um3i95k16c/303U33pqG5q5/oaYLpttuujaOV4fCMIf3Im27DjjggPhdVYuvG2wnCdcJIjiwhhjbSVAxSWjQsmXLCG06dOgQAQIBR11c+4bPCF5rVCRtvfXWEebw2VAW1nI79NBDI/waOXJk7tTqRRUNbUS5f3xmlaS8MIfzCEqzMOf111+Pz9QRI0YY5kiSJEmVZJs1SZJymLlMlQODUNng0oQJE6Klz4MPPhiBDZehoocBLlqpsU7OmWee+bcD6+jk/8w/HHXUUWn99dc3yFGVWHLJJXPHqt+CCy6YO5bS5Mlf/WNNqZnx739PaxWVqUzbqapAdR2tFVX1+L9S9XjaaafFNpFqlLfffjuCHCokt9pqq3TkkUdO30aeeOKJaeedd47woC4GORkqPcFnSkVf7y+88EKNBTmgkorQhf9XVeHxUjEkSZIkqfKszJEkqQAVNTfffHO68MILc6ek1Lx581hDp2vXrkW9PoPqlq+//jrWikJ1V+b0f2JAuv6mW+M4g887bLdN2qF7tyoZcKd9G5U5EyZOjN+XX659Oq/3mXG8OhRW5jRo0CAddthhf3vPa+YRAlCVMXr06PTZZ5/Fabxell9++dS5c+c4UJFD1QZtMOsLKnP23HPP9MADD6QddtghXXTRRRFslee1115L33zzTQRkhGGFP7Pjhb/zszLtQPPRCpSJC2ussUbulL+rbGUOlUUHHnhgtNmzMkeSJEmqHMMcSZJKwALpjzzySLruuuumD0L26tUrZpDPyNoDUnWoyTBnwoSJ6eBeR0+vKGDwvcn886W555r7zz3KlE48/ui02CIt4rzK+Onnn9OD/R5NDz/SP/3xn//EaVttsVk66IB94nh1MMypGQzWX3PNNREm0EqNtW943lddddVoW8nzXh8R5uy2226pX79+aaeddorX3eKLL547t2x8dSvrQDVNSadzmBF83vFeL62aprwwh/83r4OsGpWAjwCHYMowR5IkSaoc26xJklQC1rlh4ea+ffum448/Po6zNklNt3+SaotmzZul7bpt9ed7YFplGhVsEyZOSp98+mmaOGlyLGpfUb/88mvqtsMuacddeqY99j4wPfDQI9ODHCrfNttskziu4sYaOHPPPXdq1KhROuGEE9INN9yQNt9886h0rK9BDgg8skoZPlMq87nC+4PLZ+3KCMkIQ3ieeU6pfOL5ztZqIzQjSKEyZkYOXMfMtEUrnPyQ3XdJkiRJleeIlCRJZVhsscXSIYccknr37h1rONhiTfXVHLPPnrp32zp137ZbWrh58zT/fPOlRg0bpoYN50nzNmqYvv/uh9wly/flhImJQoFffv012kBlqADYYtMuqc0SrXKnqJjRQoxAnCoMFr0nWNA0/8mFlwQlxRxucN/LCqP4zOSxUjEELk8AJUmSJKnyDHMkSZJUIY0bz5t223mHdOpJx6X99+2Zdtlph7TzjtunPXfbJS2//LK5S5WPqp5FWiycFmjSJC244AJ/Hm+R2i/TLnXvtlXaY/edcpdSXbDccssZ4pQga1dYXhhS2xHMlBVGjR8/PtYGItSjrRzBHu9/SZIkSZVnmCNJkqQKY/C29RKLpw3WWzdtu03X1H3brdNGG66Xmi20UO4S5Vviz7/fd68901577JL23mPXtP8+PVOvww5KO3TvlhrPO2/uUlLdlbVZK/Ywh8qisu7/m2++mQ499NC06667ph133DEdd9xx6cMPP8ydK0mSJKkyDHMkSZKKFC2MWCuj2BDYrNFx1bTxRhukDTdYL463armY7ZdUL7BmTl1ps1ZeZQ6Pj20Ua/gsuOCCsa7PAgsskDp27JhWWGGFmVqPR5IkSapvDHMkSZKKFIOobdq0yf2mimKdnqzNFRhc//XXX3O/SdUvv81aXQ5zttxyy9S/f/80aNCg9NRTT8Xxhx9+ON1xxx1prbXWKuqqJEmSJKmmufcsSZJUpKjMmWeeeVKTJk1Ss2bNcqeqPF9++WX67rvvcr9NC3fGjh2b+02qflmYU16bstquvPu/yCKLpE6dOsVh9dVXT6uuumpaaaWVUvv27WPbJUmSJKniDHMkSZKKHG2MGjZsmPtN5fnvf/8b1TiZ/LZXUnXj9UaAiLpemWMbNUmSJKnqGOZIkiRJUg3K2vrVhcqcssIczqOCUJIkSdLMM8yRJEkqcszyd82XGdOoUaPcMalmUJnzyy+/xHHCjmJfN4bKwOwx8Ljyq9wIewxzJEmSpKphmCNJklTkvv/++zRlypTcb6qMpZZaKndMqjlZmFNeZUsxyA9zTjnllHTzzTeniRMnxu/F/tgkSZKk2sQwR5IkqUix9su3334bM+GzBdVVOU2aNMkdk2pGVplDAMKaM8VemdOgQYPp1TeXXnppuvLKK9OoUaPidytzJEmSpKpjmCNJklSkCHM+//zz3G+aEauuumrumFQzCHNoizjXXHOleeaZJ3dq8cqvzGnVqlUc2rZtmzbZZJPUuXPneJySJEmSZp5hjiRJUpFiUPj333/P/aYZ0bhx49wxqWbwnuVACNKwYcPcqcWLypwszHn//ffT8OHD0+uvv5769++f1lhjjaKvPJIkSZJqC/esJUmSVO9R5ZS/cLtUXX766af4WZfCnKyVGlU4PCYqjvJDHkmSJEkzz71rSZIk1Xs//PBD+uKLL3K/SdXn559/jp+EOY0aNYrjxWz++eePtXGQBVWSJEmSqp5hjiRJkuo9qnL+/e9/536Tqk8WeFC5Uhcqc2hVOPvss8fxH3/8MX5KkiRJqnqz/Y9m65IkSSo6X3/9dWrWrFkcP+ecc9LJJ58cx1W2Z555JvXq1SuNGjUqnXrqqenss89OHTt2THfffXcs3C5VpyFDhqT11lsvtWrVKvXo0SO1bNky1tD5448/pq+nw3ECxop+VSNMqeiBKpo555zzb4fsNM4vS3Yff/vtt+k/33rrrXT77ben77//Pn3wwQepffv2uUtLkiRJqkqGOZIkSUXKMGfGGOZoVhowYEDaYostprdZI7TJ1mzK/8mhol/VWJuGA2vXZMcLf88/XhjwZKdla9+UJrt/+QcCnqlTp8bxoUOHptVXXz13aUmSJElVyTBHkiSpSL333ntpxRVXjOOGORWXH+bcddddaffddzfMUY2ZMmVK2nfffdOECRNyp0wLSVhLhxZsHGhXRtu/2vxVjUoeWqzNN998cVhkkUXSHXfckZo3b567hCRJkqSq5Jo5kiRJRWrs2LG5Y5pRCy+8cO6YVDOaNm2a+vXrl1599dXph9dffz3C2Y8//jhNnDgxwpys3VptPfzyyy9p8uTJacyYMWn48OHpySefNMiRJEmSqpFhjiRJUh3AwCrrV0iq/bJ2Z4WHwvZnxXLI7r8kSZKk6uMetyRJUh2QrbEhSZIkSZLqHsMcSZKkIvXll1/mjqVYSL1Bgwa531RRP/zwQ+6YVP2mTp1qBZ0kSZKkGWKYI0mSVKTGjRuXO6YZxXof+PXXX9O3334bx6XqwGvtuOOOS7169Up33nlnGj16dKyLo8ohgB01alTuN0mSJKn+MMyRJEkqUl999VXumCqjcePGae65547jWWUOaw5NmTIljkvVYbbZZksDBgxIN9xwQzr++OPTrrvumg499ND0/PPPR5ioijn33HPT7rvvnj777LPcKZIkSVL9YJgjSZJUpN55553cMVVG06ZNoy0dnnnmmfj5v//9zzWHVK1at26d+vfvn3bZZZc0YcKE9NZbb6Xbb7897bjjjmn77bdPr7zySu6SKsuIESPSsGHD0ptvvpk7RZIkSaofDHMkSZKKDMEDVSTDhw+P35nxz0EVs9BCC0V1Dl577bX4KVW32WefPa2yyirprrvuSiNHjkydOnVKf/zxR/ruu+/S008/ndZZZ510yCGHRNDDe1z/xPOSPTcTJ06Miia2hTxnVNkZyEqSJKkuM8yRJEkqMk888US0Gco0b948tWrVKvebyrPAAguk1VZbLX5mrMxRTSF4/b//+79Yo6l79+7pkUceibV02rZtm26++ebUpUuXNHDgwGj9p2ktEMeOHRsVOc8991ysFcb7leds0UUXjXB2scUWS+3atUsffvhh7q/+8p///Cf9/PPP8Xzbzk6SJEnFzDBHkiSpyPTu3TvW3sg0bNgwzTvvvLnfVBFHHHFE2mOPPWJQHQz4/vvf/47jUnUj0KFSh3CBEIJ1YB5++OEIab///vvUq1ev1K9fv/TTTz/l/uIvBBm//fZbBBRU9pSFy06aNCl9/PHHUcEyKwNLwpRPP/007gfvt7Jk4SqXGzx4cNpqq63SGmuskTbZZJP0/vvvx2V477Zs2TKtv/76abvttkv7779/BDvg77mdoUOHpvvvvz9dfvnl6cwzz0zXXXedIZkkSZKK1mx/7uhawy9JklREGPC97777pg+IrrDCCumKK65IG2ywQfyuimGQl0XoeR6XXXbZdP3116fOnTvnzpWqDxUkBBBU41xyySVpqaWWitMJaGjDduGFF6a55547XXDBBVGpM+ecc0ZA8fXXX6cXXngh2rQRSswzzzxppZVWikqzxRdfPK4jQ/u2e+65JwINgo1FFlkkdevWLbYT/B3X99lnn6Xx48dHoLTwwgvn/nIazidQIXSqCEKjZs2aTQ9IMzwmKmpoJcdlFlxwwQhmttlmmwhfuI2PPvooTufvCZ6eeuqp+Dven6wzRLg1//zzp2WWWSbOnzx5ctp5553TQQcdlJZYYom47w0aNIjbI+C6++67o4Uih1GjRk2vyOE6uC1uR5IkSSo2s5/xp9xxSZIkFQFaCj366KPTZ+0zqMtsfgZkGaR0/ZzyUYXDbP1s3SHCnMMOOyyqnKTq9tVXX6U77rgjAozNNtssNW3aNE4ntCGw4Cet1gh9Ntpoo2gJ+OKLL0ZV3k033RQBx0svvZSef/759Prrr6e33347zTfffGnJJZeMMIXQ5/TTT08XX3xxnM/1vPXWW/F6Z20egp3ff/89wqKrrroqNWnSJK266qpxH0CQM2zYsKhkofqF2x8zZkxcjr977LHH0qBBg+L+c9+ffPLJxNfKb775JoKaDNuo888/P1100UVRTUhVDfeDkKVFixZpxRVXTD/++GPq2bNnPCcEUoRb3O9nnnkm3qcEOsstt1zq0aNHHOc23n333Ti+2267xX2aY445creY4nnjvUzoRYiz3nrrpT333DMuv/3228e6RRUNqCRJkqTaxDBHkiSpyDAQ27p165i9zsAqLZcYaH3llVdi8JSBz2yWuv6O54sBZSofHnjggZj9z3O17bbbRtWCQZhqAhUqt912W4Qhm266aax7lZlrrrkilKEChZCEkJawccstt0wvv/xyhBm0FqNt2NZbbx1hCOHKO++8E2Eu2wbOY/0dXt9UrxBusG0g2FlrrbWimo/txjHHHBPr0XDa2muvnbsH08JOQqMbb7wxdejQIcKdI488MoITUB1I2EJVzA8//JCOP/74CE9Yz2aLLbaI8IeKN8KiK6+8Mk2YMCHCpVNOOSWqaLgfhNDZe+7AAw+M9yb3hcokHhMVO1QOHXXUUXHf2K6xRg7vX0KslVdeOaqWCnEdhFBgW0lQtNdee0WItfzyyxvkSJIkqWi5Zo4kSVKRYTCShdP79u0bg75gBjqz7k899dSYYc/gKguG13cMiL/66qupT58+0ZapY8eOMVP/mmuuidZToDLihBNO+Ed7KKm6ZGvmUEFDVV0hQhlep4Q9b775ZrQOI7DlJ2EJYQWVJlSc3H777RG88H6nrRpr7xC0EN5cdtllURVDBQuBCSEOrca4fcIWKnYISGj3lo8QiICICiHavREgcVmqXti2fP7552nq1Klx35gbSKUMaH/GaXjjjTciMOVyVMMQpBAKjR49OgIgQisQ4oCAh8fBZfhJeMNj4PI8V1nQmoUx2d8V2nDDDSNAIshhjZ4TTzwxHXroodPX2pEkSZKKld9YJUmSihBthbp27RrVOAcffHDMhGewk9nuzI5nRjzBBWvAsJ4Os9WZ7c6M+2ytnWLFYC+D2jwWBnsZDGewmcFnBq/33XffeOxUESy99NIxq/+kk06K8IvqBQaSGaSm2oGF5x955BHX0FCNYs0aWop98MEHEThShZIhpKAihYX/CUd4vWft/whvCSZoxcY2gMO8886bNt5442hZ9uWXX0b7M/6OMChrHcjlaDFG6EIQnF+d0rhx41i7JsPt33DDDfFeoaVjmzZtcuekCEGfeOKJ6cHnrbfeGtVCtFbbZ5994j3J9of357333hsBCvfvvffeSzvssENU0tAijsdPGMV5tFcDfwOqd3bZZZcIqjiN9YHyZc9Vtg4OWPfnwQcfjO0A722eI9YKopqoUaNGEXARJu23335xfVQlSZIkScXGMEeSJKmI0bKI9SWYnb/VVltFi6Vs/QgGO1lX44gjjoiBzE022SQqUBj0ZN0KFgKn/RELpZc2y31WI3gisJk4cWLcXwaFhwwZEoPIVASwiDyD2AxG07KJlky33HJLVAfwuDIEXQwcs9A8A8UMKLPOCLP2pZpG0Lj66qtHMEEQ8cUXX8RPAhSqbgg+CEOomiH0yEIb8DdZ8MH7lvdGv379IjgheGGNG8IWQhXe5/mhRz4CHapfuBwBEPeBw/XXXz/9fUGFDiFwPsKRrCUbt0OLNtb/2WabbeL+UA1DqMTj4X6zvhcVgzxeKnSoLGJ7RRjNfWAbBNodUj1ESzQCKG6D0IVQhkArk60LRmAFthG0ZuPvWIsH3A8CIyrynn322dSrV69oF0flEgE3oVT+9kGSJEkqBrP9uWP8156xJEmSihaz4gk6GNil5RLVOAz0llSJw4Asg5uEGwz+svYFgQhtnWirxGAzP5m1z4AroVFFMdD87bffzlAFEIPHVM7QAo3rYNY+64vQaokDA79ULVQUg8lUQFCFQ7UOLdVYa4OBXqkmZVUmvLYJGwhaL7300nhdEsISgNDKjDCEwILwg+oUQhJer6z9ct9990XFzY477pjmm2++aGFGdR6nUx1zzjnnxHuYAJfrb9WqVTr88MOnrzfDe7xp06bx3uY+XHXVVemss86K7QEhB9uQxx9/PG6fbQCBDKEp7dn233//eO/16NEjKoEIXqgQuvzyy+N37n/79u1jbRrux7HHHptGjRoVa+nw/ssq6bjfWeCMhx56KB4PoRD3h8AHVNnQKo3bpm1ctl4PlUFUFxFcUXHD9oEKOwLcp59+Op5PqoXuv//+qAQiFOJv2Sbeeeed8Vyxberdu3c8p7ZXlCRJUrEwzJEkSaqDGDSmioXqEwY5aefEoGdZAQsz4wltmBXPYC4/GRhm4JWwh1CH3/nJIHJprYo4nRAmqx6oDFqmcd2ENlwHgU5lMDDLfWQNEBaO5yehFQPjhFbSrEIYSdszKmEIUgg2WDMHtAbjPUZAwYFghko6gsgsbGBNrJNPPjnWluF9wulUqNB6bYMNNoiAY6ONNorKnaeeeiqqTwYMGBDvV0IRLkfbNEIdrp9Qhm3CjTfeGAEwwUvz5s0jTKEyiMDnzDPPjEoaqmj23nvvCJUIUHhfEuJsuumm0b4tqxradttt4/17ySWXpLPPPjtaH/KYCVsIhvOxLaI6htCZdX1Y64YWiflBD1V0bMu4TYJn8DyutNJKcZxgi+eQEIx1gc4777xoOUmlEPeX55Lrpd0igRW3x3lcB9U6tKPkcUqSJEnFwDBHkiSpDmPAmNn1LFhOGyZmrFOtw+x/DpXB4DEDsgwg03ppRsKaqsbANFUNLVq0iHZrDFoT2vCTA6EUg9nSrEYLM9a3ooKF1yivXcJTAhSqZXgN83rlQCBZWDFC+MH6OgQXtBjjd4ILrocKmfx1bziPwIJKvWHDhkWYm1UFgYqVgQMHxnGCIYIc7t/8888fAQjvKarkaPvGe55Qievi9tZdd92osiFEoeKFkCTDbfD41lxzzaiMob0a18/tEa5wvbR9Y1vE9bEt4n17yCGHRMUOt58ve7zrr7/+9NshCGMtHMIqgh9CW9ot7r777nGc541tHutnEVKxnSOoJrThtvl7KpWoSKI1Y+HzLEmSJNVWhjmSJEn1BAOZzKhnIPaXX36JQVYGOqngYXCYtSnKQ4DDoG9WUTAzGERl4JrBY9pBMVCcYfCVipqSUDHEYCy4HNUCWUs4flLlINU2VMwQdFC5xuuWw1xzzRWvWUIJQtKK4OtbVmFHUFnW3xFc8D4nfKUqhfcuAcpqq60WIUplcLsVuY/Z5WiXSEsz2q1x24ROvFd5Hrg/tFFje0K7s5NOOin31/9U0u0SShFMcx6t3Qhus6AZnM5tss4WgdSYMWNiu0dYRIVPp06dIqCy3aIkSZKKiWGOJElSPcbAKgd2CbMB4vJkl88wsMpM+0IERQQ2JbU3Y3Y/A68cuEzh7Pjs9JKUdZ6k0vG+5f1bU9VqbFM++eSTdPXVV8d6NmwTqDqi7SHVOrRpI1SZkQCWx4GytgXZ480uW9r2RpIkSSoGhjmSJEmSJEmSJEm1mFOSJEmS6hlaG7GGxrvvvhvt1ooN7ZneeOONWAdIkiRJkqT6wDBHkiRpFvvqq69i/QcW+q5oq7OZwbo5xxxzTDrggAMi0CkmtEt6/vnnY+Hy66+/Pv3000+5cyRJkiRJqrsMcyRJkqoB1S+vvPJKuvHGG9PYsWNzp/4Ti6Gfdtpp6bDDDkvnn39+rC9R3bjN8ePHp9GjR8cC4cWEDsGEXyziPmrUqFivR5IkSZKkus4wR5IkqRqMGzcuXX755enkk09OZ555ZoQQJXnppZfSrbfemt577700efLkNM888+TOqT7cF8Km77//Pn333Xfx+48//pi++OKL9PXXX6dff/01d8naKVvM/Icffkg///xz+v333+O5mzBhQjyemqhukiRJkiSpJhnmSJIkVQNChc8++yyqSO6///5S24Hddddd6d///ndabLHF0qmnnppatGiRO6f6cN8Ibwg9LrvssrTyyiunVVddNa233nppzTXXTLvuumtUvdRGhFAENyAI69GjR1pllVXS2muvndZdd920zjrrpIsuuijOlyRJkiSprjDMkSRJqgbLLrtsWnHFFeM4lS7Dhg2L4/k+/vjjNHDgwPR///d/6ZBDDkmdOnWK41WNNm8nnHBC2njjjdMiiyySVlhhhajCwZgxY2LdHNqtcTnu0+effx7VLjWNCiGqa7gP2e0T3jzwwANp5513Tquvvnpq2LBhOuOMM+I8AjIqmkaOHBl/w/3n8M0338T5kiRJkiTVFbP9+aW55J4fkiRJminPPPNM6tWrV1S5nHXWWVF5k6Eq5pxzzkkXXnhhmnPOOdMHH3zwj6ocqmdoe0ZoMffcc6cFFlggzTfffHH5fOzO0W6MKiAODRo0SM2bN08LLrhgmn322dOxxx6bLrnkktyl/47LtG/fPoKk1VZbLS2//PJp6aWXTo0aNcpdYhruL23NqCLi9rgP8847b9yvQpxPWPTyyy+nESNGxGNYfPHF4zZWWmmluM3ZZpst2rxxf19//fX06KOPRrBF1RA23HDD9PDDD0fIdPjhh6fXXnstTs/HbTdr1iyul4oiwrPlllsuLbroov8IxVgniPtPSMRt87fc/znmmCN3ib9k4dtbb72VPvzww3g+O3TokNZaa63Upk2bfzxm2r7xWKZOnRq3wf+pcePG8b/i+ZckSZIkaWYZ5kiSJFWTSZMmpd122y0999xzUVXy6quvTh/cHz16dJz35ptvRtVMnz594nQQOBCCPPTQQ+mmm26K6yEAIeDYe++9o8KGgAGELKzPc/fdd6c77rgjffLJJxEucFmCJC573XXXpSuuuCICGCpzWJfnnXfeiZCld+/e6ZhjjklzzTVXXF8hdhW//PLLuO+EU9xvbpO2cLQ043ERdBBeZLjMv/71r/TUU09NX98G3Ocdd9wxqpC4/LXXXjv9OsH9Iwjhcu3atUt33nlnhD2sO8Tz1LRp07Twwgunb7/9NoIWQhwe1xprrBF/XxIqe6jaGTx4cHr++efjsXA7Sy21VOrcuXOES1RRZQHZL7/8kvr27Rv3v7DCh8sRLHXv3j3uBwjahg4dmu65555op0cY1bJly7TZZpulvfbaK+5jdt2SJEmSJM0owxxJkqRqwm7WkUcema6//vqoaCFUWHLJJSOsYa0aAhwqSAgqWrduHX/DeYMGDYpWYgQWhCEEJ1R+cKByhuCGVmmgcoSqn0ceeSSCCIKDrPqEy1599dURXLzwwgsR4rC+DK3K9t9//6iGoTLoqKOOKrGChGqfF198cXpQwWMAl+Wxcd8IXXbaaad00EEHRUUM4cZJJ52Ubrzxxrg/3B4VR9wn7ithCmv0zD///BFygeNUBRGsUFnD7wQiVMIQxhAkEVi1bds2Hvcbb7wRIRVh0pVXXhm3URLCqieeeCLWJeI5Bc83zw2BFAhbuO+ETFQjsQ4Pv9O6jfCI55DgiUCNCise9y677JIuvvjieB769euXzj333KisomKH54D7ynldunRJl19+eTxHkiRJkiTNjNnPyJqOS5IkqUoRGhCIECTwk6CCShYqUQgh3n///VjAnwoOEBTQmuy0006LgIcqmuOPPz717NkzAgHWt6HtGC3FCBlo6XX00UdHOzJCik033TSqXgg5uB5ukyCHKhFCENqpNWnSJIIVQovhw4fHZbm+kqpHCJMIZqiwIVQh1CDIIAiiqoXwg6oUbov7Qpsz1qyh4uazzz6LihlCK4IS7gOPndZm48ePT5MnT44KG1CNs/XWW6cjjjgirb/++lHpQ1s28LiWWGKJCHo4jQoiKmZuuOGGtNBCC8X1ZpctRADFc/n222/H74RKhx56aDyGVVddNR4TLd44cDtU3lANNGDAgHiOzjvvvHTwwQenbt26pfXWWy+eS1qw8b9hDR/+jqohQipCISqh9txzz7i/hGCEXzwnPB5JkiRJkmZG1a+wK0mSpOkISrIWZLRBYx0cwh2CAOy+++7xEwQc9913X4QFVI4QImy55ZYRgvB71vaLkIgDIQoVOVTIEApddNFFEeYQ8BA2UB1S0po2/G1WiUOgkd8KLR+VQNwnzifsOfHEE6OaiMoVgheCGoIbruvee++NAxUtn3/+efw9FSvrrrturMFDULLtttums88+OwITqn26du0al6OC5vbbb4+QqH///qXenwzBC7jvWYVNSSZOnDh9DR6CHKpkeAzcf0IyqoeOO+64NGHChHTrrbemxx57LIIZQjDu23777RdhDNVU/B8Jdq655poIiahu4vERzBEqUSnE/4rHmd2mJEmSJElVxTBHkiSpGlFds/baa8dxKmsIdGhvRqhDuEHLMVCVw6L7DzzwQFSFgPZgm2++eVS40A6N6hdajREwEKAQ5LCwP9fPujdU3rCgP+3ULr300qi+oVKkELdFEAKCE37PEGRkYQwhVFaxQys1WsbxeAiDCIloDcf177rrrhH8cP+pzOF+UgFUuJYNIQyhCo+ZShbWA7rqqquikuWLL75ITz/9dFQpEYzQgq28UIcgJ/8yHKcdGvcFtGvL7j+t6Lbbbrs033zzxf2nqohKqVNPPTWqnqgkYv2e7G8JoQhs8vG88vx37NgxqqGyQI6QjXZ2G220UVQ63XLLLXE6IVZpLeAkSZIkSaoMwxxJkqRqRICx2267RYBAlQttvp599tk4naocWoyBEIUwhCoVAgHahxG4TJkyJf6Oll20+aIaJGvbRUUJCCioDuE2Mlwv4Q7nFeK2s6CCtmH5wQ5VK7RrI0zhctl1chphRkleeeWV+Jmt18NaObRDy6p/SsL1Zm3PaNVGZQxBCUHQ888/HyEWlUnvvvvu38ImcL3cF54TwqwMbetYX4h2Z5zH/c8QEBW2kuN6eX6pruH+cj7PBxo0aBA/S0N1Ec8X7es22WSTeMz8nzgQMi2zzDKx7hGPSZIkSZKkmWWYI0mSVM022GCDCFvyEVSw6H8WeBDmjBgxIo537949Wn6x7goL7dMa7LbbbouAZfvtt58eShDWgAocKnGo/OF6ykP1TvPmzeM469ZkAQYVJgRNXMfUqVMjCMpCDU4nPKKi6KeffkpfffVVeu+996I12qhRo6IKZauttpr+eAhlymqBBq5j3LhxEaRQkcMaPVS1UDHDbT/++OMRLhEW5V8XVUFUCHF/s0oaghXWuuEnt81j4DnnusF5BDfcdx4DLdheeOGFtMMOO8R9poKGdYCyqiguWxquY8iQIXH9Rx11VFRIUdXTu3fvWKOnb9++0QKPdXYkSZIkSaoKs5/BlEFJkiRVG8ITMOAPqmIIQWjLlYUfrLPCmjO0KSPMoHUaa7XQjozLUQFC27D86ptmzZpFIEFbtDfeeCPCIAISghgOVItwecKf/CoVKlJYG+aJJ56I87kdLn/dddfFej6s+7LPPvtE+zHWwHnnnXfiQAUL94/2YgQWhBeEGrRJO+mkk2KdHgInggyqfXr27PmPECvfOeecE9fB/aQtGwcCLlq30QaN26bahvvL8zHvvPPG3xHWEM589NFHqVWrVlGFRHUP6/EQxhCUUdnDbXP/Pvnkk7hftGD74IMP4jRCIy4/fvz4tNZaa0XF06KLLpqefPLJaPnWsmXLCM5KQvUN4RnPKYHa+uuvH88hrdk4zvNX2KJNkiRJkqSZYZgjSZJUAwg8WB+GyhEG+/fee+8IADKcTtDw2muvRViw+OKLR6uuLOzJR/hB+EKYw2VozUalCRUyVND0798/qnoIXWjdRsBDOEFAAgIc/uapp56KyhhamVEJRCUMgdEBBxyQunbtGiEQrd2o3uH2CIwIjwYPHhxhENUxXO7AAw+MdXO4r8OHD0+vvvpqhCoEVgsvvHDcZkm4PdYP4jETFnGdb775ZtwOj4dQhftOKNOlS5e04IILxt8RFL399ttx4G8Ij2jTxmUJZo477ri4XcIfniPuO4+XCibuO88NARgBGVVQrAVEEEOVD6EPgRX/ox133DFurxDVPjxfXAfXTaBDqFT4vyKEokKICiKqiUr6X0qSJEmSVBGz/fkl8+9NyCVJklTl2OU6+OCDI+wgQCAwydbLAWEOQclhhx0W1SgEBIQJVJmwDgzhCBUmtCIjxCBE2HDDDePyVKgQUFCdQiBEMJLfbo3qnuuvvz6ttNJKuVNSLPh/zDHHpPvvvz93SoqqEm6zR48eEYJkCC2okqGKhcCDMINghQCD9XuaNm2au2SKy1155ZXRFo3qlayapiQ8F1yGapjS2ppx3dxPnjuCJhDm0NqMEIbABzxHW265ZVT1UMWTVSJxP3h+CLq4LEEY6+0QENEajiqobC0gnrMHH3wwDvx/aBtXGm6fSiT+bzwH3C4VVNwPKoe4TUIq/pdcL4+BwCi/QkqSJEmSpIoyzJEkSaohVNxQ5UJQkh/kZBj0p+KDwmkqTghCCAdo2UVowFothB60ZON3KlDOP//8+FsW/Od0DlSCfPrpp9EWjYoUqlVoO9a4ceO4LAg5CBqoziHgWH311SNA4vZKW/yf2yRUIpCgdVx+y7cMl6FChvN4nCVdJsNleU6oHqL1GUEUIROPl7CIkISAhPVs+D3/ugiVqEIiwCJU6tixY1QzlXWbhEA8bipkstZ3hbLnmDWFSnsewDpDtKWjTRzPMfePaiDuO88R94/TWZ+Hqhza0m299daGOZIkSZKkGWKYI0mSVIsQBFCxctFFF0X1B7/nY10ZKnK22WabqKApbW0WQgvCC3b1CC5KCi84j+vnZ+G6OjWJUOe3336bHrYQxmSBEVVApd0vLsv9J5zh/tc0QjBat/Xp0yfCKO5/PsKdLbbYIv5P66233vQ2d5IkSZIkVZZhjiRJUi3F2i20LZswYUJU1bRt2zaqZ8pqXaaaR6A0ZsyY+F9RlURVT7t27eJAVY4kSZIkSTPLMEeSJEmSJEmSJKkWs2m3JEmSJEmSJElSLWaYI0mSJEmSJEmSVIsZ5kiSJEmSJEmSJNVihjmSJEmSJEmSJEm1mGGOJEmSJEmSJElSLWaYI0mSJEmSJEmSVIsZ5kiSJEmSJEmSJNVihjmSJEmSJEmSJEm1mGGOJEmSJEmSJElSLWaYI0mSJEmSJEmSVIsZ5kiSJEmSJEmSJNVihjmSJEmSJEmSJEm1mGGOJEmSJEmSJElSLWaYI0mSJEmSJEmSVIsZ5kiSJEmSJEmSJNVihjmSJEmSJEmSJEm1mGGOJEmSJEmSJElSLWaYI0mSJEmSJEmSVIsZ5kiSJEmSJEmSJNVihjmSJEmSJEmSJEm1Vkr/D5TdtUtK4B8MAAAAAElFTkSuQmCC)"
      ],
      "metadata": {
        "id": "1jdrVweeU8D4"
      }
    },
    {
      "cell_type": "code",
      "source": [],
      "metadata": {
        "id": "XaqtoDHkPeyc"
      },
      "execution_count": null,
      "outputs": []
    },
    {
      "cell_type": "code",
      "source": [],
      "metadata": {
        "id": "mlr5l4OaPevi"
      },
      "execution_count": null,
      "outputs": []
    },
    {
      "cell_type": "code",
      "source": [],
      "metadata": {
        "id": "kZVyTxOlPepT"
      },
      "execution_count": null,
      "outputs": []
    },
    {
      "cell_type": "markdown",
      "source": [
        "##Testing with unstructured Data Loader"
      ],
      "metadata": {
        "id": "zZlChhsCzL2_"
      }
    },
    {
      "cell_type": "code",
      "source": [
        "pip install unstructured"
      ],
      "metadata": {
        "colab": {
          "base_uri": "https://localhost:8080/"
        },
        "id": "zll_7Uk1zcLp",
        "outputId": "d90a1fc8-ec1e-402a-8dbb-09739707bb0a"
      },
      "execution_count": null,
      "outputs": [
        {
          "output_type": "stream",
          "name": "stdout",
          "text": [
            "Collecting unstructured\n",
            "  Downloading unstructured-0.13.3-py3-none-any.whl (1.9 MB)\n",
            "\u001b[2K     \u001b[90m━━━━━━━━━━━━━━━━━━━━━━━━━━━━━━━━━━━━━━━━\u001b[0m \u001b[32m1.9/1.9 MB\u001b[0m \u001b[31m9.7 MB/s\u001b[0m eta \u001b[36m0:00:00\u001b[0m\n",
            "\u001b[?25hCollecting chardet (from unstructured)\n",
            "  Downloading chardet-5.2.0-py3-none-any.whl (199 kB)\n",
            "\u001b[2K     \u001b[90m━━━━━━━━━━━━━━━━━━━━━━━━━━━━━━━━━━━━━━━━\u001b[0m \u001b[32m199.4/199.4 kB\u001b[0m \u001b[31m19.6 MB/s\u001b[0m eta \u001b[36m0:00:00\u001b[0m\n",
            "\u001b[?25hCollecting filetype (from unstructured)\n",
            "  Downloading filetype-1.2.0-py2.py3-none-any.whl (19 kB)\n",
            "Collecting python-magic (from unstructured)\n",
            "  Downloading python_magic-0.4.27-py2.py3-none-any.whl (13 kB)\n",
            "Collecting lxml (from unstructured)\n",
            "  Downloading lxml-5.2.1-cp310-cp310-manylinux_2_28_x86_64.whl (5.0 MB)\n",
            "\u001b[2K     \u001b[90m━━━━━━━━━━━━━━━━━━━━━━━━━━━━━━━━━━━━━━━━\u001b[0m \u001b[32m5.0/5.0 MB\u001b[0m \u001b[31m56.4 MB/s\u001b[0m eta \u001b[36m0:00:00\u001b[0m\n",
            "\u001b[?25hRequirement already satisfied: nltk in /usr/local/lib/python3.10/dist-packages (from unstructured) (3.8.1)\n",
            "Collecting tabulate (from unstructured)\n",
            "  Downloading tabulate-0.9.0-py3-none-any.whl (35 kB)\n",
            "Requirement already satisfied: requests in /usr/local/lib/python3.10/dist-packages (from unstructured) (2.31.0)\n",
            "Requirement already satisfied: beautifulsoup4 in /usr/local/lib/python3.10/dist-packages (from unstructured) (4.12.3)\n",
            "Collecting emoji (from unstructured)\n",
            "  Downloading emoji-2.11.1-py2.py3-none-any.whl (433 kB)\n",
            "\u001b[2K     \u001b[90m━━━━━━━━━━━━━━━━━━━━━━━━━━━━━━━━━━━━━━━━\u001b[0m \u001b[32m433.8/433.8 kB\u001b[0m \u001b[31m33.4 MB/s\u001b[0m eta \u001b[36m0:00:00\u001b[0m\n",
            "\u001b[?25hRequirement already satisfied: dataclasses-json in /usr/local/lib/python3.10/dist-packages (from unstructured) (0.6.4)\n",
            "Collecting python-iso639 (from unstructured)\n",
            "  Downloading python_iso639-2024.2.7-py3-none-any.whl (274 kB)\n",
            "\u001b[2K     \u001b[90m━━━━━━━━━━━━━━━━━━━━━━━━━━━━━━━━━━━━━━━━\u001b[0m \u001b[32m274.7/274.7 kB\u001b[0m \u001b[31m24.3 MB/s\u001b[0m eta \u001b[36m0:00:00\u001b[0m\n",
            "\u001b[?25hCollecting langdetect (from unstructured)\n",
            "  Downloading langdetect-1.0.9.tar.gz (981 kB)\n",
            "\u001b[2K     \u001b[90m━━━━━━━━━━━━━━━━━━━━━━━━━━━━━━━━━━━━━━━━\u001b[0m \u001b[32m981.5/981.5 kB\u001b[0m \u001b[31m50.3 MB/s\u001b[0m eta \u001b[36m0:00:00\u001b[0m\n",
            "\u001b[?25h  Preparing metadata (setup.py) ... \u001b[?25l\u001b[?25hdone\n",
            "Requirement already satisfied: numpy in /usr/local/lib/python3.10/dist-packages (from unstructured) (1.25.2)\n",
            "Collecting rapidfuzz (from unstructured)\n",
            "  Downloading rapidfuzz-3.8.1-cp310-cp310-manylinux_2_17_x86_64.manylinux2014_x86_64.whl (3.4 MB)\n",
            "\u001b[2K     \u001b[90m━━━━━━━━━━━━━━━━━━━━━━━━━━━━━━━━━━━━━━━━\u001b[0m \u001b[32m3.4/3.4 MB\u001b[0m \u001b[31m54.5 MB/s\u001b[0m eta \u001b[36m0:00:00\u001b[0m\n",
            "\u001b[?25hRequirement already satisfied: backoff in /usr/local/lib/python3.10/dist-packages (from unstructured) (2.2.1)\n",
            "Requirement already satisfied: typing-extensions in /usr/local/lib/python3.10/dist-packages (from unstructured) (4.11.0)\n",
            "Collecting unstructured-client (from unstructured)\n",
            "  Downloading unstructured_client-0.22.0-py3-none-any.whl (28 kB)\n",
            "Requirement already satisfied: wrapt in /usr/local/lib/python3.10/dist-packages (from unstructured) (1.14.1)\n",
            "Requirement already satisfied: soupsieve>1.2 in /usr/local/lib/python3.10/dist-packages (from beautifulsoup4->unstructured) (2.5)\n",
            "Requirement already satisfied: marshmallow<4.0.0,>=3.18.0 in /usr/local/lib/python3.10/dist-packages (from dataclasses-json->unstructured) (3.21.1)\n",
            "Requirement already satisfied: typing-inspect<1,>=0.4.0 in /usr/local/lib/python3.10/dist-packages (from dataclasses-json->unstructured) (0.9.0)\n",
            "Requirement already satisfied: six in /usr/local/lib/python3.10/dist-packages (from langdetect->unstructured) (1.16.0)\n",
            "Requirement already satisfied: click in /usr/local/lib/python3.10/dist-packages (from nltk->unstructured) (8.1.7)\n",
            "Requirement already satisfied: joblib in /usr/local/lib/python3.10/dist-packages (from nltk->unstructured) (1.4.0)\n",
            "Requirement already satisfied: regex>=2021.8.3 in /usr/local/lib/python3.10/dist-packages (from nltk->unstructured) (2024.4.16)\n",
            "Requirement already satisfied: tqdm in /usr/local/lib/python3.10/dist-packages (from nltk->unstructured) (4.66.2)\n",
            "Requirement already satisfied: charset-normalizer<4,>=2 in /usr/local/lib/python3.10/dist-packages (from requests->unstructured) (3.3.2)\n",
            "Requirement already satisfied: idna<4,>=2.5 in /usr/local/lib/python3.10/dist-packages (from requests->unstructured) (3.7)\n",
            "Requirement already satisfied: urllib3<3,>=1.21.1 in /usr/local/lib/python3.10/dist-packages (from requests->unstructured) (2.0.7)\n",
            "Requirement already satisfied: certifi>=2017.4.17 in /usr/local/lib/python3.10/dist-packages (from requests->unstructured) (2024.2.2)\n",
            "Collecting deepdiff>=6.0 (from unstructured-client->unstructured)\n",
            "  Downloading deepdiff-7.0.1-py3-none-any.whl (80 kB)\n",
            "\u001b[2K     \u001b[90m━━━━━━━━━━━━━━━━━━━━━━━━━━━━━━━━━━━━━━━━\u001b[0m \u001b[32m80.8/80.8 kB\u001b[0m \u001b[31m8.7 MB/s\u001b[0m eta \u001b[36m0:00:00\u001b[0m\n",
            "\u001b[?25hCollecting jsonpath-python>=1.0.6 (from unstructured-client->unstructured)\n",
            "  Downloading jsonpath_python-1.0.6-py3-none-any.whl (7.6 kB)\n",
            "Requirement already satisfied: mypy-extensions>=1.0.0 in /usr/local/lib/python3.10/dist-packages (from unstructured-client->unstructured) (1.0.0)\n",
            "Requirement already satisfied: packaging>=23.1 in /usr/local/lib/python3.10/dist-packages (from unstructured-client->unstructured) (23.2)\n",
            "Requirement already satisfied: pypdf>=4.0 in /usr/local/lib/python3.10/dist-packages (from unstructured-client->unstructured) (4.2.0)\n",
            "Requirement already satisfied: python-dateutil>=2.8.2 in /usr/local/lib/python3.10/dist-packages (from unstructured-client->unstructured) (2.9.0.post0)\n",
            "Collecting ordered-set<4.2.0,>=4.1.0 (from deepdiff>=6.0->unstructured-client->unstructured)\n",
            "  Downloading ordered_set-4.1.0-py3-none-any.whl (7.6 kB)\n",
            "Building wheels for collected packages: langdetect\n",
            "  Building wheel for langdetect (setup.py) ... \u001b[?25l\u001b[?25hdone\n",
            "  Created wheel for langdetect: filename=langdetect-1.0.9-py3-none-any.whl size=993227 sha256=5a3af70cc3e9b719f94b193e938908c1d983ebd375d38a50a0f6e55287399db2\n",
            "  Stored in directory: /root/.cache/pip/wheels/95/03/7d/59ea870c70ce4e5a370638b5462a7711ab78fba2f655d05106\n",
            "Successfully built langdetect\n",
            "Installing collected packages: filetype, tabulate, rapidfuzz, python-magic, python-iso639, ordered-set, lxml, langdetect, jsonpath-python, emoji, chardet, deepdiff, unstructured-client, unstructured\n",
            "Successfully installed chardet-5.2.0 deepdiff-7.0.1 emoji-2.11.1 filetype-1.2.0 jsonpath-python-1.0.6 langdetect-1.0.9 lxml-5.2.1 ordered-set-4.1.0 python-iso639-2024.2.7 python-magic-0.4.27 rapidfuzz-3.8.1 tabulate-0.9.0 unstructured-0.13.3 unstructured-client-0.22.0\n"
          ]
        }
      ]
    },
    {
      "cell_type": "code",
      "source": [
        "pip install pdf2image"
      ],
      "metadata": {
        "colab": {
          "base_uri": "https://localhost:8080/"
        },
        "id": "CrbEMcrCzsxu",
        "outputId": "21cea240-926e-4b02-baa3-2c588d8a856b"
      },
      "execution_count": null,
      "outputs": [
        {
          "output_type": "stream",
          "name": "stdout",
          "text": [
            "Collecting pdf2image\n",
            "  Downloading pdf2image-1.17.0-py3-none-any.whl (11 kB)\n",
            "Requirement already satisfied: pillow in /usr/local/lib/python3.10/dist-packages (from pdf2image) (10.3.0)\n",
            "Installing collected packages: pdf2image\n",
            "Successfully installed pdf2image-1.17.0\n"
          ]
        }
      ]
    },
    {
      "cell_type": "code",
      "source": [
        "#pip install pdfminer"
      ],
      "metadata": {
        "colab": {
          "base_uri": "https://localhost:8080/"
        },
        "id": "PrKsWH4Iz0ZY",
        "outputId": "4c4d0da5-aa9d-4883-b279-121b4ff1d9a2"
      },
      "execution_count": null,
      "outputs": [
        {
          "output_type": "stream",
          "name": "stdout",
          "text": [
            "Collecting pdfminer\n",
            "  Downloading pdfminer-20191125.tar.gz (4.2 MB)\n",
            "\u001b[2K     \u001b[90m━━━━━━━━━━━━━━━━━━━━━━━━━━━━━━━━━━━━━━━━\u001b[0m \u001b[32m4.2/4.2 MB\u001b[0m \u001b[31m14.9 MB/s\u001b[0m eta \u001b[36m0:00:00\u001b[0m\n",
            "\u001b[?25h  Preparing metadata (setup.py) ... \u001b[?25l\u001b[?25hdone\n",
            "Collecting pycryptodome (from pdfminer)\n",
            "  Downloading pycryptodome-3.20.0-cp35-abi3-manylinux_2_17_x86_64.manylinux2014_x86_64.whl (2.1 MB)\n",
            "\u001b[2K     \u001b[90m━━━━━━━━━━━━━━━━━━━━━━━━━━━━━━━━━━━━━━━━\u001b[0m \u001b[32m2.1/2.1 MB\u001b[0m \u001b[31m75.5 MB/s\u001b[0m eta \u001b[36m0:00:00\u001b[0m\n",
            "\u001b[?25hBuilding wheels for collected packages: pdfminer\n",
            "  Building wheel for pdfminer (setup.py) ... \u001b[?25l\u001b[?25hdone\n",
            "  Created wheel for pdfminer: filename=pdfminer-20191125-py3-none-any.whl size=6140123 sha256=dcd8d3499e466199f6c9394c51c667de082bca0c7024a4bfc8d643a7be67d08c\n",
            "  Stored in directory: /root/.cache/pip/wheels/4e/c1/68/f7bd0a8f514661f76b5cbe3b5f76e0033d79f1296012cbbf72\n",
            "Successfully built pdfminer\n",
            "Installing collected packages: pycryptodome, pdfminer\n",
            "Successfully installed pdfminer-20191125 pycryptodome-3.20.0\n"
          ]
        }
      ]
    },
    {
      "cell_type": "code",
      "source": [
        "pip install pdfminer.six"
      ],
      "metadata": {
        "colab": {
          "base_uri": "https://localhost:8080/"
        },
        "id": "Scb6Zoa80VOd",
        "outputId": "46dee2c6-17e8-4c99-dba3-2044275087a3"
      },
      "execution_count": null,
      "outputs": [
        {
          "output_type": "stream",
          "name": "stdout",
          "text": [
            "Collecting pdfminer.six\n",
            "  Downloading pdfminer.six-20231228-py3-none-any.whl (5.6 MB)\n",
            "\u001b[2K     \u001b[90m━━━━━━━━━━━━━━━━━━━━━━━━━━━━━━━━━━━━━━━━\u001b[0m \u001b[32m5.6/5.6 MB\u001b[0m \u001b[31m20.7 MB/s\u001b[0m eta \u001b[36m0:00:00\u001b[0m\n",
            "\u001b[?25hRequirement already satisfied: charset-normalizer>=2.0.0 in /usr/local/lib/python3.10/dist-packages (from pdfminer.six) (3.3.2)\n",
            "Collecting cryptography>=36.0.0 (from pdfminer.six)\n",
            "  Downloading cryptography-42.0.5-cp39-abi3-manylinux_2_28_x86_64.whl (4.6 MB)\n",
            "\u001b[2K     \u001b[90m━━━━━━━━━━━━━━━━━━━━━━━━━━━━━━━━━━━━━━━━\u001b[0m \u001b[32m4.6/4.6 MB\u001b[0m \u001b[31m63.2 MB/s\u001b[0m eta \u001b[36m0:00:00\u001b[0m\n",
            "\u001b[?25hRequirement already satisfied: cffi>=1.12 in /usr/local/lib/python3.10/dist-packages (from cryptography>=36.0.0->pdfminer.six) (1.16.0)\n",
            "Requirement already satisfied: pycparser in /usr/local/lib/python3.10/dist-packages (from cffi>=1.12->cryptography>=36.0.0->pdfminer.six) (2.22)\n",
            "Installing collected packages: cryptography, pdfminer.six\n",
            "  Attempting uninstall: cryptography\n",
            "    Found existing installation: cryptography 3.4.8\n",
            "    Uninstalling cryptography-3.4.8:\n",
            "      Successfully uninstalled cryptography-3.4.8\n",
            "Successfully installed cryptography-42.0.5 pdfminer.six-20231228\n"
          ]
        }
      ]
    },
    {
      "cell_type": "code",
      "source": [
        "pip install --upgrade pdfminer.six"
      ],
      "metadata": {
        "colab": {
          "base_uri": "https://localhost:8080/"
        },
        "id": "EFEIBNGMDg89",
        "outputId": "2ae49391-3632-42a1-f53d-d3e579abb9b8"
      },
      "execution_count": null,
      "outputs": [
        {
          "output_type": "stream",
          "name": "stdout",
          "text": [
            "Requirement already satisfied: pdfminer.six in /usr/local/lib/python3.10/dist-packages (20231228)\n",
            "Requirement already satisfied: charset-normalizer>=2.0.0 in /usr/local/lib/python3.10/dist-packages (from pdfminer.six) (3.3.2)\n",
            "Requirement already satisfied: cryptography>=36.0.0 in /usr/local/lib/python3.10/dist-packages (from pdfminer.six) (42.0.5)\n",
            "Requirement already satisfied: cffi>=1.12 in /usr/local/lib/python3.10/dist-packages (from cryptography>=36.0.0->pdfminer.six) (1.16.0)\n",
            "Requirement already satisfied: pycparser in /usr/local/lib/python3.10/dist-packages (from cffi>=1.12->cryptography>=36.0.0->pdfminer.six) (2.22)\n"
          ]
        }
      ]
    },
    {
      "cell_type": "code",
      "source": [
        "pip uninstall pdfminer.six"
      ],
      "metadata": {
        "id": "c0ACThotDywm"
      },
      "execution_count": null,
      "outputs": []
    },
    {
      "cell_type": "code",
      "source": [
        "pip uninstall pdfminer"
      ],
      "metadata": {
        "colab": {
          "base_uri": "https://localhost:8080/"
        },
        "id": "gkx60og28MUn",
        "outputId": "df34c772-955e-4b6c-ed74-0ff89bd2be16"
      },
      "execution_count": null,
      "outputs": [
        {
          "output_type": "stream",
          "name": "stdout",
          "text": [
            "Found existing installation: pdfminer 20191125\n",
            "Uninstalling pdfminer-20191125:\n",
            "  Would remove:\n",
            "    /usr/local/bin/dumppdf.py\n",
            "    /usr/local/bin/pdf2txt.py\n",
            "    /usr/local/lib/python3.10/dist-packages/pdfminer-20191125.dist-info/*\n",
            "    /usr/local/lib/python3.10/dist-packages/pdfminer/*\n",
            "Proceed (Y/n)? y\n",
            "  Successfully uninstalled pdfminer-20191125\n"
          ]
        }
      ]
    },
    {
      "cell_type": "code",
      "source": [
        "pip install pillow-heif"
      ],
      "metadata": {
        "colab": {
          "base_uri": "https://localhost:8080/"
        },
        "id": "_gfKgbvQEGR6",
        "outputId": "0203e36a-6cec-4cbd-d9e1-0239bd3f6d80"
      },
      "execution_count": null,
      "outputs": [
        {
          "output_type": "stream",
          "name": "stdout",
          "text": [
            "Collecting pillow-heif\n",
            "  Downloading pillow_heif-0.16.0-cp310-cp310-manylinux_2_17_x86_64.manylinux2014_x86_64.whl (7.5 MB)\n",
            "\u001b[2K     \u001b[90m━━━━━━━━━━━━━━━━━━━━━━━━━━━━━━━━━━━━━━━━\u001b[0m \u001b[32m7.5/7.5 MB\u001b[0m \u001b[31m21.4 MB/s\u001b[0m eta \u001b[36m0:00:00\u001b[0m\n",
            "\u001b[?25hRequirement already satisfied: pillow>=9.5.0 in /usr/local/lib/python3.10/dist-packages (from pillow-heif) (10.3.0)\n",
            "Installing collected packages: pillow-heif\n",
            "Successfully installed pillow-heif-0.16.0\n"
          ]
        }
      ]
    },
    {
      "cell_type": "code",
      "source": [
        "pip install pikepdf"
      ],
      "metadata": {
        "colab": {
          "base_uri": "https://localhost:8080/"
        },
        "id": "_Xeodf7pFtOu",
        "outputId": "1238f167-a1ea-488f-a304-fb7fb00e6d29"
      },
      "execution_count": null,
      "outputs": [
        {
          "output_type": "stream",
          "name": "stdout",
          "text": [
            "Requirement already satisfied: pikepdf in /usr/local/lib/python3.10/dist-packages (8.15.1)\n",
            "Requirement already satisfied: Pillow>=10.0.1 in /usr/local/lib/python3.10/dist-packages (from pikepdf) (10.3.0)\n",
            "Requirement already satisfied: Deprecated in /usr/local/lib/python3.10/dist-packages (from pikepdf) (1.2.14)\n",
            "Requirement already satisfied: lxml>=4.8 in /usr/local/lib/python3.10/dist-packages (from pikepdf) (5.2.1)\n",
            "Requirement already satisfied: packaging in /usr/local/lib/python3.10/dist-packages (from pikepdf) (23.2)\n",
            "Requirement already satisfied: wrapt<2,>=1.10 in /usr/local/lib/python3.10/dist-packages (from Deprecated->pikepdf) (1.14.1)\n"
          ]
        }
      ]
    },
    {
      "cell_type": "code",
      "source": [
        "pip install unstructured_inference"
      ],
      "metadata": {
        "id": "f21B1PFYLcRc"
      },
      "execution_count": null,
      "outputs": []
    },
    {
      "cell_type": "code",
      "source": [
        "pip install pytesseract"
      ],
      "metadata": {
        "colab": {
          "base_uri": "https://localhost:8080/"
        },
        "id": "kBwg-oBGLfaC",
        "outputId": "f5335fa2-48b1-4105-b9ea-e16b4d300c14"
      },
      "execution_count": null,
      "outputs": [
        {
          "output_type": "stream",
          "name": "stdout",
          "text": [
            "Requirement already satisfied: pytesseract in /usr/local/lib/python3.10/dist-packages (0.3.10)\n",
            "Requirement already satisfied: packaging>=21.3 in /usr/local/lib/python3.10/dist-packages (from pytesseract) (23.2)\n",
            "Requirement already satisfied: Pillow>=8.0.0 in /usr/local/lib/python3.10/dist-packages (from pytesseract) (10.3.0)\n"
          ]
        }
      ]
    },
    {
      "cell_type": "code",
      "source": [
        "pip install --upgrade pdf2image"
      ],
      "metadata": {
        "colab": {
          "base_uri": "https://localhost:8080/"
        },
        "id": "8Ug_FjuGMA_5",
        "outputId": "871d451f-2af0-4a99-8a9d-42792aff9e44"
      },
      "execution_count": null,
      "outputs": [
        {
          "output_type": "stream",
          "name": "stdout",
          "text": [
            "Requirement already satisfied: pdf2image in /usr/local/lib/python3.10/dist-packages (1.17.0)\n",
            "Requirement already satisfied: pillow in /usr/local/lib/python3.10/dist-packages (from pdf2image) (10.3.0)\n"
          ]
        }
      ]
    },
    {
      "cell_type": "code",
      "source": [
        "from langchain_community.document_loaders import UnstructuredPDFLoader"
      ],
      "metadata": {
        "id": "y30zkLNuzLC-"
      },
      "execution_count": null,
      "outputs": []
    },
    {
      "cell_type": "code",
      "source": [
        "loader = UnstructuredPDFLoader(\"/content/HighSchool_bio.pdf\")"
      ],
      "metadata": {
        "id": "X940rb_yzSu1"
      },
      "execution_count": null,
      "outputs": []
    },
    {
      "cell_type": "code",
      "source": [
        "data2 = loader.load()"
      ],
      "metadata": {
        "colab": {
          "base_uri": "https://localhost:8080/",
          "height": 287
        },
        "id": "520FdJkZzSmI",
        "outputId": "60458738-f504-4445-d959-1428f25bd81c"
      },
      "execution_count": null,
      "outputs": [
        {
          "output_type": "error",
          "ename": "KeyError",
          "evalue": "'8496a0a297ef80f2b195ca8a28b4e60f'",
          "traceback": [
            "\u001b[0;31m---------------------------------------------------------------------------\u001b[0m",
            "\u001b[0;31mKeyError\u001b[0m                                  Traceback (most recent call last)",
            "\u001b[0;32m<ipython-input-11-202238a8fb1d>\u001b[0m in \u001b[0;36m<cell line: 1>\u001b[0;34m()\u001b[0m\n\u001b[0;32m----> 1\u001b[0;31m \u001b[0mdata2\u001b[0m \u001b[0;34m=\u001b[0m \u001b[0mloader\u001b[0m\u001b[0;34m.\u001b[0m\u001b[0mload\u001b[0m\u001b[0;34m(\u001b[0m\u001b[0;34m)\u001b[0m\u001b[0;34m\u001b[0m\u001b[0;34m\u001b[0m\u001b[0m\n\u001b[0m",
            "\u001b[0;32m/usr/local/lib/python3.10/dist-packages/langchain_core/document_loaders/base.py\u001b[0m in \u001b[0;36mload\u001b[0;34m(self)\u001b[0m\n\u001b[1;32m     27\u001b[0m     \u001b[0;32mdef\u001b[0m \u001b[0mload\u001b[0m\u001b[0;34m(\u001b[0m\u001b[0mself\u001b[0m\u001b[0;34m)\u001b[0m \u001b[0;34m->\u001b[0m \u001b[0mList\u001b[0m\u001b[0;34m[\u001b[0m\u001b[0mDocument\u001b[0m\u001b[0;34m]\u001b[0m\u001b[0;34m:\u001b[0m\u001b[0;34m\u001b[0m\u001b[0;34m\u001b[0m\u001b[0m\n\u001b[1;32m     28\u001b[0m         \u001b[0;34m\"\"\"Load data into Document objects.\"\"\"\u001b[0m\u001b[0;34m\u001b[0m\u001b[0;34m\u001b[0m\u001b[0m\n\u001b[0;32m---> 29\u001b[0;31m         \u001b[0;32mreturn\u001b[0m \u001b[0mlist\u001b[0m\u001b[0;34m(\u001b[0m\u001b[0mself\u001b[0m\u001b[0;34m.\u001b[0m\u001b[0mlazy_load\u001b[0m\u001b[0;34m(\u001b[0m\u001b[0;34m)\u001b[0m\u001b[0;34m)\u001b[0m\u001b[0;34m\u001b[0m\u001b[0;34m\u001b[0m\u001b[0m\n\u001b[0m\u001b[1;32m     30\u001b[0m \u001b[0;34m\u001b[0m\u001b[0m\n\u001b[1;32m     31\u001b[0m     \u001b[0;32masync\u001b[0m \u001b[0;32mdef\u001b[0m \u001b[0maload\u001b[0m\u001b[0;34m(\u001b[0m\u001b[0mself\u001b[0m\u001b[0;34m)\u001b[0m \u001b[0;34m->\u001b[0m \u001b[0mList\u001b[0m\u001b[0;34m[\u001b[0m\u001b[0mDocument\u001b[0m\u001b[0;34m]\u001b[0m\u001b[0;34m:\u001b[0m\u001b[0;34m\u001b[0m\u001b[0;34m\u001b[0m\u001b[0m\n",
            "\u001b[0;32m/usr/local/lib/python3.10/dist-packages/langchain_community/document_loaders/unstructured.py\u001b[0m in \u001b[0;36mlazy_load\u001b[0;34m(self)\u001b[0m\n\u001b[1;32m     86\u001b[0m     \u001b[0;32mdef\u001b[0m \u001b[0mlazy_load\u001b[0m\u001b[0;34m(\u001b[0m\u001b[0mself\u001b[0m\u001b[0;34m)\u001b[0m \u001b[0;34m->\u001b[0m \u001b[0mIterator\u001b[0m\u001b[0;34m[\u001b[0m\u001b[0mDocument\u001b[0m\u001b[0;34m]\u001b[0m\u001b[0;34m:\u001b[0m\u001b[0;34m\u001b[0m\u001b[0;34m\u001b[0m\u001b[0m\n\u001b[1;32m     87\u001b[0m         \u001b[0;34m\"\"\"Load file.\"\"\"\u001b[0m\u001b[0;34m\u001b[0m\u001b[0;34m\u001b[0m\u001b[0m\n\u001b[0;32m---> 88\u001b[0;31m         \u001b[0melements\u001b[0m \u001b[0;34m=\u001b[0m \u001b[0mself\u001b[0m\u001b[0;34m.\u001b[0m\u001b[0m_get_elements\u001b[0m\u001b[0;34m(\u001b[0m\u001b[0;34m)\u001b[0m\u001b[0;34m\u001b[0m\u001b[0;34m\u001b[0m\u001b[0m\n\u001b[0m\u001b[1;32m     89\u001b[0m         \u001b[0mself\u001b[0m\u001b[0;34m.\u001b[0m\u001b[0m_post_process_elements\u001b[0m\u001b[0;34m(\u001b[0m\u001b[0melements\u001b[0m\u001b[0;34m)\u001b[0m\u001b[0;34m\u001b[0m\u001b[0;34m\u001b[0m\u001b[0m\n\u001b[1;32m     90\u001b[0m         \u001b[0;32mif\u001b[0m \u001b[0mself\u001b[0m\u001b[0;34m.\u001b[0m\u001b[0mmode\u001b[0m \u001b[0;34m==\u001b[0m \u001b[0;34m\"elements\"\u001b[0m\u001b[0;34m:\u001b[0m\u001b[0;34m\u001b[0m\u001b[0;34m\u001b[0m\u001b[0m\n",
            "\u001b[0;32m/usr/local/lib/python3.10/dist-packages/langchain_community/document_loaders/pdf.py\u001b[0m in \u001b[0;36m_get_elements\u001b[0;34m(self)\u001b[0m\n\u001b[1;32m     71\u001b[0m         \u001b[0;32mfrom\u001b[0m \u001b[0munstructured\u001b[0m\u001b[0;34m.\u001b[0m\u001b[0mpartition\u001b[0m\u001b[0;34m.\u001b[0m\u001b[0mpdf\u001b[0m \u001b[0;32mimport\u001b[0m \u001b[0mpartition_pdf\u001b[0m\u001b[0;34m\u001b[0m\u001b[0;34m\u001b[0m\u001b[0m\n\u001b[1;32m     72\u001b[0m \u001b[0;34m\u001b[0m\u001b[0m\n\u001b[0;32m---> 73\u001b[0;31m         \u001b[0;32mreturn\u001b[0m \u001b[0mpartition_pdf\u001b[0m\u001b[0;34m(\u001b[0m\u001b[0mfilename\u001b[0m\u001b[0;34m=\u001b[0m\u001b[0mself\u001b[0m\u001b[0;34m.\u001b[0m\u001b[0mfile_path\u001b[0m\u001b[0;34m,\u001b[0m \u001b[0;34m**\u001b[0m\u001b[0mself\u001b[0m\u001b[0;34m.\u001b[0m\u001b[0munstructured_kwargs\u001b[0m\u001b[0;34m)\u001b[0m\u001b[0;34m\u001b[0m\u001b[0;34m\u001b[0m\u001b[0m\n\u001b[0m\u001b[1;32m     74\u001b[0m \u001b[0;34m\u001b[0m\u001b[0m\n\u001b[1;32m     75\u001b[0m \u001b[0;34m\u001b[0m\u001b[0m\n",
            "\u001b[0;32m/usr/local/lib/python3.10/dist-packages/unstructured/documents/elements.py\u001b[0m in \u001b[0;36mwrapper\u001b[0;34m(*args, **kwargs)\u001b[0m\n\u001b[1;32m    573\u001b[0m             \u001b[0munique_element_ids\u001b[0m\u001b[0;34m:\u001b[0m \u001b[0mbool\u001b[0m \u001b[0;34m=\u001b[0m \u001b[0mparams\u001b[0m\u001b[0;34m.\u001b[0m\u001b[0mget\u001b[0m\u001b[0;34m(\u001b[0m\u001b[0;34m\"unique_element_ids\"\u001b[0m\u001b[0;34m,\u001b[0m \u001b[0;32mFalse\u001b[0m\u001b[0;34m)\u001b[0m\u001b[0;34m\u001b[0m\u001b[0;34m\u001b[0m\u001b[0m\n\u001b[1;32m    574\u001b[0m             \u001b[0;32mif\u001b[0m \u001b[0munique_element_ids\u001b[0m \u001b[0;32mis\u001b[0m \u001b[0;32mFalse\u001b[0m\u001b[0;34m:\u001b[0m\u001b[0;34m\u001b[0m\u001b[0;34m\u001b[0m\u001b[0m\n\u001b[0;32m--> 575\u001b[0;31m                 \u001b[0melements\u001b[0m \u001b[0;34m=\u001b[0m \u001b[0massign_and_map_hash_ids\u001b[0m\u001b[0;34m(\u001b[0m\u001b[0melements\u001b[0m\u001b[0;34m)\u001b[0m\u001b[0;34m\u001b[0m\u001b[0;34m\u001b[0m\u001b[0m\n\u001b[0m\u001b[1;32m    576\u001b[0m \u001b[0;34m\u001b[0m\u001b[0m\n\u001b[1;32m    577\u001b[0m             \u001b[0;32mreturn\u001b[0m \u001b[0melements\u001b[0m\u001b[0;34m\u001b[0m\u001b[0;34m\u001b[0m\u001b[0m\n",
            "\u001b[0;32m/usr/local/lib/python3.10/dist-packages/unstructured/documents/elements.py\u001b[0m in \u001b[0;36massign_and_map_hash_ids\u001b[0;34m(elements)\u001b[0m\n\u001b[1;32m    521\u001b[0m         \u001b[0;32mif\u001b[0m \u001b[0;32mnot\u001b[0m \u001b[0mparent_id\u001b[0m\u001b[0;34m:\u001b[0m\u001b[0;34m\u001b[0m\u001b[0;34m\u001b[0m\u001b[0m\n\u001b[1;32m    522\u001b[0m             \u001b[0;32mcontinue\u001b[0m\u001b[0;34m\u001b[0m\u001b[0;34m\u001b[0m\u001b[0m\n\u001b[0;32m--> 523\u001b[0;31m         \u001b[0me\u001b[0m\u001b[0;34m.\u001b[0m\u001b[0mmetadata\u001b[0m\u001b[0;34m.\u001b[0m\u001b[0mparent_id\u001b[0m \u001b[0;34m=\u001b[0m \u001b[0mold_to_new_mapping\u001b[0m\u001b[0;34m[\u001b[0m\u001b[0mparent_id\u001b[0m\u001b[0;34m]\u001b[0m\u001b[0;34m\u001b[0m\u001b[0;34m\u001b[0m\u001b[0m\n\u001b[0m\u001b[1;32m    524\u001b[0m \u001b[0;34m\u001b[0m\u001b[0m\n\u001b[1;32m    525\u001b[0m     \u001b[0;32mreturn\u001b[0m \u001b[0melements\u001b[0m\u001b[0;34m\u001b[0m\u001b[0;34m\u001b[0m\u001b[0m\n",
            "\u001b[0;31mKeyError\u001b[0m: '8496a0a297ef80f2b195ca8a28b4e60f'"
          ]
        }
      ]
    },
    {
      "cell_type": "code",
      "source": [
        "data1[17]"
      ],
      "metadata": {
        "colab": {
          "base_uri": "https://localhost:8080/",
          "height": 141
        },
        "id": "MkS3y9fm88T5",
        "outputId": "8a69f987-ffac-46da-ee95-5fabce2890ce"
      },
      "execution_count": null,
      "outputs": [
        {
          "output_type": "error",
          "ename": "NameError",
          "evalue": "name 'data1' is not defined",
          "traceback": [
            "\u001b[0;31m---------------------------------------------------------------------------\u001b[0m",
            "\u001b[0;31mNameError\u001b[0m                                 Traceback (most recent call last)",
            "\u001b[0;32m<ipython-input-12-22f6e3a934ad>\u001b[0m in \u001b[0;36m<cell line: 1>\u001b[0;34m()\u001b[0m\n\u001b[0;32m----> 1\u001b[0;31m \u001b[0mdata1\u001b[0m\u001b[0;34m[\u001b[0m\u001b[0;36m17\u001b[0m\u001b[0;34m]\u001b[0m\u001b[0;34m\u001b[0m\u001b[0;34m\u001b[0m\u001b[0m\n\u001b[0m",
            "\u001b[0;31mNameError\u001b[0m: name 'data1' is not defined"
          ]
        }
      ]
    },
    {
      "cell_type": "code",
      "source": [],
      "metadata": {
        "id": "j5MnEuwbN7dB"
      },
      "execution_count": null,
      "outputs": []
    },
    {
      "cell_type": "markdown",
      "source": [
        "## JSON Loader"
      ],
      "metadata": {
        "id": "zJpLdNJpOHhM"
      }
    },
    {
      "cell_type": "code",
      "execution_count": null,
      "metadata": {
        "id": "aE0lL7_RPwYj"
      },
      "outputs": [],
      "source": [
        "import os\n",
        "\n",
        "langsmth_api_key = \"ls__67641b5f75964b90b9bedc147d816272\"\n",
        "os.environ['LANGCHAIN_TRACING_V2'] = 'true'\n",
        "os.environ['LANGCHAIN_ENDPOINT'] = 'https://api.smith.langchain.com'\n",
        "os.environ['LANGCHAIN_API_KEY'] = langsmth_api_key"
      ]
    },
    {
      "cell_type": "code",
      "source": [
        "import json\n",
        "from pathlib import Path\n",
        "from pprint import pprint\n",
        "\n",
        "\n",
        "file_path='/content/HighSchool_bio_data.json'\n",
        "data = json.loads(Path(file_path).read_text())"
      ],
      "metadata": {
        "id": "LrqPK4LnQ8im"
      },
      "execution_count": null,
      "outputs": []
    },
    {
      "cell_type": "code",
      "source": [
        "pprint(data)"
      ],
      "metadata": {
        "colab": {
          "base_uri": "https://localhost:8080/"
        },
        "id": "awQ3VrxtRHVZ",
        "outputId": "4bcec9c5-237c-419f-b82a-1c31067bd171"
      },
      "execution_count": null,
      "outputs": [
        {
          "output_type": "stream",
          "name": "stdout",
          "text": [
            "[Document(page_content='', metadata={'source': '/content/HighSchool_bio_data.json', 'seq_num': 1})]\n"
          ]
        }
      ]
    },
    {
      "cell_type": "code",
      "source": [
        "from langchain_community.document_loaders import JSONLoader\n",
        "\n",
        "\n",
        "loader = JSONLoader(\n",
        "    file_path='/content/HighSchool_bio_data.json',\n",
        "    jq_schema='.page',\n",
        "    text_content=True,\n",
        "    json_lines=False)\n",
        "\n",
        "data = loader.load()"
      ],
      "metadata": {
        "id": "l9wFJsBUP4hD"
      },
      "execution_count": null,
      "outputs": []
    },
    {
      "cell_type": "code",
      "source": [
        "pprint(data)"
      ],
      "metadata": {
        "colab": {
          "base_uri": "https://localhost:8080/"
        },
        "id": "-WmVHsJZSQmf",
        "outputId": "90d4a126-44f7-4261-cbad-95eaa77e41d4"
      },
      "execution_count": null,
      "outputs": [
        {
          "output_type": "stream",
          "name": "stdout",
          "text": [
            "[Document(page_content='', metadata={'source': '/content/HighSchool_bio_data.json', 'seq_num': 1})]\n"
          ]
        }
      ]
    },
    {
      "cell_type": "code",
      "source": [
        "import json\n",
        "\n",
        "with open('/content/HighSchool_bio_data.json', 'r') as f:\n",
        "    data = json.load(f)\n",
        "    print(json.dumps(data, indent=4))"
      ],
      "metadata": {
        "id": "7wu0FSviP5Jw"
      },
      "execution_count": null,
      "outputs": []
    },
    {
      "cell_type": "code",
      "source": [],
      "metadata": {
        "id": "SQtjNe4UP5HQ"
      },
      "execution_count": null,
      "outputs": []
    },
    {
      "cell_type": "code",
      "source": [],
      "metadata": {
        "id": "SZXgW4Q9P5BK"
      },
      "execution_count": null,
      "outputs": []
    },
    {
      "cell_type": "code",
      "source": [],
      "metadata": {
        "id": "4JrL_xijP4_F"
      },
      "execution_count": null,
      "outputs": []
    },
    {
      "cell_type": "code",
      "source": [],
      "metadata": {
        "id": "F817W17eP48d"
      },
      "execution_count": null,
      "outputs": []
    },
    {
      "cell_type": "code",
      "source": [],
      "metadata": {
        "id": "ep60vrksP440"
      },
      "execution_count": null,
      "outputs": []
    },
    {
      "cell_type": "code",
      "source": [],
      "metadata": {
        "id": "7Y08Z2PiP42D"
      },
      "execution_count": null,
      "outputs": []
    }
  ]
}